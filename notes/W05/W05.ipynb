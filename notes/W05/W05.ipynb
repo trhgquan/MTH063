{
 "cells": [
  {
   "cell_type": "code",
   "execution_count": 8,
   "id": "5282a523-3ce2-4f0f-b800-b62869156567",
   "metadata": {},
   "outputs": [],
   "source": [
    "import numpy as np\n",
    "import pandas as pd\n",
    "import matplotlib.pyplot as plt\n",
    "import statsmodels.api as sm\n",
    "import statsmodels.formula.api as smf\n",
    "from patsy import dmatrices"
   ]
  },
  {
   "cell_type": "markdown",
   "id": "1547bfa4-bdf1-454c-b6e9-6417b3ddf32d",
   "metadata": {
    "jp-MarkdownHeadingCollapsed": true
   },
   "source": [
    "# Overview"
   ]
  },
  {
   "cell_type": "markdown",
   "id": "5f3bb2c6-48a1-4e71-be5b-406f5f1422a8",
   "metadata": {
    "jp-MarkdownHeadingCollapsed": true
   },
   "source": [
    "<img src=\"analyze-overview-1.jpg\"/>\n",
    "<br/>\n",
    "<img src=\"analyze-overview-2.jpg\"/>"
   ]
  },
  {
   "cell_type": "markdown",
   "id": "ff1c70d9-f8af-46eb-96c9-2157cf0ed517",
   "metadata": {},
   "source": [
    "Random variable: \n",
    "- ước lượng điểm\n",
    "- khoảng tin cậy"
   ]
  },
  {
   "cell_type": "markdown",
   "id": "421fc5a0-47aa-42d3-94a6-6235b48594f1",
   "metadata": {},
   "source": [
    "Tiêu chuẩn lựa chọn phương pháp ước lượng\n",
    "\n",
    "- Unbiased: $\\theta = \\mathbb{E}(\\hat{\\theta})$\n",
    "- Consistent: $\\displaystyle \\lim_{n \\rightarrow \\infty} P(|\\hat{\\theta} - \\theta| < \\epsilon)$\n",
    "- Efficient: "
   ]
  },
  {
   "cell_type": "markdown",
   "id": "384ea770-57f0-42fd-a18d-6e7b550e95e4",
   "metadata": {
    "jp-MarkdownHeadingCollapsed": true
   },
   "source": [
    "# Ước lượng khoảng tin cậy cho tham số"
   ]
  },
  {
   "cell_type": "markdown",
   "id": "696d5294-2660-4188-84c8-f754d827cf54",
   "metadata": {},
   "source": [
    "<img src=\"517.jpg\"/>"
   ]
  },
  {
   "cell_type": "code",
   "execution_count": 3,
   "id": "215eb18e-bec6-4c9f-aeb1-3a067b6037ca",
   "metadata": {},
   "outputs": [],
   "source": [
    "sample_y = np.array([1, 3, 7, 9, 5, 2])\n",
    "sample_x = np.array([(140+145)/2, (145+150)/2, (150+155)/2, (155+160)/2, (160+165)/2, (165+170)/2])"
   ]
  },
  {
   "cell_type": "code",
   "execution_count": 4,
   "id": "32a7a528-3654-4161-b44b-7016a23c32e4",
   "metadata": {},
   "outputs": [
    {
     "data": {
      "text/plain": [
       "array([142.5, 147.5, 152.5, 157.5, 162.5, 167.5])"
      ]
     },
     "execution_count": 4,
     "metadata": {},
     "output_type": "execute_result"
    }
   ],
   "source": [
    "sample_x"
   ]
  },
  {
   "cell_type": "code",
   "execution_count": 5,
   "id": "40c89b8b-9e93-47d9-bf42-167acd31da51",
   "metadata": {},
   "outputs": [
    {
     "data": {
      "text/plain": [
       "array([1, 3, 7, 9, 5, 2])"
      ]
     },
     "execution_count": 5,
     "metadata": {},
     "output_type": "execute_result"
    }
   ],
   "source": [
    "sample_y"
   ]
  },
  {
   "cell_type": "code",
   "execution_count": 6,
   "id": "36912cc0-46ce-4295-a42a-e82eef2c29fe",
   "metadata": {},
   "outputs": [],
   "source": [
    "sample_x_mean = sample_x @ sample_y.T / np.sum(sample_y)"
   ]
  },
  {
   "cell_type": "code",
   "execution_count": 7,
   "id": "1f895839-f8fd-4051-8a38-5b0998a04a10",
   "metadata": {},
   "outputs": [
    {
     "data": {
      "text/plain": [
       "156.2037037037037"
      ]
     },
     "execution_count": 7,
     "metadata": {},
     "output_type": "execute_result"
    }
   ],
   "source": [
    "sample_x_mean"
   ]
  },
  {
   "cell_type": "code",
   "execution_count": 8,
   "id": "ffe3a335-5036-4dd8-9710-e9272982a937",
   "metadata": {},
   "outputs": [],
   "source": [
    "sample_x_square_mean = (sample_x - sample_x_mean) ** 2"
   ]
  },
  {
   "cell_type": "code",
   "execution_count": 11,
   "id": "a7c44c49-4f53-48ee-a10b-34dad6530d4a",
   "metadata": {},
   "outputs": [],
   "source": [
    "sample_x_var = sample_x_square_mean @ sample_y.T / (np.sum(sample_y) - 1)"
   ]
  },
  {
   "cell_type": "code",
   "execution_count": 12,
   "id": "cbaabc50-b1cd-4164-89e0-a4ac0a42cab9",
   "metadata": {},
   "outputs": [
    {
     "data": {
      "text/plain": [
       "37.67806267806268"
      ]
     },
     "execution_count": 12,
     "metadata": {},
     "output_type": "execute_result"
    }
   ],
   "source": [
    "sample_x_var"
   ]
  },
  {
   "cell_type": "code",
   "execution_count": 13,
   "id": "f8fb0cf9-813e-44ce-99f3-575606cbd309",
   "metadata": {},
   "outputs": [],
   "source": [
    "#TODO: b"
   ]
  },
  {
   "cell_type": "markdown",
   "id": "e1151a6e-4149-4d03-a6be-f34aed447fef",
   "metadata": {
    "jp-MarkdownHeadingCollapsed": true
   },
   "source": [
    "# Linear Regression Revisited"
   ]
  },
  {
   "cell_type": "markdown",
   "id": "190fccb6-7e2c-4150-a401-73743e61fc2c",
   "metadata": {},
   "source": [
    "Estimate confidence interval for $\\hat{w}$. Given that $\\epsilon = |\\hat{y} - y|$, there's an assumption state that $\\epsilon_i \\sim \\mathcal{N}(\\mu_i = 0, \\sigma_i)$, or, $\\sigma = \\sigma_i\\ \\forall i$"
   ]
  },
  {
   "cell_type": "markdown",
   "id": "adfd2037-8d8c-4439-acc7-8b4625477100",
   "metadata": {},
   "source": [
    "Assuming $y \\sim [x_1, x_2, .., x_D]$, or, $y = w_0 + w_1x_1 + w_2x_2 + .. + w_Dx_D + \\epsilon$"
   ]
  },
  {
   "cell_type": "markdown",
   "id": "c6e95ac8-17c9-4eb8-9e04-99d003b49be5",
   "metadata": {},
   "source": [
    "Parameters must be $\\neq 0$ to be meaningful"
   ]
  },
  {
   "cell_type": "markdown",
   "id": "e8f513eb-df26-4697-872d-8ddf3652345a",
   "metadata": {},
   "source": [
    "# Hypothesis testing"
   ]
  },
  {
   "cell_type": "markdown",
   "id": "7240862a-7e50-4280-9b1a-d0e102d00c4c",
   "metadata": {},
   "source": [
    "Quan tâm tới p-value, $p < \\alpha$ thì bác bỏ. Làm lại 7.2 dùng statsmodel"
   ]
  },
  {
   "cell_type": "code",
   "execution_count": 3,
   "id": "c4665cba-08a1-41d9-9792-9086c8d537f9",
   "metadata": {},
   "outputs": [],
   "source": [
    "df = pd.DataFrame({\"income\": [31, 50, 47, 45, 39, 50, 35, 40, 45, 50], \"expense\": [29, 42, 38, 30, 29, 41, 23, 36, 42, 48]})"
   ]
  },
  {
   "cell_type": "code",
   "execution_count": 4,
   "id": "a1a06934-3033-4ad2-9bcf-f739a2de8134",
   "metadata": {},
   "outputs": [
    {
     "data": {
      "text/html": [
       "<div>\n",
       "<style scoped>\n",
       "    .dataframe tbody tr th:only-of-type {\n",
       "        vertical-align: middle;\n",
       "    }\n",
       "\n",
       "    .dataframe tbody tr th {\n",
       "        vertical-align: top;\n",
       "    }\n",
       "\n",
       "    .dataframe thead th {\n",
       "        text-align: right;\n",
       "    }\n",
       "</style>\n",
       "<table border=\"1\" class=\"dataframe\">\n",
       "  <thead>\n",
       "    <tr style=\"text-align: right;\">\n",
       "      <th></th>\n",
       "      <th>income</th>\n",
       "      <th>expense</th>\n",
       "    </tr>\n",
       "  </thead>\n",
       "  <tbody>\n",
       "    <tr>\n",
       "      <th>0</th>\n",
       "      <td>31</td>\n",
       "      <td>29</td>\n",
       "    </tr>\n",
       "    <tr>\n",
       "      <th>1</th>\n",
       "      <td>50</td>\n",
       "      <td>42</td>\n",
       "    </tr>\n",
       "    <tr>\n",
       "      <th>2</th>\n",
       "      <td>47</td>\n",
       "      <td>38</td>\n",
       "    </tr>\n",
       "    <tr>\n",
       "      <th>3</th>\n",
       "      <td>45</td>\n",
       "      <td>30</td>\n",
       "    </tr>\n",
       "    <tr>\n",
       "      <th>4</th>\n",
       "      <td>39</td>\n",
       "      <td>29</td>\n",
       "    </tr>\n",
       "    <tr>\n",
       "      <th>5</th>\n",
       "      <td>50</td>\n",
       "      <td>41</td>\n",
       "    </tr>\n",
       "    <tr>\n",
       "      <th>6</th>\n",
       "      <td>35</td>\n",
       "      <td>23</td>\n",
       "    </tr>\n",
       "    <tr>\n",
       "      <th>7</th>\n",
       "      <td>40</td>\n",
       "      <td>36</td>\n",
       "    </tr>\n",
       "    <tr>\n",
       "      <th>8</th>\n",
       "      <td>45</td>\n",
       "      <td>42</td>\n",
       "    </tr>\n",
       "    <tr>\n",
       "      <th>9</th>\n",
       "      <td>50</td>\n",
       "      <td>48</td>\n",
       "    </tr>\n",
       "  </tbody>\n",
       "</table>\n",
       "</div>"
      ],
      "text/plain": [
       "   income  expense\n",
       "0      31       29\n",
       "1      50       42\n",
       "2      47       38\n",
       "3      45       30\n",
       "4      39       29\n",
       "5      50       41\n",
       "6      35       23\n",
       "7      40       36\n",
       "8      45       42\n",
       "9      50       48"
      ]
     },
     "execution_count": 4,
     "metadata": {},
     "output_type": "execute_result"
    }
   ],
   "source": [
    "df"
   ]
  },
  {
   "cell_type": "code",
   "execution_count": 10,
   "id": "aa96377e-fe10-4f36-ae68-60a7adb4b8f1",
   "metadata": {},
   "outputs": [],
   "source": [
    "results = smf.ols(\"expense ~ income\", data = df).fit()"
   ]
  },
  {
   "cell_type": "code",
   "execution_count": 13,
   "id": "5a97532a-2543-42ee-b199-fd56af881d40",
   "metadata": {},
   "outputs": [
    {
     "name": "stdout",
     "output_type": "stream",
     "text": [
      "                            OLS Regression Results                            \n",
      "==============================================================================\n",
      "Dep. Variable:                expense   R-squared:                       0.672\n",
      "Model:                            OLS   Adj. R-squared:                  0.631\n",
      "Method:                 Least Squares   F-statistic:                     16.39\n",
      "Date:                Sat, 20 May 2023   Prob (F-statistic):            0.00369\n",
      "Time:                        10:48:40   Log-Likelihood:                -28.630\n",
      "No. Observations:                  10   AIC:                             61.26\n",
      "Df Residuals:                       8   BIC:                             61.86\n",
      "Df Model:                           1                                         \n",
      "Covariance Type:            nonrobust                                         \n",
      "==============================================================================\n",
      "                 coef    std err          t      P>|t|      [0.025      0.975]\n",
      "------------------------------------------------------------------------------\n",
      "Intercept     -5.4519     10.298     -0.529      0.611     -29.198      18.294\n",
      "income         0.9549      0.236      4.049      0.004       0.411       1.499\n",
      "==============================================================================\n",
      "Omnibus:                        0.776   Durbin-Watson:                   0.967\n",
      "Prob(Omnibus):                  0.679   Jarque-Bera (JB):                0.605\n",
      "Skew:                          -0.197   Prob(JB):                        0.739\n",
      "Kurtosis:                       1.861   Cond. No.                         300.\n",
      "==============================================================================\n",
      "\n",
      "Notes:\n",
      "[1] Standard Errors assume that the covariance matrix of the errors is correctly specified.\n"
     ]
    },
    {
     "name": "stderr",
     "output_type": "stream",
     "text": [
      "D:\\Software\\Python\\lib\\site-packages\\scipy\\stats\\_stats_py.py:1736: UserWarning: kurtosistest only valid for n>=20 ... continuing anyway, n=10\n",
      "  warnings.warn(\"kurtosistest only valid for n>=20 ... continuing \"\n"
     ]
    }
   ],
   "source": [
    "print(results.summary())"
   ]
  },
  {
   "cell_type": "markdown",
   "id": "9b886c06-677b-4479-9ee7-5f6bf3615efc",
   "metadata": {},
   "source": [
    "Let $\\beta_0 = -5.4519, \\beta_1 = 0.9549$. Hence,\n",
    "$$\n",
    "\\text{expense} = -5.4519 + 0.9549\\times\\text{income}\n",
    "$$\n",
    "\n"
   ]
  },
  {
   "cell_type": "markdown",
   "id": "c370d448-eb0c-4b0b-a249-6d6201115d95",
   "metadata": {},
   "source": [
    "$R^2$ is just around $0.672$, that means the model can explain at most $67%$. We might want to add more data / use a different model"
   ]
  },
  {
   "cell_type": "code",
   "execution_count": 14,
   "id": "7c0893b1-9bd6-4155-8091-d12f52871f55",
   "metadata": {},
   "outputs": [
    {
     "data": {
      "text/plain": [
       "32.744099999999996"
      ]
     },
     "execution_count": 14,
     "metadata": {},
     "output_type": "execute_result"
    }
   ],
   "source": [
    "-5.4519 + 0.9549 * 40"
   ]
  },
  {
   "cell_type": "code",
   "execution_count": null,
   "id": "d7f39a7f-5c0a-444a-b1a5-a801d7b96fff",
   "metadata": {},
   "outputs": [],
   "source": []
  }
 ],
 "metadata": {
  "kernelspec": {
   "display_name": "Python 3 (ipykernel)",
   "language": "python",
   "name": "python3"
  },
  "language_info": {
   "codemirror_mode": {
    "name": "ipython",
    "version": 3
   },
   "file_extension": ".py",
   "mimetype": "text/x-python",
   "name": "python",
   "nbconvert_exporter": "python",
   "pygments_lexer": "ipython3",
   "version": "3.9.7"
  }
 },
 "nbformat": 4,
 "nbformat_minor": 5
}
