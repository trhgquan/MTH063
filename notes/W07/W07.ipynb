{
 "cells": [
  {
   "cell_type": "markdown",
   "id": "0504a717-dff8-44f3-b593-b5a0d679f2c3",
   "metadata": {},
   "source": [
    "# Kiểm định mô hình (cont.)"
   ]
  },
  {
   "cell_type": "code",
   "execution_count": 1,
   "id": "f97108ef-7799-4f4d-90ad-7e3dac645bba",
   "metadata": {},
   "outputs": [],
   "source": [
    "import numpy as np\n",
    "import pandas as pd\n",
    "import scipy.stats as stats\n",
    "import matplotlib.pyplot as plt\n",
    "import statsmodels.api as sm\n",
    "import statsmodels.formula.api as smf\n",
    "from patsy import dmatrices"
   ]
  },
  {
   "cell_type": "code",
   "execution_count": 2,
   "id": "03891e86-6bd0-48b0-b8bd-0a0c0a74dd49",
   "metadata": {},
   "outputs": [],
   "source": [
    "np.random.seed(42)"
   ]
  },
  {
   "cell_type": "markdown",
   "id": "902505ca-7a65-4e14-b8c6-31ceec96b53a",
   "metadata": {},
   "source": [
    "## Kiểm định đa cộng tuyến"
   ]
  },
  {
   "cell_type": "code",
   "execution_count": 3,
   "id": "f51bb45b-ac0e-4da7-bc2e-0b93c4b9caa4",
   "metadata": {},
   "outputs": [],
   "source": [
    "y = np.array([6, 8, 8, 7, 7, 12, 9, 8, 9, 10, 10, 11, 9, 10, 11])\n",
    "x1 = np.array([9, 10, 8, 7, 10, 4, 5, 5, 6, 8, 7, 4, 9, 5, 8])\n",
    "x2 = np.array([8, 13, 11, 10, 12, 16, 10, 10, 12, 14, 12, 16, 14, 10, 12])"
   ]
  },
  {
   "cell_type": "code",
   "execution_count": 4,
   "id": "a59ddb09-8f5f-45e3-b289-6abd0580061a",
   "metadata": {},
   "outputs": [],
   "source": [
    "df = pd.DataFrame({\"x1\" : x1, \"x2\": x2, \"y\" : y})"
   ]
  },
  {
   "cell_type": "code",
   "execution_count": 5,
   "id": "8f6426fd-5d50-41c2-992a-e008b91a4077",
   "metadata": {},
   "outputs": [],
   "source": [
    "result = smf.ols(\"y ~ x1 + x2\", df).fit()"
   ]
  },
  {
   "cell_type": "code",
   "execution_count": 6,
   "id": "40fcae39-0551-44ca-bdff-09815469e5fb",
   "metadata": {},
   "outputs": [
    {
     "name": "stdout",
     "output_type": "stream",
     "text": [
      "                            OLS Regression Results                            \n",
      "==============================================================================\n",
      "Dep. Variable:                      y   R-squared:                       0.693\n",
      "Model:                            OLS   Adj. R-squared:                  0.642\n",
      "Method:                 Least Squares   F-statistic:                     13.56\n",
      "Date:                Sat, 10 Jun 2023   Prob (F-statistic):           0.000834\n",
      "Time:                        09:56:09   Log-Likelihood:                -19.779\n",
      "No. Observations:                  15   AIC:                             45.56\n",
      "Df Residuals:                      12   BIC:                             47.68\n",
      "Df Model:                           2                                         \n",
      "Covariance Type:            nonrobust                                         \n",
      "==============================================================================\n",
      "                 coef    std err          t      P>|t|      [0.025      0.975]\n",
      "------------------------------------------------------------------------------\n",
      "Intercept      6.2030      1.862      3.331      0.006       2.145      10.260\n",
      "x1            -0.3762      0.133     -2.834      0.015      -0.665      -0.087\n",
      "x2             0.4525      0.120      3.786      0.003       0.192       0.713\n",
      "==============================================================================\n",
      "Omnibus:                        6.487   Durbin-Watson:                   0.946\n",
      "Prob(Omnibus):                  0.039   Jarque-Bera (JB):                3.545\n",
      "Skew:                           1.123   Prob(JB):                        0.170\n",
      "Kurtosis:                       3.792   Cond. No.                         101.\n",
      "==============================================================================\n",
      "\n",
      "Notes:\n",
      "[1] Standard Errors assume that the covariance matrix of the errors is correctly specified.\n"
     ]
    },
    {
     "name": "stderr",
     "output_type": "stream",
     "text": [
      "D:\\Software\\Python\\lib\\site-packages\\scipy\\stats\\_stats_py.py:1736: UserWarning: kurtosistest only valid for n>=20 ... continuing anyway, n=15\n",
      "  warnings.warn(\"kurtosistest only valid for n>=20 ... continuing \"\n"
     ]
    }
   ],
   "source": [
    "print(result.summary())"
   ]
  },
  {
   "cell_type": "markdown",
   "id": "b40a7b92-2659-4f12-be1a-58e6dbef9c22",
   "metadata": {},
   "source": [
    "## Đa cộng tuyến"
   ]
  },
  {
   "cell_type": "code",
   "execution_count": 7,
   "id": "46c596cf-150e-4886-82c8-8574b6ebc0ba",
   "metadata": {},
   "outputs": [],
   "source": [
    "x1 = np.array([751.6, 779.2, 810.3, 864.7, 857.5, 874.9, 906.8, 942.9, 988.8, 1015.7])\n",
    "x2 = x1 + 10\n",
    "y = np.array([672.1, 696.8, 737.1, 767.9, 762.8, 779.4, 823.1, 864.3, 903.2, 927.6])"
   ]
  },
  {
   "cell_type": "code",
   "execution_count": 8,
   "id": "9b99be17-6d6f-4d14-8139-c592eedd037b",
   "metadata": {},
   "outputs": [],
   "source": [
    "df = pd.DataFrame({\"x1\" : x1, \"x2\": x2, \"y\" : y})"
   ]
  },
  {
   "cell_type": "code",
   "execution_count": 9,
   "id": "f56ba708-3032-4b3c-b616-6684089b7e99",
   "metadata": {},
   "outputs": [],
   "source": [
    "result = smf.ols(\"y ~ x1 + x2\", df).fit()"
   ]
  },
  {
   "cell_type": "code",
   "execution_count": 10,
   "id": "63c86969-b140-4ff4-9341-3d733a94684b",
   "metadata": {},
   "outputs": [
    {
     "name": "stdout",
     "output_type": "stream",
     "text": [
      "                            OLS Regression Results                            \n",
      "==============================================================================\n",
      "Dep. Variable:                      y   R-squared:                       0.992\n",
      "Model:                            OLS   Adj. R-squared:                  0.991\n",
      "Method:                 Least Squares   F-statistic:                     959.9\n",
      "Date:                Sat, 10 Jun 2023   Prob (F-statistic):           1.28e-09\n",
      "Time:                        09:56:09   Log-Likelihood:                -34.107\n",
      "No. Observations:                  10   AIC:                             72.21\n",
      "Df Residuals:                       8   BIC:                             72.82\n",
      "Df Model:                           1                                         \n",
      "Covariance Type:            nonrobust                                         \n",
      "==============================================================================\n",
      "                 coef    std err          t      P>|t|      [0.025      0.975]\n",
      "------------------------------------------------------------------------------\n",
      "Intercept     -1.4211      0.550     -2.582      0.033      -2.690      -0.152\n",
      "x1             7.5952      2.768      2.744      0.025       1.213      13.977\n",
      "x2            -6.6160      2.736     -2.418      0.042     -12.925      -0.307\n",
      "==============================================================================\n",
      "Omnibus:                        0.834   Durbin-Watson:                   1.566\n",
      "Prob(Omnibus):                  0.659   Jarque-Bera (JB):                0.650\n",
      "Skew:                          -0.276   Prob(JB):                        0.723\n",
      "Kurtosis:                       1.880   Cond. No.                     1.25e+17\n",
      "==============================================================================\n",
      "\n",
      "Notes:\n",
      "[1] Standard Errors assume that the covariance matrix of the errors is correctly specified.\n",
      "[2] The smallest eigenvalue is 1.01e-27. This might indicate that there are\n",
      "strong multicollinearity problems or that the design matrix is singular.\n"
     ]
    },
    {
     "name": "stderr",
     "output_type": "stream",
     "text": [
      "D:\\Software\\Python\\lib\\site-packages\\scipy\\stats\\_stats_py.py:1736: UserWarning: kurtosistest only valid for n>=20 ... continuing anyway, n=10\n",
      "  warnings.warn(\"kurtosistest only valid for n>=20 ... continuing \"\n"
     ]
    }
   ],
   "source": [
    "print(result.summary())"
   ]
  },
  {
   "cell_type": "markdown",
   "id": "76504300-3902-4f6b-9675-392bdabff508",
   "metadata": {},
   "source": [
    "Độ tin cậy $x_2 = x_1 + 10$ tụt -> các biến không còn độc lập"
   ]
  },
  {
   "cell_type": "markdown",
   "id": "b272b0f2-1a81-4ef3-819b-e643ad08c688",
   "metadata": {},
   "source": [
    "Trước khi chạy hồi qui:\n",
    "\n",
    "- Kiểm tra các biến $x_1, x_2, .., x_D$ có đa cộng tuyến (multicollinearity) hay không.\n",
    "    - Dùng hệ số tương quan (Pearson, Spearman hoặc Kendall): cao thì phải bỏ (nên $< 0.5$). \n",
    "    - 3 biến trở lên: dùng VIF (dùng biến $x_i$ là $y$, chạy hồi qui $D - 1$ biến còn lại, xem hệ số xác định)"
   ]
  },
  {
   "cell_type": "markdown",
   "id": "ade1dc70-ece6-43c5-88f9-5561ace9c251",
   "metadata": {},
   "source": [
    "# Hồi qui (cont.)"
   ]
  },
  {
   "cell_type": "markdown",
   "id": "dc99e6af-0cd5-4462-960e-5ce87341a29e",
   "metadata": {},
   "source": [
    "## Hồi qui với biến chuẩn hóa"
   ]
  },
  {
   "cell_type": "code",
   "execution_count": 11,
   "id": "e7068cfd-31f2-4a8f-b5eb-59b92dae6397",
   "metadata": {},
   "outputs": [],
   "source": [
    "y = np.array([6, 8, 8, 7, 7, 12, 9, 8, 9, 10, 10, 11, 9, 10, 11])\n",
    "x1 = np.array([9, 10, 8, 7, 10, 4, 5, 5, 6, 8, 7, 4, 9, 5, 8])\n",
    "x2 = np.array([8, 13, 11, 10, 12, 16, 10, 10, 12, 14, 12, 16, 14, 10, 12])"
   ]
  },
  {
   "cell_type": "code",
   "execution_count": 12,
   "id": "cd77b986-a585-4074-87c9-b90b22aab130",
   "metadata": {},
   "outputs": [],
   "source": [
    "x1_norm = (x1 - x1.mean()) / x1.std()\n",
    "x2_norm = (x2 - x2.mean()) / x2.std()\n",
    "y_norm = (y - y.mean()) / y.std()"
   ]
  },
  {
   "cell_type": "code",
   "execution_count": 13,
   "id": "8b253bee-a12c-4ba3-ad50-960927bfcb32",
   "metadata": {},
   "outputs": [],
   "source": [
    "df = pd.DataFrame({\"x1\" : x1_norm, \"x2\": x2_norm, \"y\" : y_norm})"
   ]
  },
  {
   "cell_type": "code",
   "execution_count": 14,
   "id": "db47dcbf-361b-47a0-b0e3-9a338a8573ac",
   "metadata": {},
   "outputs": [
    {
     "name": "stdout",
     "output_type": "stream",
     "text": [
      "     x1        x2         y\n",
      "0   1.0 -1.800901 -1.837117\n",
      "1   1.5  0.450225 -0.612372\n",
      "2   0.5 -0.450225 -0.612372\n",
      "3   0.0 -0.900450 -1.224745\n",
      "4   1.5  0.000000 -1.224745\n",
      "5  -1.5  1.800901  1.837117\n",
      "6  -1.0 -0.900450  0.000000\n",
      "7  -1.0 -0.900450 -0.612372\n",
      "8  -0.5  0.000000  0.000000\n",
      "9   0.5  0.900450  0.612372\n",
      "10  0.0  0.000000  0.612372\n",
      "11 -1.5  1.800901  1.224745\n",
      "12  1.0  0.900450  0.000000\n",
      "13 -1.0 -0.900450  0.612372\n",
      "14  0.5  0.000000  1.224745\n"
     ]
    }
   ],
   "source": [
    "print(df)"
   ]
  },
  {
   "cell_type": "code",
   "execution_count": 15,
   "id": "f23a2a06-3f2c-4798-947b-598f5e103c9f",
   "metadata": {},
   "outputs": [],
   "source": [
    "result = smf.ols(\"y ~ x1 + x2\", df).fit()"
   ]
  },
  {
   "cell_type": "code",
   "execution_count": 16,
   "id": "adde2524-cc48-4343-b190-8f1ffb45f2f8",
   "metadata": {},
   "outputs": [
    {
     "name": "stdout",
     "output_type": "stream",
     "text": [
      "                            OLS Regression Results                            \n",
      "==============================================================================\n",
      "Dep. Variable:                      y   R-squared:                       0.693\n",
      "Model:                            OLS   Adj. R-squared:                  0.642\n",
      "Method:                 Least Squares   F-statistic:                     13.56\n",
      "Date:                Sat, 10 Jun 2023   Prob (F-statistic):           0.000834\n",
      "Time:                        09:56:09   Log-Likelihood:                -12.422\n",
      "No. Observations:                  15   AIC:                             30.84\n",
      "Df Residuals:                      12   BIC:                             32.97\n",
      "Df Model:                           2                                         \n",
      "Covariance Type:            nonrobust                                         \n",
      "==============================================================================\n",
      "                 coef    std err          t      P>|t|      [0.025      0.975]\n",
      "------------------------------------------------------------------------------\n",
      "Intercept  -1.388e-17      0.160  -8.68e-17      1.000      -0.348       0.348\n",
      "x1            -0.4607      0.163     -2.834      0.015      -0.815      -0.107\n",
      "x2             0.6155      0.163      3.786      0.003       0.261       0.970\n",
      "==============================================================================\n",
      "Omnibus:                        6.487   Durbin-Watson:                   0.946\n",
      "Prob(Omnibus):                  0.039   Jarque-Bera (JB):                3.545\n",
      "Skew:                           1.123   Prob(JB):                        0.170\n",
      "Kurtosis:                       3.792   Cond. No.                         1.20\n",
      "==============================================================================\n",
      "\n",
      "Notes:\n",
      "[1] Standard Errors assume that the covariance matrix of the errors is correctly specified.\n"
     ]
    },
    {
     "name": "stderr",
     "output_type": "stream",
     "text": [
      "D:\\Software\\Python\\lib\\site-packages\\scipy\\stats\\_stats_py.py:1736: UserWarning: kurtosistest only valid for n>=20 ... continuing anyway, n=15\n",
      "  warnings.warn(\"kurtosistest only valid for n>=20 ... continuing \"\n"
     ]
    }
   ],
   "source": [
    "print(result.summary())"
   ]
  },
  {
   "cell_type": "markdown",
   "id": "b1257d15-93f3-40c7-8ebe-65a0174a19d0",
   "metadata": {},
   "source": [
    "$|\\beta_2| > |\\beta_1|$ -> biến $x_2$ có tác động lớn hơn."
   ]
  },
  {
   "cell_type": "markdown",
   "id": "c0687df9-0fdd-455c-a0ae-d550c4abda16",
   "metadata": {},
   "source": [
    "## Hồi qui với biến categorical"
   ]
  },
  {
   "cell_type": "code",
   "execution_count": 33,
   "id": "0890286d-315e-4fe1-a403-d5a4b2f018d5",
   "metadata": {},
   "outputs": [],
   "source": [
    "y = np.array([23.0,19.5,24.0,21.0,25.0,22.0,26.5,23.1,25.0,28.0,29.5,26.0,27.5,31.5,29.0])\n",
    "x1 = np.array([1,1,2,2,3,3,4,4,5,5,6,6,7,7,8])\n",
    "x2 = np.array([1,0,1,0,1,0,1,0,0,1,1,0,0,1,0])"
   ]
  },
  {
   "cell_type": "code",
   "execution_count": 34,
   "id": "071fa4b7-a19d-4c4b-af6c-bebb1d89a0d0",
   "metadata": {},
   "outputs": [],
   "source": [
    "df = pd.DataFrame({\"x1\":x1, \"x2\":x2, \"y\":y})"
   ]
  },
  {
   "cell_type": "code",
   "execution_count": 35,
   "id": "c62015cb-88c8-4002-a12d-2fb9d35412a9",
   "metadata": {},
   "outputs": [],
   "source": [
    "result = smf.ols(\"y ~ x1 + x2\", df).fit()"
   ]
  },
  {
   "cell_type": "code",
   "execution_count": 36,
   "id": "68ff04b6-3c5e-4343-8d26-9ce834c775a8",
   "metadata": {},
   "outputs": [
    {
     "name": "stdout",
     "output_type": "stream",
     "text": [
      "                            OLS Regression Results                            \n",
      "==============================================================================\n",
      "Dep. Variable:                      y   R-squared:                       0.993\n",
      "Model:                            OLS   Adj. R-squared:                  0.992\n",
      "Method:                 Least Squares   F-statistic:                     886.6\n",
      "Date:                Sat, 10 Jun 2023   Prob (F-statistic):           9.23e-14\n",
      "Time:                        10:20:48   Log-Likelihood:                -1.4621\n",
      "No. Observations:                  15   AIC:                             8.924\n",
      "Df Residuals:                      12   BIC:                             11.05\n",
      "Df Model:                           2                                         \n",
      "Covariance Type:            nonrobust                                         \n",
      "==============================================================================\n",
      "                 coef    std err          t      P>|t|      [0.025      0.975]\n",
      "------------------------------------------------------------------------------\n",
      "Intercept     17.9693      0.192     93.612      0.000      17.551      18.388\n",
      "x1             1.3707      0.036     38.454      0.000       1.293       1.448\n",
      "x2             3.3336      0.155     21.455      0.000       2.995       3.672\n",
      "==============================================================================\n",
      "Omnibus:                        1.032   Durbin-Watson:                   1.892\n",
      "Prob(Omnibus):                  0.597   Jarque-Bera (JB):                0.632\n",
      "Skew:                           0.480   Prob(JB):                        0.729\n",
      "Kurtosis:                       2.703   Cond. No.                         13.7\n",
      "==============================================================================\n",
      "\n",
      "Notes:\n",
      "[1] Standard Errors assume that the covariance matrix of the errors is correctly specified.\n"
     ]
    },
    {
     "name": "stderr",
     "output_type": "stream",
     "text": [
      "D:\\Software\\Python\\lib\\site-packages\\scipy\\stats\\_stats_py.py:1736: UserWarning: kurtosistest only valid for n>=20 ... continuing anyway, n=15\n",
      "  warnings.warn(\"kurtosistest only valid for n>=20 ... continuing \"\n"
     ]
    }
   ],
   "source": [
    "print(result.summary())"
   ]
  },
  {
   "cell_type": "markdown",
   "id": "0c185483-1b8f-4bbf-95fc-e6ee85af7bd2",
   "metadata": {},
   "source": [
    "Nữ:\n",
    "\n",
    "$$\n",
    "\\text{thu nhập} = 1.3707 \\times \\text{số năm công tác} + 17.9693\n",
    "$$\n",
    "\n",
    "Nam:\n",
    "\n",
    "$$\n",
    "\\text{thu nhập} = 1.3707 \\times \\text{số năm công tác} + 3.3336 + 17.9693\n",
    "$$"
   ]
  },
  {
   "cell_type": "markdown",
   "id": "94c617fc-9276-434a-a025-a417cf421c8d",
   "metadata": {},
   "source": [
    "# Lựa chọn mô hình"
   ]
  },
  {
   "cell_type": "markdown",
   "id": "7758cc3a-e28f-407f-a137-cbe0e02629c7",
   "metadata": {},
   "source": []
  }
 ],
 "metadata": {
  "kernelspec": {
   "display_name": "Python 3 (ipykernel)",
   "language": "python",
   "name": "python3"
  },
  "language_info": {
   "codemirror_mode": {
    "name": "ipython",
    "version": 3
   },
   "file_extension": ".py",
   "mimetype": "text/x-python",
   "name": "python",
   "nbconvert_exporter": "python",
   "pygments_lexer": "ipython3",
   "version": "3.9.7"
  }
 },
 "nbformat": 4,
 "nbformat_minor": 5
}
