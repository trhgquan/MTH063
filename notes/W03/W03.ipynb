{
 "cells": [
  {
   "cell_type": "markdown",
   "id": "53dcc89d-41d6-4d96-919f-fc2528d7618e",
   "metadata": {},
   "source": [
    "# W03"
   ]
  },
  {
   "cell_type": "markdown",
   "id": "0de80435-17aa-4a4d-b5f6-573d38072ec7",
   "metadata": {
    "tags": []
   },
   "source": [
    "## Xác suất\n",
    "\n",
    "<img src=\"b28.png\">"
   ]
  },
  {
   "cell_type": "markdown",
   "id": "c489fc59-9952-44bf-a044-b4a85c4aa9ac",
   "metadata": {},
   "source": [
    "..."
   ]
  },
  {
   "cell_type": "markdown",
   "id": "683aeb4b-8c2e-4b76-99a1-162d1a8733f8",
   "metadata": {},
   "source": [
    "## Statistical Learning"
   ]
  },
  {
   "cell_type": "markdown",
   "id": "3206d6af-795f-4ba7-ac2d-a6d0571384f8",
   "metadata": {},
   "source": [
    "Biến & mối liên hệ giữa các biến:\n",
    "\n",
    "- Biến ngẫu nhiên rời rạc\n",
    "- Biến ngẫu nhiên liên tục\n",
    "\n",
    "Phân phối xác suất của biến ngẫu nhiên\n",
    "\n",
    "- PDF (*hàm mật đọ xác suất* - hàm có tham số)\n",
    "- CDF (*hàm xác suất tích lũy*)"
   ]
  },
  {
   "cell_type": "markdown",
   "id": "659d92cd-2a5b-44cf-a999-5bccdbee060f",
   "metadata": {},
   "source": [
    "Định lý Bayes:\n",
    "    \n",
    "$$\n",
    "\\displaystyle P(h | D) = \\frac{P(D | h)P(h)}{P(D)}\n",
    "$$"
   ]
  },
  {
   "cell_type": "markdown",
   "id": "bcbd25c0-d425-4b85-8bd0-35cb5fc8e4aa",
   "metadata": {},
   "source": [
    "## Fitting Models"
   ]
  },
  {
   "cell_type": "markdown",
   "id": "1fa1066f-047f-42c9-bc7e-d845c5d048c9",
   "metadata": {},
   "source": [
    "VD: tung 1 đồng xu 10 lần được 7H và 3T"
   ]
  },
  {
   "cell_type": "code",
   "execution_count": 27,
   "id": "732cb066-6553-4842-9e8a-870f3d715dc8",
   "metadata": {
    "tags": []
   },
   "outputs": [],
   "source": [
    "import numpy as np"
   ]
  },
  {
   "cell_type": "code",
   "execution_count": 4,
   "id": "cc28d1f0-1409-4a1d-964f-c9d1bec37a87",
   "metadata": {
    "tags": []
   },
   "outputs": [],
   "source": [
    "value = np.array([0, 1, 0, 1, 0, 0, 1, 0, 0, 0]) # 0 = head, 1 = tail"
   ]
  },
  {
   "cell_type": "code",
   "execution_count": 9,
   "id": "ca8fd77a-b410-44e1-bf97-48ad6a1bdcd5",
   "metadata": {
    "tags": []
   },
   "outputs": [],
   "source": [
    "# theta = len(value[value == 0]) / len(value)"
   ]
  },
  {
   "cell_type": "code",
   "execution_count": 11,
   "id": "5085ef54-c0e3-4f32-b4cf-15942e9b1031",
   "metadata": {
    "tags": []
   },
   "outputs": [],
   "source": [
    "theta_1 = .2"
   ]
  },
  {
   "cell_type": "code",
   "execution_count": 16,
   "id": "ac8c9cbc-d8b1-4e5b-9af9-2fe0c328c2b9",
   "metadata": {
    "tags": []
   },
   "outputs": [],
   "source": [
    "likelihood_1 = np.array([theta_1 if v == 0 else 1 - theta_1 for v in value])"
   ]
  },
  {
   "cell_type": "code",
   "execution_count": 17,
   "id": "dfca1d23-adb4-40fd-ae71-785702e20e8e",
   "metadata": {
    "tags": []
   },
   "outputs": [
    {
     "data": {
      "text/plain": [
       "array([0.2, 0.8, 0.2, 0.8, 0.2, 0.2, 0.8, 0.2, 0.2, 0.2])"
      ]
     },
     "execution_count": 17,
     "metadata": {},
     "output_type": "execute_result"
    }
   ],
   "source": [
    "likelihood_1"
   ]
  },
  {
   "cell_type": "code",
   "execution_count": 18,
   "id": "5f047383-cecf-4b5b-8c81-d2fae29a563e",
   "metadata": {
    "tags": []
   },
   "outputs": [],
   "source": [
    "likelihood_1d = np.prod(likelihood_1)"
   ]
  },
  {
   "cell_type": "code",
   "execution_count": 19,
   "id": "27c3db29-2525-42bf-b275-78fd0d543ab3",
   "metadata": {
    "tags": []
   },
   "outputs": [
    {
     "data": {
      "text/plain": [
       "6.553600000000004e-06"
      ]
     },
     "execution_count": 19,
     "metadata": {},
     "output_type": "execute_result"
    }
   ],
   "source": [
    "likelihood_1d"
   ]
  },
  {
   "cell_type": "code",
   "execution_count": 20,
   "id": "9e77ac86-1ac5-47a4-938e-eddf6f1e91ca",
   "metadata": {
    "tags": []
   },
   "outputs": [],
   "source": [
    "theta_2 = .5"
   ]
  },
  {
   "cell_type": "code",
   "execution_count": 21,
   "id": "8f56f068-2fa7-4c24-abd3-58926e93d97f",
   "metadata": {
    "tags": []
   },
   "outputs": [],
   "source": [
    "likelihood_2 = np.array([theta_2 if v == 0 else 1 - theta_2 for v in value])"
   ]
  },
  {
   "cell_type": "code",
   "execution_count": 22,
   "id": "347eb34f-edda-48d6-b76b-541f928237b5",
   "metadata": {
    "tags": []
   },
   "outputs": [
    {
     "data": {
      "text/plain": [
       "array([0.5, 0.5, 0.5, 0.5, 0.5, 0.5, 0.5, 0.5, 0.5, 0.5])"
      ]
     },
     "execution_count": 22,
     "metadata": {},
     "output_type": "execute_result"
    }
   ],
   "source": [
    "likelihood_2"
   ]
  },
  {
   "cell_type": "code",
   "execution_count": 23,
   "id": "8b5a0312-12e4-4520-bf4e-f71a544436ba",
   "metadata": {
    "tags": []
   },
   "outputs": [],
   "source": [
    "likelihood_2d = np.prod(likelihood_2)"
   ]
  },
  {
   "cell_type": "code",
   "execution_count": 24,
   "id": "db784ea7-b7a3-4927-beb9-196b3e667659",
   "metadata": {
    "tags": []
   },
   "outputs": [
    {
     "data": {
      "text/plain": [
       "0.0009765625"
      ]
     },
     "execution_count": 24,
     "metadata": {},
     "output_type": "execute_result"
    }
   ],
   "source": [
    "likelihood_2d"
   ]
  },
  {
   "cell_type": "markdown",
   "id": "6a376421-34a9-4167-b8cb-7cb9b4134cd2",
   "metadata": {},
   "source": [
    "Ví dụ: viết phân lớp Naive Bayes cho dataset"
   ]
  },
  {
   "cell_type": "code",
   "execution_count": 2,
   "id": "15dbe7d6-11c7-40e7-9678-debd90f15c4a",
   "metadata": {},
   "outputs": [],
   "source": [
    "import pandas as pd"
   ]
  },
  {
   "cell_type": "code",
   "execution_count": 3,
   "id": "b067fc0d-b4d2-4f24-96c0-3b2c98b3f005",
   "metadata": {
    "tags": []
   },
   "outputs": [],
   "source": [
    "df = pd.read_csv(\"datasets1.csv\")"
   ]
  },
  {
   "cell_type": "code",
   "execution_count": 4,
   "id": "3aa8ad81-8215-4f13-a246-c3882df6c588",
   "metadata": {
    "tags": []
   },
   "outputs": [
    {
     "data": {
      "text/html": [
       "<div>\n",
       "<style scoped>\n",
       "    .dataframe tbody tr th:only-of-type {\n",
       "        vertical-align: middle;\n",
       "    }\n",
       "\n",
       "    .dataframe tbody tr th {\n",
       "        vertical-align: top;\n",
       "    }\n",
       "\n",
       "    .dataframe thead th {\n",
       "        text-align: right;\n",
       "    }\n",
       "</style>\n",
       "<table border=\"1\" class=\"dataframe\">\n",
       "  <thead>\n",
       "    <tr style=\"text-align: right;\">\n",
       "      <th></th>\n",
       "      <th>#</th>\n",
       "      <th>Vị</th>\n",
       "      <th>Màu</th>\n",
       "      <th>Vỏ</th>\n",
       "      <th>Độc tính</th>\n",
       "    </tr>\n",
       "  </thead>\n",
       "  <tbody>\n",
       "    <tr>\n",
       "      <th>0</th>\n",
       "      <td>1</td>\n",
       "      <td>Ngọt</td>\n",
       "      <td>Đỏ</td>\n",
       "      <td>Nhẵn</td>\n",
       "      <td>Không</td>\n",
       "    </tr>\n",
       "    <tr>\n",
       "      <th>1</th>\n",
       "      <td>2</td>\n",
       "      <td>Cay</td>\n",
       "      <td>Đỏ</td>\n",
       "      <td>Nhẵn</td>\n",
       "      <td>Có</td>\n",
       "    </tr>\n",
       "    <tr>\n",
       "      <th>2</th>\n",
       "      <td>3</td>\n",
       "      <td>Chua</td>\n",
       "      <td>Vàng</td>\n",
       "      <td>Có gai</td>\n",
       "      <td>Không</td>\n",
       "    </tr>\n",
       "    <tr>\n",
       "      <th>3</th>\n",
       "      <td>4</td>\n",
       "      <td>Cay</td>\n",
       "      <td>Vàng</td>\n",
       "      <td>Có gai</td>\n",
       "      <td>Có</td>\n",
       "    </tr>\n",
       "    <tr>\n",
       "      <th>4</th>\n",
       "      <td>5</td>\n",
       "      <td>Ngọt</td>\n",
       "      <td>Tím</td>\n",
       "      <td>Có gai</td>\n",
       "      <td>Không</td>\n",
       "    </tr>\n",
       "    <tr>\n",
       "      <th>5</th>\n",
       "      <td>6</td>\n",
       "      <td>Chua</td>\n",
       "      <td>Vàng</td>\n",
       "      <td>Nhẵn</td>\n",
       "      <td>Không</td>\n",
       "    </tr>\n",
       "    <tr>\n",
       "      <th>6</th>\n",
       "      <td>7</td>\n",
       "      <td>Ngọt</td>\n",
       "      <td>Tím</td>\n",
       "      <td>Nhẵn</td>\n",
       "      <td>Không</td>\n",
       "    </tr>\n",
       "    <tr>\n",
       "      <th>7</th>\n",
       "      <td>8</td>\n",
       "      <td>Cay</td>\n",
       "      <td>Tím</td>\n",
       "      <td>Có gai</td>\n",
       "      <td>Có</td>\n",
       "    </tr>\n",
       "    <tr>\n",
       "      <th>8</th>\n",
       "      <td>9</td>\n",
       "      <td>Cay</td>\n",
       "      <td>Tím</td>\n",
       "      <td>Có gai</td>\n",
       "      <td>Không</td>\n",
       "    </tr>\n",
       "    <tr>\n",
       "      <th>9</th>\n",
       "      <td>10</td>\n",
       "      <td>Cay</td>\n",
       "      <td>Tím</td>\n",
       "      <td>Có gai</td>\n",
       "      <td>Có</td>\n",
       "    </tr>\n",
       "    <tr>\n",
       "      <th>10</th>\n",
       "      <td>11</td>\n",
       "      <td>Cay</td>\n",
       "      <td>Vàng</td>\n",
       "      <td>Có gai</td>\n",
       "      <td>Có</td>\n",
       "    </tr>\n",
       "  </tbody>\n",
       "</table>\n",
       "</div>"
      ],
      "text/plain": [
       "     #    Vị   Màu      Vỏ Độc tính\n",
       "0    1  Ngọt    Đỏ    Nhẵn    Không\n",
       "1    2   Cay    Đỏ    Nhẵn       Có\n",
       "2    3  Chua  Vàng  Có gai    Không\n",
       "3    4   Cay  Vàng  Có gai       Có\n",
       "4    5  Ngọt   Tím  Có gai    Không\n",
       "5    6  Chua  Vàng    Nhẵn    Không\n",
       "6    7  Ngọt   Tím    Nhẵn    Không\n",
       "7    8   Cay   Tím  Có gai       Có\n",
       "8    9   Cay   Tím  Có gai    Không\n",
       "9   10   Cay   Tím  Có gai       Có\n",
       "10  11   Cay  Vàng  Có gai       Có"
      ]
     },
     "execution_count": 4,
     "metadata": {},
     "output_type": "execute_result"
    }
   ],
   "source": [
    "df"
   ]
  },
  {
   "cell_type": "code",
   "execution_count": 5,
   "id": "c468b714-aef8-4c0d-a5aa-f29bc20ca233",
   "metadata": {
    "tags": []
   },
   "outputs": [],
   "source": [
    "p_cogai_codoc = df[(df[\"Vỏ\"] == \"Có gai\") & (df[\"Độc tính\"] == \"Có\")].shape[0] / df.shape[0]"
   ]
  },
  {
   "cell_type": "code",
   "execution_count": 6,
   "id": "10b056e4-d56c-49ca-9b48-59c4373f224e",
   "metadata": {
    "tags": []
   },
   "outputs": [
    {
     "data": {
      "text/plain": [
       "0.36363636363636365"
      ]
     },
     "execution_count": 6,
     "metadata": {},
     "output_type": "execute_result"
    }
   ],
   "source": [
    "p_cogai_codoc"
   ]
  },
  {
   "cell_type": "code",
   "execution_count": 7,
   "id": "3d1b23b7-61df-49e7-8613-78390374c658",
   "metadata": {
    "tags": []
   },
   "outputs": [],
   "source": [
    "p_cogai_khong = df[(df[\"Vỏ\"] == \"Có gai\") & (df[\"Độc tính\"] == \"Không\")].shape[0] / df.shape[0]"
   ]
  },
  {
   "cell_type": "code",
   "execution_count": 8,
   "id": "a41444ca-0f2f-4511-a96c-063ac99dda75",
   "metadata": {
    "tags": []
   },
   "outputs": [
    {
     "data": {
      "text/plain": [
       "0.2727272727272727"
      ]
     },
     "execution_count": 8,
     "metadata": {},
     "output_type": "execute_result"
    }
   ],
   "source": [
    "p_cogai_khong"
   ]
  },
  {
   "cell_type": "code",
   "execution_count": 9,
   "id": "28bc52c9-890f-46bf-b41a-3d43e7754e33",
   "metadata": {
    "tags": []
   },
   "outputs": [],
   "source": [
    "p_nhan_codoc = df[(df[\"Vỏ\"] == \"Nhẵn\") & (df[\"Độc tính\"] == \"Có\")].shape[0] / df.shape[0]"
   ]
  },
  {
   "cell_type": "code",
   "execution_count": 10,
   "id": "6fdd3f8d-e0a6-4ca1-b164-144f884d285e",
   "metadata": {
    "tags": []
   },
   "outputs": [
    {
     "data": {
      "text/plain": [
       "0.09090909090909091"
      ]
     },
     "execution_count": 10,
     "metadata": {},
     "output_type": "execute_result"
    }
   ],
   "source": [
    "p_nhan_codoc"
   ]
  },
  {
   "cell_type": "code",
   "execution_count": 11,
   "id": "7a02ce9f-d266-429f-bc74-e1e3e824cfdc",
   "metadata": {
    "tags": []
   },
   "outputs": [],
   "source": [
    "p_nhan_khong = df[(df[\"Vỏ\"] == \"Có gai\") & (df[\"Độc tính\"] == \"Không\")].shape[0] / df.shape[0]"
   ]
  },
  {
   "cell_type": "code",
   "execution_count": 12,
   "id": "a1285052-c0fb-4393-ab62-b2debcabbad8",
   "metadata": {
    "tags": []
   },
   "outputs": [
    {
     "data": {
      "text/plain": [
       "0.2727272727272727"
      ]
     },
     "execution_count": 12,
     "metadata": {},
     "output_type": "execute_result"
    }
   ],
   "source": [
    "p_nhan_khong"
   ]
  },
  {
   "cell_type": "code",
   "execution_count": 13,
   "id": "14f688b8-bd32-43b3-a7c0-04f784045f29",
   "metadata": {
    "tags": []
   },
   "outputs": [],
   "source": [
    "codoc, khongdoc = df[df[\"Độc tính\"] == \"Có\"], df[df[\"Độc tính\"] == \"Không\"]"
   ]
  },
  {
   "cell_type": "code",
   "execution_count": 14,
   "id": "14078cab-8d4b-4245-a48d-4f447e72b32c",
   "metadata": {
    "tags": []
   },
   "outputs": [],
   "source": [
    "p_doc_nhan, p_doc_gai = codoc[codoc[\"Vỏ\"] == \"Nhẵn\"].shape[0] / codoc.shape[0], codoc[codoc[\"Vỏ\"] == \"Có gai\"].shape[0] / codoc.shape[0]"
   ]
  },
  {
   "cell_type": "code",
   "execution_count": 15,
   "id": "1e53a106-205b-4924-8001-54a3d7083493",
   "metadata": {
    "tags": []
   },
   "outputs": [
    {
     "data": {
      "text/plain": [
       "(0.2, 0.8)"
      ]
     },
     "execution_count": 15,
     "metadata": {},
     "output_type": "execute_result"
    }
   ],
   "source": [
    "p_doc_nhan, p_doc_gai"
   ]
  },
  {
   "cell_type": "code",
   "execution_count": 16,
   "id": "43b98b1f-32f2-4c1c-8f19-416ba9811ff6",
   "metadata": {
    "tags": []
   },
   "outputs": [],
   "source": [
    "p_gai = df[df[\"Vỏ\"] == \"Có gai\"].shape[0] / df.shape[0]"
   ]
  },
  {
   "cell_type": "code",
   "execution_count": 17,
   "id": "582ba6a8-49bc-4c77-b672-01a9c1a1eeba",
   "metadata": {
    "tags": []
   },
   "outputs": [],
   "source": [
    "p_khongdoc_nhan, p_khongdoc_gai = khongdoc[khongdoc[\"Vỏ\"] == \"Nhẵn\"].shape[0] / khongdoc.shape[0], khongdoc[khongdoc[\"Vỏ\"] == \"Có gai\"].shape[0] / khongdoc.shape[0]"
   ]
  },
  {
   "cell_type": "code",
   "execution_count": 18,
   "id": "ab036f98-5dc5-4515-9bb6-a940ab95f981",
   "metadata": {
    "tags": []
   },
   "outputs": [
    {
     "data": {
      "text/plain": [
       "(0.5, 0.5)"
      ]
     },
     "execution_count": 18,
     "metadata": {},
     "output_type": "execute_result"
    }
   ],
   "source": [
    "p_khongdoc_nhan, p_khongdoc_gai"
   ]
  },
  {
   "cell_type": "markdown",
   "id": "4caf55d2-0c79-49bc-87b6-9ec5c4f92cf9",
   "metadata": {},
   "source": [
    "Khi đó\n",
    "\n",
    "$$\n",
    "P(độc | gai) = \\frac{P(gai | độc)P(độc)}{P(gai)}\n",
    "$$"
   ]
  },
  {
   "cell_type": "code",
   "execution_count": 24,
   "id": "e72e2c0e-0aae-4602-9e69-61e9df9255df",
   "metadata": {
    "tags": []
   },
   "outputs": [],
   "source": [
    "likelihood_docgai = p_doc_gai * (codoc.shape[0] / df.shape[0]) / p_gai"
   ]
  },
  {
   "cell_type": "code",
   "execution_count": 25,
   "id": "9fab2f4c-dea7-44e5-b814-994dcced5d98",
   "metadata": {
    "tags": []
   },
   "outputs": [
    {
     "data": {
      "text/plain": [
       "0.5714285714285715"
      ]
     },
     "execution_count": 25,
     "metadata": {},
     "output_type": "execute_result"
    }
   ],
   "source": [
    "likelihood_docgai"
   ]
  },
  {
   "cell_type": "markdown",
   "id": "906f06a1-a06b-4456-8e62-6e25c24dc682",
   "metadata": {},
   "source": [
    "Ước lượng cho biến liên tục: tính likelihood để tìm $\\mu, \\sigma$"
   ]
  },
  {
   "cell_type": "code",
   "execution_count": 70,
   "id": "911445fc-4451-4741-b77d-071e18cf2145",
   "metadata": {
    "tags": []
   },
   "outputs": [],
   "source": [
    "corpus = [\n",
    "    \"<s> Tôi là nam </s>\",\n",
    "    \"<s> Bạn tôi là nữ </s>\",\n",
    "    \"<s> Tôi thích trà </s>\",\n",
    "]"
   ]
  },
  {
   "cell_type": "code",
   "execution_count": 78,
   "id": "68512457-9753-4644-b08f-2d0aff5d1e44",
   "metadata": {
    "tags": []
   },
   "outputs": [],
   "source": [
    "unigram_count = {}\n",
    "\n",
    "count = 0\n",
    "\n",
    "for sentence in corpus:\n",
    "    for word in sentence.split(\" \"):\n",
    "        count += 1\n",
    "        if word.lower() not in unigram_count:\n",
    "            unigram_count[word.lower()] = 1\n",
    "        else:\n",
    "            unigram_count[word.lower()] += 1"
   ]
  },
  {
   "cell_type": "code",
   "execution_count": 80,
   "id": "fc6eb962-d516-4437-99e6-ef4494b08aae",
   "metadata": {
    "tags": []
   },
   "outputs": [
    {
     "data": {
      "text/plain": [
       "{'<s>': 3,\n",
       " 'tôi': 3,\n",
       " 'là': 2,\n",
       " 'nam': 1,\n",
       " '</s>': 3,\n",
       " 'bạn': 1,\n",
       " 'nữ': 1,\n",
       " 'thích': 1,\n",
       " 'trà': 1}"
      ]
     },
     "execution_count": 80,
     "metadata": {},
     "output_type": "execute_result"
    }
   ],
   "source": [
    "unigram_count"
   ]
  },
  {
   "cell_type": "code",
   "execution_count": 74,
   "id": "2a532ac4-8e25-4be4-b7b3-61ad76e4d670",
   "metadata": {
    "tags": []
   },
   "outputs": [
    {
     "data": {
      "text/plain": [
       "16"
      ]
     },
     "execution_count": 74,
     "metadata": {},
     "output_type": "execute_result"
    }
   ],
   "source": [
    "count"
   ]
  },
  {
   "cell_type": "code",
   "execution_count": null,
   "id": "ba6783f5-49db-40db-b258-c234cb656a28",
   "metadata": {},
   "outputs": [],
   "source": []
  }
 ],
 "metadata": {
  "kernelspec": {
   "display_name": "Python 3 (ipykernel)",
   "language": "python",
   "name": "python3"
  },
  "language_info": {
   "codemirror_mode": {
    "name": "ipython",
    "version": 3
   },
   "file_extension": ".py",
   "mimetype": "text/x-python",
   "name": "python",
   "nbconvert_exporter": "python",
   "pygments_lexer": "ipython3",
   "version": "3.9.7"
  }
 },
 "nbformat": 4,
 "nbformat_minor": 5
}
