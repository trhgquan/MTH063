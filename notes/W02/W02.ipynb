{
 "cells": [
  {
   "cell_type": "markdown",
   "id": "0763bbe4-20cf-4cb8-a550-f082127fe990",
   "metadata": {
    "tags": []
   },
   "source": [
    "# Computational Graph"
   ]
  },
  {
   "cell_type": "markdown",
   "id": "3aeb70c4-7d57-4351-9ddd-1661c1412de6",
   "metadata": {},
   "source": [
    "Database -> using ER, ..etc to visualise\n",
    "\n",
    "AI? -> model visualization using graph (computational graph)"
   ]
  },
  {
   "cell_type": "markdown",
   "id": "898a2496-6a7d-474b-9a9b-95feea1648f1",
   "metadata": {},
   "source": [
    "- Deterministic (NN)\n",
    "- Stochastic (Bayesian)"
   ]
  },
  {
   "cell_type": "markdown",
   "id": "3ef0e8ed-b222-4cf3-b0b4-65935c26e361",
   "metadata": {},
   "source": [
    "## Partial derivatives"
   ]
  },
  {
   "cell_type": "markdown",
   "id": "1a0fe809-2334-43ba-9c66-779e5dd9dbec",
   "metadata": {},
   "source": [
    "3 methods:\n",
    "- Numerical derivatives\n",
    "\n",
    "$$\n",
    "\\frac{\\partial f}{\\partial x} = \\lim_{\\Delta x \\rightarrow 0} \\frac{f(x + \\Delta x) - f(x)}{\\Delta x}\n",
    "$$\n",
    "\n",
    "- Symbolic derivatives\n",
    "\n",
    "$$\n",
    "\\cos(x)'= -\\sin(x)\n",
    "$$\n",
    "\n",
    "- Automatic derivatives = Numerical derivatives + Symbolic derivatives"
   ]
  },
  {
   "cell_type": "markdown",
   "id": "b16cf648-f04e-43cd-a818-f85154827723",
   "metadata": {},
   "source": [
    "## Phương pháp đạo hàm tự động"
   ]
  },
  {
   "cell_type": "markdown",
   "id": "4089bf5b-be62-4441-8646-4fe1ebc044ca",
   "metadata": {},
   "source": [
    "$x \\rightarrow y \\rightarrow z \\rightarrow w$\n",
    "\n",
    "Forward differentiation:\n",
    "\n",
    "$$\n",
    "\\frac{\\partial w}{\\partial x} = \\frac{\\partial x}{\\partial x}\\frac{\\partial y}{\\partial x}\\frac{\\partial z}{\\partial y}\\frac{\\partial w}{\\partial z}\n",
    "$$"
   ]
  },
  {
   "cell_type": "markdown",
   "id": "b6534e82-1cc3-4848-9685-4932dddb606e",
   "metadata": {},
   "source": [
    "Backward differentiation:\n",
    "\n",
    "$$\n",
    "\\frac{\\partial w}{\\partial x} = \\frac{\\partial y}{\\partial x}\\frac{\\partial z}{\\partial y}\\frac{\\partial w}{\\partial z}\\frac{\\partial w}{\\partial w}\n",
    "$$"
   ]
  },
  {
   "cell_type": "markdown",
   "id": "8a389b6e-3722-41f1-82e5-bec6fd37f010",
   "metadata": {},
   "source": [
    "Example #1 (slide)"
   ]
  },
  {
   "cell_type": "code",
   "execution_count": 1,
   "id": "d8d644cd-c77e-4791-95ae-d15cbcf2f5b4",
   "metadata": {
    "tags": []
   },
   "outputs": [],
   "source": [
    "import torch"
   ]
  },
  {
   "cell_type": "code",
   "execution_count": 2,
   "id": "918aeb76-ef11-4bb8-9063-9066b3c9e1fc",
   "metadata": {
    "tags": []
   },
   "outputs": [],
   "source": [
    "a = torch.tensor(2., requires_grad = True)\n",
    "b = torch.tensor(1., requires_grad = True)\n",
    "c = a + b\n",
    "d = b + 1\n",
    "e = c * d"
   ]
  },
  {
   "cell_type": "code",
   "execution_count": 3,
   "id": "975521e6-3b8d-484a-b8e6-f4a72375650e",
   "metadata": {
    "tags": []
   },
   "outputs": [],
   "source": [
    "e.backward()"
   ]
  },
  {
   "cell_type": "code",
   "execution_count": 4,
   "id": "512b708f-a171-4d73-8986-470eddde5f5d",
   "metadata": {
    "tags": []
   },
   "outputs": [
    {
     "name": "stdout",
     "output_type": "stream",
     "text": [
      "de/da = 2.0\n",
      "de/db = 5.0\n"
     ]
    }
   ],
   "source": [
    "print(f\"de/da = {a.grad}\")\n",
    "print(f\"de/db = {b.grad}\")"
   ]
  },
  {
   "cell_type": "markdown",
   "id": "f9687eb9-716d-48d5-a337-7d83dc5f3a94",
   "metadata": {},
   "source": [
    "Example #2"
   ]
  },
  {
   "cell_type": "markdown",
   "id": "bf9e1e0c-54bc-4986-8de5-a5dbff01221a",
   "metadata": {},
   "source": [
    "<img src=\"hand-calc.png\">"
   ]
  },
  {
   "cell_type": "code",
   "execution_count": 5,
   "id": "128ecf52-0705-4174-97f4-7f652aa01044",
   "metadata": {
    "tags": []
   },
   "outputs": [],
   "source": [
    "x1 = torch.tensor(2., requires_grad = True)\n",
    "w1 = torch.tensor(-3., requires_grad = True)\n",
    "x2 = torch.tensor(4., requires_grad = True)\n",
    "w2 = torch.tensor(-1., requires_grad = True)"
   ]
  },
  {
   "cell_type": "code",
   "execution_count": 6,
   "id": "de0aa116-4131-4e7a-96e7-48e961a2b857",
   "metadata": {
    "tags": []
   },
   "outputs": [],
   "source": [
    "a = x1 + w1\n",
    "b = x2 + w1\n",
    "c = x2 + w2\n",
    "\n",
    "d = a * b\n",
    "e = torch.max(b, c)\n",
    "y = e + d"
   ]
  },
  {
   "cell_type": "code",
   "execution_count": 7,
   "id": "c42d64f3-1d53-4fb0-92d4-2d00b51c0bd3",
   "metadata": {
    "tags": []
   },
   "outputs": [],
   "source": [
    "y.backward()"
   ]
  },
  {
   "cell_type": "code",
   "execution_count": 8,
   "id": "08528548-869b-4191-bc2a-dab62522da13",
   "metadata": {
    "tags": []
   },
   "outputs": [
    {
     "data": {
      "text/plain": [
       "(tensor(1.), tensor(0.), tensor(0.), tensor(1.))"
      ]
     },
     "execution_count": 8,
     "metadata": {},
     "output_type": "execute_result"
    }
   ],
   "source": [
    "x1.grad, w1.grad, x2.grad, w2.grad"
   ]
  },
  {
   "cell_type": "markdown",
   "id": "f93f35b6-ee6f-457e-a95b-1fbb19d0d07c",
   "metadata": {},
   "source": [
    "## Tensor"
   ]
  },
  {
   "cell_type": "markdown",
   "id": "30f65bd3-6245-4dac-8ab1-0ec3880923af",
   "metadata": {},
   "source": [
    "### Using NumPy"
   ]
  },
  {
   "cell_type": "markdown",
   "id": "d5713f70-30fd-43aa-ac3c-e6884ca895d4",
   "metadata": {},
   "source": [
    "<img src=\"hand-calc-2.png\">\n",
    "\n",
    "Note: fuck these green, I'm wrong lol"
   ]
  },
  {
   "cell_type": "code",
   "execution_count": 9,
   "id": "54b72ffb-fac4-4c31-8645-182055eee05d",
   "metadata": {
    "tags": []
   },
   "outputs": [],
   "source": [
    "import numpy as np"
   ]
  },
  {
   "cell_type": "code",
   "execution_count": 10,
   "id": "2a6e045c-2c02-4995-9174-9b5424ceb376",
   "metadata": {
    "tags": []
   },
   "outputs": [],
   "source": [
    "x = np.matrix([[1, 1, -1], [0, -1, 1]])\n",
    "w1 = np.matrix([[1, 0], [1, 2]])\n",
    "w2 = np.matrix([1, -2])\n",
    "y = np.matrix([1, -2, -1])"
   ]
  },
  {
   "cell_type": "code",
   "execution_count": 11,
   "id": "bfd89e86-a525-4873-968f-f9535e2a936a",
   "metadata": {
    "tags": []
   },
   "outputs": [],
   "source": [
    "a = w1 @ x\n",
    "b = w2 @ a\n",
    "e = y - b\n",
    "cost = np.sum(np.square(e))"
   ]
  },
  {
   "cell_type": "code",
   "execution_count": 12,
   "id": "af9e4d60-4772-4abb-9033-790a448be094",
   "metadata": {
    "tags": []
   },
   "outputs": [
    {
     "data": {
      "text/plain": [
       "(matrix([[ 1,  1, -1],\n",
       "         [ 1, -1,  1]]),\n",
       " matrix([[-1,  3, -3]]),\n",
       " matrix([[ 2, -5,  2]]))"
      ]
     },
     "execution_count": 12,
     "metadata": {},
     "output_type": "execute_result"
    }
   ],
   "source": [
    "a, b, e"
   ]
  },
  {
   "cell_type": "code",
   "execution_count": 13,
   "id": "25317eab-babb-43cb-9adb-d650884c3fdd",
   "metadata": {
    "tags": []
   },
   "outputs": [
    {
     "data": {
      "text/plain": [
       "33"
      ]
     },
     "execution_count": 13,
     "metadata": {},
     "output_type": "execute_result"
    }
   ],
   "source": [
    "cost"
   ]
  },
  {
   "cell_type": "code",
   "execution_count": 14,
   "id": "fd2b8f81-9927-43e5-a028-97c610aa64e5",
   "metadata": {
    "tags": []
   },
   "outputs": [],
   "source": [
    "dcde = 2 * e"
   ]
  },
  {
   "cell_type": "code",
   "execution_count": 15,
   "id": "7b9c21c1-b901-42c9-aaef-abac63513eb4",
   "metadata": {
    "tags": []
   },
   "outputs": [
    {
     "data": {
      "text/plain": [
       "matrix([[  4, -10,   4]])"
      ]
     },
     "execution_count": 15,
     "metadata": {},
     "output_type": "execute_result"
    }
   ],
   "source": [
    "dcde"
   ]
  },
  {
   "cell_type": "code",
   "execution_count": 16,
   "id": "cd417331-e8ef-400f-9516-a13afe0ef482",
   "metadata": {
    "tags": []
   },
   "outputs": [],
   "source": [
    "dcdw2 = -dcde @ a.T"
   ]
  },
  {
   "cell_type": "code",
   "execution_count": 17,
   "id": "3d2f05a1-19df-46a0-beeb-337a9acb1a92",
   "metadata": {
    "tags": []
   },
   "outputs": [
    {
     "data": {
      "text/plain": [
       "matrix([[ 10, -18]])"
      ]
     },
     "execution_count": 17,
     "metadata": {},
     "output_type": "execute_result"
    }
   ],
   "source": [
    "dcdw2"
   ]
  },
  {
   "cell_type": "code",
   "execution_count": 18,
   "id": "d36df6c9-3f8f-4b4e-892e-4aed016786f2",
   "metadata": {
    "tags": []
   },
   "outputs": [],
   "source": [
    "dcda = w2.T @ -dcde"
   ]
  },
  {
   "cell_type": "code",
   "execution_count": 19,
   "id": "49c998bf-8e4f-44a7-a03b-97b087c4b002",
   "metadata": {
    "tags": []
   },
   "outputs": [
    {
     "data": {
      "text/plain": [
       "matrix([[ -4,  10,  -4],\n",
       "        [  8, -20,   8]])"
      ]
     },
     "execution_count": 19,
     "metadata": {},
     "output_type": "execute_result"
    }
   ],
   "source": [
    "dcda"
   ]
  },
  {
   "cell_type": "code",
   "execution_count": 20,
   "id": "71fcceea-643e-44be-8234-dff9ea4e5423",
   "metadata": {
    "tags": []
   },
   "outputs": [],
   "source": [
    "dcdw1 = dcda @ x.T"
   ]
  },
  {
   "cell_type": "code",
   "execution_count": 21,
   "id": "2e780425-5442-4092-88de-9c56a59310d5",
   "metadata": {
    "tags": []
   },
   "outputs": [
    {
     "data": {
      "text/plain": [
       "matrix([[ 10, -14],\n",
       "        [-20,  28]])"
      ]
     },
     "execution_count": 21,
     "metadata": {},
     "output_type": "execute_result"
    }
   ],
   "source": [
    "dcdw1"
   ]
  },
  {
   "cell_type": "code",
   "execution_count": 22,
   "id": "95aac982-08b1-4fae-b3a3-c860200159b2",
   "metadata": {
    "tags": []
   },
   "outputs": [],
   "source": [
    "dcdx = w1.T @ dcda"
   ]
  },
  {
   "cell_type": "code",
   "execution_count": 23,
   "id": "9508c962-78aa-4eed-a989-63d100ca8f52",
   "metadata": {
    "tags": []
   },
   "outputs": [
    {
     "data": {
      "text/plain": [
       "matrix([[  4, -10,   4],\n",
       "        [ 16, -40,  16]])"
      ]
     },
     "execution_count": 23,
     "metadata": {},
     "output_type": "execute_result"
    }
   ],
   "source": [
    "dcdx"
   ]
  },
  {
   "cell_type": "code",
   "execution_count": 24,
   "id": "902295c6-b83b-41a8-bd18-c7f8988bcf89",
   "metadata": {
    "tags": []
   },
   "outputs": [],
   "source": [
    "dcdy = dcde"
   ]
  },
  {
   "cell_type": "code",
   "execution_count": 25,
   "id": "a9324f75-2dd0-4b0c-9c5f-c25f51b33511",
   "metadata": {},
   "outputs": [
    {
     "data": {
      "text/plain": [
       "(matrix([[  4, -10,   4],\n",
       "         [ 16, -40,  16]]),\n",
       " matrix([[ 10, -14],\n",
       "         [-20,  28]]),\n",
       " matrix([[  4, -10,   4]]),\n",
       " matrix([[ 10, -18]]))"
      ]
     },
     "execution_count": 25,
     "metadata": {},
     "output_type": "execute_result"
    }
   ],
   "source": [
    "dcdx, dcdw1, dcdy, dcdw2"
   ]
  },
  {
   "cell_type": "markdown",
   "id": "e467ac0e-50ce-4c34-884c-cd73b2691f48",
   "metadata": {},
   "source": [
    "### Using pytorch"
   ]
  },
  {
   "cell_type": "code",
   "execution_count": 26,
   "id": "d5b3a49c-5c94-454d-95e3-fd1132a6a155",
   "metadata": {
    "tags": []
   },
   "outputs": [],
   "source": [
    "x = torch.tensor([[1., 1., -1.], [0., -1., 1.]], requires_grad = True)\n",
    "w1 = torch.tensor([[1., 0.], [1., 2.]], requires_grad = True)\n",
    "y = torch.tensor([1., -2., -1.], requires_grad = True)\n",
    "w2 = torch.tensor([1., -2.], requires_grad = True)"
   ]
  },
  {
   "cell_type": "code",
   "execution_count": 27,
   "id": "b115489f-fffc-4213-8b7b-47c01d3a7137",
   "metadata": {
    "tags": []
   },
   "outputs": [],
   "source": [
    "a = w1 @ x\n",
    "b = w2 @ a\n",
    "e = y - b\n",
    "c = torch.sum(torch.square(e))"
   ]
  },
  {
   "cell_type": "code",
   "execution_count": 28,
   "id": "fcb25874-2836-40fe-ad41-c8d452b3e0ab",
   "metadata": {
    "tags": []
   },
   "outputs": [
    {
     "data": {
      "text/plain": [
       "tensor(33., grad_fn=<SumBackward0>)"
      ]
     },
     "execution_count": 28,
     "metadata": {},
     "output_type": "execute_result"
    }
   ],
   "source": [
    "c"
   ]
  },
  {
   "cell_type": "code",
   "execution_count": 29,
   "id": "48f90977-3bd5-42e7-b78b-e68c36ff4845",
   "metadata": {
    "tags": []
   },
   "outputs": [
    {
     "data": {
      "text/plain": [
       "(tensor([[ 1.,  1., -1.],\n",
       "         [ 1., -1.,  1.]], grad_fn=<MmBackward0>),\n",
       " tensor([-1.,  3., -3.], grad_fn=<SqueezeBackward3>),\n",
       " tensor([ 2., -5.,  2.], grad_fn=<SubBackward0>))"
      ]
     },
     "execution_count": 29,
     "metadata": {},
     "output_type": "execute_result"
    }
   ],
   "source": [
    "a, b, e"
   ]
  },
  {
   "cell_type": "code",
   "execution_count": 30,
   "id": "62dc2eed-3c42-45c9-8c5b-7907e8901381",
   "metadata": {
    "tags": []
   },
   "outputs": [],
   "source": [
    "c.backward()"
   ]
  },
  {
   "cell_type": "code",
   "execution_count": 31,
   "id": "e09ad91b-aa12-4516-94e2-8a9ce638f82d",
   "metadata": {
    "tags": []
   },
   "outputs": [
    {
     "data": {
      "text/plain": [
       "(tensor([[  4., -10.,   4.],\n",
       "         [ 16., -40.,  16.]]),\n",
       " tensor([[ 10., -14.],\n",
       "         [-20.,  28.]]),\n",
       " tensor([  4., -10.,   4.]),\n",
       " tensor([ 10., -18.]))"
      ]
     },
     "execution_count": 31,
     "metadata": {},
     "output_type": "execute_result"
    }
   ],
   "source": [
    "x.grad, w1.grad, y.grad, w2.grad"
   ]
  }
 ],
 "metadata": {
  "kernelspec": {
   "display_name": "Python 3 (ipykernel)",
   "language": "python",
   "name": "python3"
  },
  "language_info": {
   "codemirror_mode": {
    "name": "ipython",
    "version": 3
   },
   "file_extension": ".py",
   "mimetype": "text/x-python",
   "name": "python",
   "nbconvert_exporter": "python",
   "pygments_lexer": "ipython3",
   "version": "3.9.7"
  }
 },
 "nbformat": 4,
 "nbformat_minor": 5
}
