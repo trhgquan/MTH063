{
 "cells": [
  {
   "cell_type": "markdown",
   "id": "9f07fd39",
   "metadata": {},
   "source": [
    "# Week01: Regression & Optimization"
   ]
  },
  {
   "cell_type": "markdown",
   "id": "99a34362",
   "metadata": {},
   "source": [
    "# Linear Regression"
   ]
  },
  {
   "cell_type": "markdown",
   "id": "d73d7de9",
   "metadata": {},
   "source": [
    "$$\n",
    "Y \\sim X_1, X_2, .., X_D\n",
    "$$\n",
    "\n",
    "where $Y$ is the dependent variable, $X_1, X_2, .., X_D$ are independent variables. Hence we can form an equation:"
   ]
  },
  {
   "cell_type": "markdown",
   "id": "73f11b9e",
   "metadata": {},
   "source": [
    "$$\n",
    "Y = w_0 + w_1X_1 + w_2X_2 + .. + w_DX_D = w_0 + \\sum_{i = 1}^{D} w_iX_i\n",
    "$$"
   ]
  },
  {
   "cell_type": "markdown",
   "id": "82b33074",
   "metadata": {},
   "source": [
    "### Example 7.2 (Mr. Len Bui's book)"
   ]
  },
  {
   "cell_type": "code",
   "execution_count": 1,
   "id": "c8e4a3ea",
   "metadata": {},
   "outputs": [],
   "source": [
    "import pandas as pd\n",
    "import numpy as np"
   ]
  },
  {
   "cell_type": "code",
   "execution_count": 2,
   "id": "be1b27a3",
   "metadata": {},
   "outputs": [],
   "source": [
    "income = np.array([31, 50, 47, 45, 39, 50, 35, 40, 45, 50])\n",
    "expenses = np.array([29, 42, 38, 30, 29, 41, 23, 36, 42, 48])"
   ]
  },
  {
   "cell_type": "markdown",
   "id": "622e1b15",
   "metadata": {},
   "source": [
    "First case: $w_0 = 0, w_1 = 0.8$"
   ]
  },
  {
   "cell_type": "code",
   "execution_count": 3,
   "id": "78d626eb",
   "metadata": {},
   "outputs": [],
   "source": [
    "w0 = 0\n",
    "w1 = 0.8"
   ]
  },
  {
   "cell_type": "code",
   "execution_count": 4,
   "id": "bd5524bd",
   "metadata": {},
   "outputs": [],
   "source": [
    "expenses_hat = income * w1 + w0"
   ]
  },
  {
   "cell_type": "code",
   "execution_count": 5,
   "id": "f35fade1",
   "metadata": {},
   "outputs": [
    {
     "data": {
      "text/plain": [
       "array([24.8, 40. , 37.6, 36. , 31.2, 40. , 28. , 32. , 36. , 40. ])"
      ]
     },
     "execution_count": 5,
     "metadata": {},
     "output_type": "execute_result"
    }
   ],
   "source": [
    "expenses_hat"
   ]
  },
  {
   "cell_type": "code",
   "execution_count": 6,
   "id": "017a9b67",
   "metadata": {},
   "outputs": [],
   "source": [
    "res = np.mean((expenses - expenses_hat) ** 2)"
   ]
  },
  {
   "cell_type": "code",
   "execution_count": 7,
   "id": "ae19b231",
   "metadata": {},
   "outputs": [
    {
     "data": {
      "text/plain": [
       "20.464"
      ]
     },
     "execution_count": 7,
     "metadata": {},
     "output_type": "execute_result"
    }
   ],
   "source": [
    "res"
   ]
  },
  {
   "cell_type": "code",
   "execution_count": 8,
   "id": "8a7a2168",
   "metadata": {},
   "outputs": [
    {
     "data": {
      "text/plain": [
       "array([17.64,  4.  ,  0.16, 36.  ,  4.84,  1.  , 25.  , 16.  , 36.  ,\n",
       "       64.  ])"
      ]
     },
     "execution_count": 8,
     "metadata": {},
     "output_type": "execute_result"
    }
   ],
   "source": [
    "(expenses - expenses_hat) ** 2"
   ]
  },
  {
   "cell_type": "code",
   "execution_count": 9,
   "id": "4e5b7228",
   "metadata": {},
   "outputs": [],
   "source": [
    "def mse_error(w0, w1):\n",
    "    expenses_hat = income * w1 + w0\n",
    "    return np.mean((expenses - expenses_hat) ** 2)"
   ]
  },
  {
   "cell_type": "markdown",
   "id": "5b23b4c5",
   "metadata": {},
   "source": [
    "Second case: $w_0 = 0, w_1 = 0.9$"
   ]
  },
  {
   "cell_type": "code",
   "execution_count": 10,
   "id": "89a828bd",
   "metadata": {},
   "outputs": [
    {
     "data": {
      "text/plain": [
       "27.56600000000001"
      ]
     },
     "execution_count": 10,
     "metadata": {},
     "output_type": "execute_result"
    }
   ],
   "source": [
    "mse_error(w0 = 0, w1 = .9)"
   ]
  },
  {
   "cell_type": "markdown",
   "id": "2f0d81af",
   "metadata": {},
   "source": [
    "A simple estimate of $w_0$ and $w_1$:\n",
    "$$\n",
    "\\hat{w_1} = \\frac{\\bar{xy} - \\bar{x}\\bar{y}}{\\bar{x^2} - \\bar{x}^2} \\\\\n",
    "\\hat{w_0} = \\bar{y} - \\hat{w_1}\\bar{x}\n",
    "$$"
   ]
  },
  {
   "cell_type": "code",
   "execution_count": 11,
   "id": "93144cc0",
   "metadata": {},
   "outputs": [],
   "source": [
    "mean_xy = np.mean(income * expenses)\n",
    "mean_x = np.mean(income)\n",
    "mean_x_squared = np.mean(income ** 2)\n",
    "mean_y = np.mean(expenses)"
   ]
  },
  {
   "cell_type": "code",
   "execution_count": 12,
   "id": "1642c47a",
   "metadata": {},
   "outputs": [
    {
     "data": {
      "text/plain": [
       "1585.1"
      ]
     },
     "execution_count": 12,
     "metadata": {},
     "output_type": "execute_result"
    }
   ],
   "source": [
    "mean_xy"
   ]
  },
  {
   "cell_type": "code",
   "execution_count": 13,
   "id": "599c15be",
   "metadata": {},
   "outputs": [
    {
     "data": {
      "text/plain": [
       "43.2"
      ]
     },
     "execution_count": 13,
     "metadata": {},
     "output_type": "execute_result"
    }
   ],
   "source": [
    "mean_x"
   ]
  },
  {
   "cell_type": "code",
   "execution_count": 14,
   "id": "e2b33ed5",
   "metadata": {},
   "outputs": [
    {
     "data": {
      "text/plain": [
       "1906.6"
      ]
     },
     "execution_count": 14,
     "metadata": {},
     "output_type": "execute_result"
    }
   ],
   "source": [
    "mean_x_squared"
   ]
  },
  {
   "cell_type": "code",
   "execution_count": 15,
   "id": "5679e5ee",
   "metadata": {},
   "outputs": [
    {
     "data": {
      "text/plain": [
       "35.8"
      ]
     },
     "execution_count": 15,
     "metadata": {},
     "output_type": "execute_result"
    }
   ],
   "source": [
    "mean_y"
   ]
  },
  {
   "cell_type": "code",
   "execution_count": 16,
   "id": "5f8ad363",
   "metadata": {},
   "outputs": [],
   "source": [
    "w1_hat = (mean_xy - mean_x * mean_y) / (mean_x_squared - mean_x ** 2)"
   ]
  },
  {
   "cell_type": "code",
   "execution_count": 17,
   "id": "b22133da",
   "metadata": {},
   "outputs": [
    {
     "data": {
      "text/plain": [
       "0.9549058473736441"
      ]
     },
     "execution_count": 17,
     "metadata": {},
     "output_type": "execute_result"
    }
   ],
   "source": [
    "w1_hat"
   ]
  },
  {
   "cell_type": "code",
   "execution_count": 18,
   "id": "2ad13ba6",
   "metadata": {},
   "outputs": [],
   "source": [
    "w0_hat = mean_y - w1_hat * mean_x"
   ]
  },
  {
   "cell_type": "code",
   "execution_count": 19,
   "id": "49d21d65",
   "metadata": {},
   "outputs": [
    {
     "data": {
      "text/plain": [
       "-5.451932606541433"
      ]
     },
     "execution_count": 19,
     "metadata": {},
     "output_type": "execute_result"
    }
   ],
   "source": [
    "w0_hat"
   ]
  },
  {
   "cell_type": "code",
   "execution_count": 20,
   "id": "dbaf3110",
   "metadata": {},
   "outputs": [
    {
     "data": {
      "text/plain": [
       "17.957928642220025"
      ]
     },
     "execution_count": 20,
     "metadata": {},
     "output_type": "execute_result"
    }
   ],
   "source": [
    "mse_error(w0 = w0_hat, w1 = w1_hat)"
   ]
  },
  {
   "cell_type": "markdown",
   "id": "d7c414ea",
   "metadata": {},
   "source": [
    "# Optimization"
   ]
  },
  {
   "cell_type": "markdown",
   "id": "3e5a191a-2eda-46a9-ad98-17b7bc868cf1",
   "metadata": {},
   "source": [
    "Try running `simann_bing.py` and `simann_chatgpt.py` for the Simulated Annealing Algorithm."
   ]
  }
 ],
 "metadata": {
  "kernelspec": {
   "display_name": "Python 3 (ipykernel)",
   "language": "python",
   "name": "python3"
  },
  "language_info": {
   "codemirror_mode": {
    "name": "ipython",
    "version": 3
   },
   "file_extension": ".py",
   "mimetype": "text/x-python",
   "name": "python",
   "nbconvert_exporter": "python",
   "pygments_lexer": "ipython3",
   "version": "3.9.7"
  }
 },
 "nbformat": 4,
 "nbformat_minor": 5
}
