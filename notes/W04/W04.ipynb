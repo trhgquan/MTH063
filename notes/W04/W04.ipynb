{
 "cells": [
  {
   "cell_type": "markdown",
   "id": "84f94bc6-60ec-4017-bf23-d06fd81e0855",
   "metadata": {
    "tags": []
   },
   "source": [
    "# Decision Tree"
   ]
  },
  {
   "cell_type": "code",
   "execution_count": 1,
   "id": "23f2c641-ca70-477b-acee-4f43f9efb52f",
   "metadata": {
    "tags": []
   },
   "outputs": [],
   "source": [
    "import pandas as pd\n",
    "import numpy as np"
   ]
  },
  {
   "cell_type": "code",
   "execution_count": 2,
   "id": "9c526ead-14f4-4cda-a273-7ef708a5c562",
   "metadata": {
    "tags": []
   },
   "outputs": [],
   "source": [
    "weather = pd.read_csv(\"weather.csv\")"
   ]
  },
  {
   "cell_type": "code",
   "execution_count": 3,
   "id": "bc799b60-857e-4e43-9942-dad68d7383b0",
   "metadata": {
    "tags": []
   },
   "outputs": [
    {
     "data": {
      "text/html": [
       "<div>\n",
       "<style scoped>\n",
       "    .dataframe tbody tr th:only-of-type {\n",
       "        vertical-align: middle;\n",
       "    }\n",
       "\n",
       "    .dataframe tbody tr th {\n",
       "        vertical-align: top;\n",
       "    }\n",
       "\n",
       "    .dataframe thead th {\n",
       "        text-align: right;\n",
       "    }\n",
       "</style>\n",
       "<table border=\"1\" class=\"dataframe\">\n",
       "  <thead>\n",
       "    <tr style=\"text-align: right;\">\n",
       "      <th></th>\n",
       "      <th>Day</th>\n",
       "      <th>Outlook</th>\n",
       "      <th>Temperature</th>\n",
       "      <th>Humidity</th>\n",
       "      <th>Wind</th>\n",
       "      <th>PlayTennis?</th>\n",
       "    </tr>\n",
       "  </thead>\n",
       "  <tbody>\n",
       "    <tr>\n",
       "      <th>0</th>\n",
       "      <td>D6</td>\n",
       "      <td>Rain</td>\n",
       "      <td>18</td>\n",
       "      <td>Normal</td>\n",
       "      <td>Strong</td>\n",
       "      <td>No</td>\n",
       "    </tr>\n",
       "    <tr>\n",
       "      <th>1</th>\n",
       "      <td>D7</td>\n",
       "      <td>Overcast</td>\n",
       "      <td>19</td>\n",
       "      <td>Normal</td>\n",
       "      <td>Strong</td>\n",
       "      <td>Yes</td>\n",
       "    </tr>\n",
       "    <tr>\n",
       "      <th>2</th>\n",
       "      <td>D5</td>\n",
       "      <td>Rain</td>\n",
       "      <td>20</td>\n",
       "      <td>Normal</td>\n",
       "      <td>Weak</td>\n",
       "      <td>Yes</td>\n",
       "    </tr>\n",
       "    <tr>\n",
       "      <th>3</th>\n",
       "      <td>D9</td>\n",
       "      <td>Sunny</td>\n",
       "      <td>21</td>\n",
       "      <td>Normal</td>\n",
       "      <td>Weak</td>\n",
       "      <td>Yes</td>\n",
       "    </tr>\n",
       "    <tr>\n",
       "      <th>4</th>\n",
       "      <td>D10</td>\n",
       "      <td>Rain</td>\n",
       "      <td>26</td>\n",
       "      <td>Normal</td>\n",
       "      <td>Weak</td>\n",
       "      <td>Yes</td>\n",
       "    </tr>\n",
       "    <tr>\n",
       "      <th>5</th>\n",
       "      <td>D11</td>\n",
       "      <td>Sunny</td>\n",
       "      <td>26</td>\n",
       "      <td>Normal</td>\n",
       "      <td>Strong</td>\n",
       "      <td>Yes</td>\n",
       "    </tr>\n",
       "    <tr>\n",
       "      <th>6</th>\n",
       "      <td>D8</td>\n",
       "      <td>Sunny</td>\n",
       "      <td>27</td>\n",
       "      <td>High</td>\n",
       "      <td>Weak</td>\n",
       "      <td>No</td>\n",
       "    </tr>\n",
       "    <tr>\n",
       "      <th>7</th>\n",
       "      <td>D12</td>\n",
       "      <td>Overcast</td>\n",
       "      <td>27</td>\n",
       "      <td>High</td>\n",
       "      <td>Strong</td>\n",
       "      <td>Yes</td>\n",
       "    </tr>\n",
       "    <tr>\n",
       "      <th>8</th>\n",
       "      <td>D4</td>\n",
       "      <td>Rain</td>\n",
       "      <td>28</td>\n",
       "      <td>High</td>\n",
       "      <td>Weak</td>\n",
       "      <td>Yes</td>\n",
       "    </tr>\n",
       "    <tr>\n",
       "      <th>9</th>\n",
       "      <td>D14</td>\n",
       "      <td>Rain</td>\n",
       "      <td>28</td>\n",
       "      <td>High</td>\n",
       "      <td>Strong</td>\n",
       "      <td>No</td>\n",
       "    </tr>\n",
       "    <tr>\n",
       "      <th>10</th>\n",
       "      <td>D13</td>\n",
       "      <td>Overcast</td>\n",
       "      <td>36</td>\n",
       "      <td>Normal</td>\n",
       "      <td>Weak</td>\n",
       "      <td>Yes</td>\n",
       "    </tr>\n",
       "    <tr>\n",
       "      <th>11</th>\n",
       "      <td>D1</td>\n",
       "      <td>Sunny</td>\n",
       "      <td>37</td>\n",
       "      <td>High</td>\n",
       "      <td>Weak</td>\n",
       "      <td>No</td>\n",
       "    </tr>\n",
       "    <tr>\n",
       "      <th>12</th>\n",
       "      <td>D2</td>\n",
       "      <td>Sunny</td>\n",
       "      <td>37</td>\n",
       "      <td>High</td>\n",
       "      <td>Strong</td>\n",
       "      <td>No</td>\n",
       "    </tr>\n",
       "    <tr>\n",
       "      <th>13</th>\n",
       "      <td>D3</td>\n",
       "      <td>Overcast</td>\n",
       "      <td>38</td>\n",
       "      <td>High</td>\n",
       "      <td>Weak</td>\n",
       "      <td>Yes</td>\n",
       "    </tr>\n",
       "  </tbody>\n",
       "</table>\n",
       "</div>"
      ],
      "text/plain": [
       "    Day   Outlook  Temperature Humidity    Wind PlayTennis?\n",
       "0    D6      Rain           18   Normal  Strong          No\n",
       "1    D7  Overcast           19   Normal  Strong         Yes\n",
       "2    D5      Rain           20   Normal    Weak         Yes\n",
       "3    D9     Sunny           21   Normal    Weak         Yes\n",
       "4   D10      Rain           26   Normal    Weak         Yes\n",
       "5   D11     Sunny           26   Normal  Strong         Yes\n",
       "6    D8     Sunny           27     High    Weak          No\n",
       "7   D12  Overcast           27     High  Strong         Yes\n",
       "8    D4      Rain           28     High    Weak         Yes\n",
       "9   D14      Rain           28     High  Strong          No\n",
       "10  D13  Overcast           36   Normal    Weak         Yes\n",
       "11   D1     Sunny           37     High    Weak          No\n",
       "12   D2     Sunny           37     High  Strong          No\n",
       "13   D3  Overcast           38     High    Weak         Yes"
      ]
     },
     "execution_count": 3,
     "metadata": {},
     "output_type": "execute_result"
    }
   ],
   "source": [
    "weather"
   ]
  },
  {
   "cell_type": "code",
   "execution_count": 4,
   "id": "e64a75ac-6d77-4834-a923-e71d5d68f900",
   "metadata": {
    "tags": []
   },
   "outputs": [],
   "source": [
    "def calculate_entropy_split(temperature_threshold):\n",
    "    first_partition, second_partition = weather[weather[\"Temperature\"] <= temperature_threshold], weather[weather[\"Temperature\"] > temperature_threshold]\n",
    "    \n",
    "    # Probability of each partition\n",
    "    p_partition1 = first_partition.shape[0] / weather.shape[0]\n",
    "    p_partition2 = second_partition.shape[0] / weather.shape[0]\n",
    "    \n",
    "    # Calculate probabilities of each class in each partition\n",
    "    p_yes_partition1 = first_partition[first_partition[\"PlayTennis?\"] == \"Yes\"].shape[0] / first_partition.shape[0]\n",
    "    p_no_partition1 = 1 - p_yes_partition1\n",
    "    \n",
    "    p_yes_partition2 = second_partition[second_partition[\"PlayTennis?\"] == \"Yes\"].shape[0] / second_partition.shape[0]\n",
    "    p_no_partition2 = 1 - p_yes_partition2\n",
    "    \n",
    "    if p_yes_partition1 == 0 or p_no_partition1 == 0:\n",
    "        mean_entropy_p1 = 0\n",
    "    else:\n",
    "        mean_entropy_p1 = -(p_yes_partition1 * np.log2(p_yes_partition1) + p_no_partition1 * np.log2(p_no_partition1))\n",
    "    \n",
    "    if p_yes_partition2 == 0 or p_no_partition2 == 0:\n",
    "        mean_entropy_p2 = 0\n",
    "    else:\n",
    "        mean_entropy_p2 = -(p_yes_partition2 * np.log2(p_yes_partition2) + p_no_partition2 * np.log2(p_no_partition2))\n",
    "    \n",
    "    return p_partition1 * mean_entropy_p1 + p_partition2 * mean_entropy_p2"
   ]
  },
  {
   "cell_type": "code",
   "execution_count": 5,
   "id": "04d08ff8-e1e3-452d-a45e-78612d2cda1c",
   "metadata": {
    "tags": []
   },
   "outputs": [],
   "source": [
    "mean_entropy_first_split = calculate_entropy_split(temperature_threshold=18)"
   ]
  },
  {
   "cell_type": "code",
   "execution_count": 6,
   "id": "55d60511-121d-463a-8568-8683981c316f",
   "metadata": {
    "tags": []
   },
   "outputs": [
    {
     "data": {
      "text/plain": [
       "0.8268850944895277"
      ]
     },
     "execution_count": 6,
     "metadata": {},
     "output_type": "execute_result"
    }
   ],
   "source": [
    "mean_entropy_first_split"
   ]
  },
  {
   "cell_type": "code",
   "execution_count": 7,
   "id": "ce61a90d-5d59-45a1-b74d-c698173c9894",
   "metadata": {
    "tags": []
   },
   "outputs": [],
   "source": [
    "mean_entropy_second_split = calculate_entropy_split(temperature_threshold=19)"
   ]
  },
  {
   "cell_type": "code",
   "execution_count": 8,
   "id": "bd91a374-7e63-42d3-9718-d3acf55b9364",
   "metadata": {
    "tags": []
   },
   "outputs": [
    {
     "data": {
      "text/plain": [
       "0.9299678577609909"
      ]
     },
     "execution_count": 8,
     "metadata": {},
     "output_type": "execute_result"
    }
   ],
   "source": [
    "mean_entropy_second_split"
   ]
  },
  {
   "cell_type": "markdown",
   "id": "df823029-2a64-4a3a-8a22-92380f187272",
   "metadata": {},
   "source": [
    "Using sklearn's Decision Tree"
   ]
  },
  {
   "cell_type": "code",
   "execution_count": 9,
   "id": "85d841e9-c1e1-443a-b1c3-e413d852587f",
   "metadata": {
    "tags": []
   },
   "outputs": [],
   "source": [
    "from sklearn.tree import DecisionTreeClassifier, plot_tree\n",
    "from sklearn.preprocessing import OneHotEncoder\n",
    "import matplotlib.pyplot as plt"
   ]
  },
  {
   "cell_type": "code",
   "execution_count": 10,
   "id": "615570f6-e25b-4f69-b470-0bfe308550a7",
   "metadata": {
    "tags": []
   },
   "outputs": [],
   "source": [
    "# Load the dataset\n",
    "df = pd.read_csv('weather.csv')\n",
    "df = df.drop(\"Day\", axis = 1)"
   ]
  },
  {
   "cell_type": "code",
   "execution_count": 11,
   "id": "57363f47-7e31-4335-9765-3eafb9b7d3fa",
   "metadata": {
    "tags": []
   },
   "outputs": [],
   "source": [
    "# Encode the categorical features\n",
    "encoder = OneHotEncoder(handle_unknown='ignore')\n",
    "features = encoder.fit_transform(df.drop('PlayTennis?', axis=1)).toarray()"
   ]
  },
  {
   "cell_type": "code",
   "execution_count": 12,
   "id": "ce3be98b-64af-491f-9eb2-17a630b6be7e",
   "metadata": {
    "tags": []
   },
   "outputs": [],
   "source": [
    "# Create a decision tree classifier\n",
    "clf = DecisionTreeClassifier(criterion=\"entropy\")"
   ]
  },
  {
   "cell_type": "code",
   "execution_count": 13,
   "id": "3627c71b-79da-4400-9125-2ffef943427a",
   "metadata": {
    "tags": []
   },
   "outputs": [
    {
     "data": {
      "text/html": [
       "<style>#sk-container-id-1 {color: black;background-color: white;}#sk-container-id-1 pre{padding: 0;}#sk-container-id-1 div.sk-toggleable {background-color: white;}#sk-container-id-1 label.sk-toggleable__label {cursor: pointer;display: block;width: 100%;margin-bottom: 0;padding: 0.3em;box-sizing: border-box;text-align: center;}#sk-container-id-1 label.sk-toggleable__label-arrow:before {content: \"▸\";float: left;margin-right: 0.25em;color: #696969;}#sk-container-id-1 label.sk-toggleable__label-arrow:hover:before {color: black;}#sk-container-id-1 div.sk-estimator:hover label.sk-toggleable__label-arrow:before {color: black;}#sk-container-id-1 div.sk-toggleable__content {max-height: 0;max-width: 0;overflow: hidden;text-align: left;background-color: #f0f8ff;}#sk-container-id-1 div.sk-toggleable__content pre {margin: 0.2em;color: black;border-radius: 0.25em;background-color: #f0f8ff;}#sk-container-id-1 input.sk-toggleable__control:checked~div.sk-toggleable__content {max-height: 200px;max-width: 100%;overflow: auto;}#sk-container-id-1 input.sk-toggleable__control:checked~label.sk-toggleable__label-arrow:before {content: \"▾\";}#sk-container-id-1 div.sk-estimator input.sk-toggleable__control:checked~label.sk-toggleable__label {background-color: #d4ebff;}#sk-container-id-1 div.sk-label input.sk-toggleable__control:checked~label.sk-toggleable__label {background-color: #d4ebff;}#sk-container-id-1 input.sk-hidden--visually {border: 0;clip: rect(1px 1px 1px 1px);clip: rect(1px, 1px, 1px, 1px);height: 1px;margin: -1px;overflow: hidden;padding: 0;position: absolute;width: 1px;}#sk-container-id-1 div.sk-estimator {font-family: monospace;background-color: #f0f8ff;border: 1px dotted black;border-radius: 0.25em;box-sizing: border-box;margin-bottom: 0.5em;}#sk-container-id-1 div.sk-estimator:hover {background-color: #d4ebff;}#sk-container-id-1 div.sk-parallel-item::after {content: \"\";width: 100%;border-bottom: 1px solid gray;flex-grow: 1;}#sk-container-id-1 div.sk-label:hover label.sk-toggleable__label {background-color: #d4ebff;}#sk-container-id-1 div.sk-serial::before {content: \"\";position: absolute;border-left: 1px solid gray;box-sizing: border-box;top: 0;bottom: 0;left: 50%;z-index: 0;}#sk-container-id-1 div.sk-serial {display: flex;flex-direction: column;align-items: center;background-color: white;padding-right: 0.2em;padding-left: 0.2em;position: relative;}#sk-container-id-1 div.sk-item {position: relative;z-index: 1;}#sk-container-id-1 div.sk-parallel {display: flex;align-items: stretch;justify-content: center;background-color: white;position: relative;}#sk-container-id-1 div.sk-item::before, #sk-container-id-1 div.sk-parallel-item::before {content: \"\";position: absolute;border-left: 1px solid gray;box-sizing: border-box;top: 0;bottom: 0;left: 50%;z-index: -1;}#sk-container-id-1 div.sk-parallel-item {display: flex;flex-direction: column;z-index: 1;position: relative;background-color: white;}#sk-container-id-1 div.sk-parallel-item:first-child::after {align-self: flex-end;width: 50%;}#sk-container-id-1 div.sk-parallel-item:last-child::after {align-self: flex-start;width: 50%;}#sk-container-id-1 div.sk-parallel-item:only-child::after {width: 0;}#sk-container-id-1 div.sk-dashed-wrapped {border: 1px dashed gray;margin: 0 0.4em 0.5em 0.4em;box-sizing: border-box;padding-bottom: 0.4em;background-color: white;}#sk-container-id-1 div.sk-label label {font-family: monospace;font-weight: bold;display: inline-block;line-height: 1.2em;}#sk-container-id-1 div.sk-label-container {text-align: center;}#sk-container-id-1 div.sk-container {/* jupyter's `normalize.less` sets `[hidden] { display: none; }` but bootstrap.min.css set `[hidden] { display: none !important; }` so we also need the `!important` here to be able to override the default hidden behavior on the sphinx rendered scikit-learn.org. See: https://github.com/scikit-learn/scikit-learn/issues/21755 */display: inline-block !important;position: relative;}#sk-container-id-1 div.sk-text-repr-fallback {display: none;}</style><div id=\"sk-container-id-1\" class=\"sk-top-container\"><div class=\"sk-text-repr-fallback\"><pre>DecisionTreeClassifier(criterion=&#x27;entropy&#x27;)</pre><b>In a Jupyter environment, please rerun this cell to show the HTML representation or trust the notebook. <br />On GitHub, the HTML representation is unable to render, please try loading this page with nbviewer.org.</b></div><div class=\"sk-container\" hidden><div class=\"sk-item\"><div class=\"sk-estimator sk-toggleable\"><input class=\"sk-toggleable__control sk-hidden--visually\" id=\"sk-estimator-id-1\" type=\"checkbox\" checked><label for=\"sk-estimator-id-1\" class=\"sk-toggleable__label sk-toggleable__label-arrow\">DecisionTreeClassifier</label><div class=\"sk-toggleable__content\"><pre>DecisionTreeClassifier(criterion=&#x27;entropy&#x27;)</pre></div></div></div></div></div>"
      ],
      "text/plain": [
       "DecisionTreeClassifier(criterion='entropy')"
      ]
     },
     "execution_count": 13,
     "metadata": {},
     "output_type": "execute_result"
    }
   ],
   "source": [
    "# Fit the classifier to the training data\n",
    "clf.fit(features, df['PlayTennis?'])"
   ]
  },
  {
   "cell_type": "code",
   "execution_count": 14,
   "id": "bb7c0f8e-eff1-43fe-bde2-e7bb69afc3c8",
   "metadata": {
    "tags": []
   },
   "outputs": [
    {
     "data": {
      "text/plain": [
       "1.0"
      ]
     },
     "execution_count": 14,
     "metadata": {},
     "output_type": "execute_result"
    }
   ],
   "source": [
    "clf.score(features, df[\"PlayTennis?\"])"
   ]
  },
  {
   "cell_type": "markdown",
   "id": "a6c98a0f-cf5a-43b0-9d72-35a7363187ae",
   "metadata": {},
   "source": [
    "The rest of the homework is to show the tree, which is pretty hard. So fuck it."
   ]
  },
  {
   "cell_type": "markdown",
   "id": "df9dc47e-764d-4be8-93a6-0b23102a5fe5",
   "metadata": {
    "tags": []
   },
   "source": [
    "# Instance Base Learning"
   ]
  },
  {
   "cell_type": "code",
   "execution_count": 15,
   "id": "937fed5b-ddc4-4abe-ab23-a5da671e45f6",
   "metadata": {},
   "outputs": [],
   "source": [
    "from sklearn.cluster import KMeans"
   ]
  },
  {
   "cell_type": "code",
   "execution_count": 16,
   "id": "45ecd758-33bf-43f4-9ca3-3a650df40e84",
   "metadata": {
    "tags": []
   },
   "outputs": [],
   "source": [
    "from sklearn import metrics\n",
    "from scipy.spatial.distance import cdist\n",
    "from kneed import KneeLocator"
   ]
  },
  {
   "cell_type": "code",
   "execution_count": 17,
   "id": "4589d8c6-c081-4ace-b5e2-9546147ecb65",
   "metadata": {
    "tags": []
   },
   "outputs": [],
   "source": [
    "df = pd.read_csv(\"marketing_campaign.csv\", sep=\"\\t\")"
   ]
  },
  {
   "cell_type": "code",
   "execution_count": 18,
   "id": "d12b01c7-10fc-44ff-ba15-3500a43c3f66",
   "metadata": {
    "tags": []
   },
   "outputs": [
    {
     "data": {
      "text/html": [
       "<div>\n",
       "<style scoped>\n",
       "    .dataframe tbody tr th:only-of-type {\n",
       "        vertical-align: middle;\n",
       "    }\n",
       "\n",
       "    .dataframe tbody tr th {\n",
       "        vertical-align: top;\n",
       "    }\n",
       "\n",
       "    .dataframe thead th {\n",
       "        text-align: right;\n",
       "    }\n",
       "</style>\n",
       "<table border=\"1\" class=\"dataframe\">\n",
       "  <thead>\n",
       "    <tr style=\"text-align: right;\">\n",
       "      <th></th>\n",
       "      <th>ID</th>\n",
       "      <th>Year_Birth</th>\n",
       "      <th>Education</th>\n",
       "      <th>Marital_Status</th>\n",
       "      <th>Income</th>\n",
       "      <th>Kidhome</th>\n",
       "      <th>Teenhome</th>\n",
       "      <th>Dt_Customer</th>\n",
       "      <th>Recency</th>\n",
       "      <th>MntWines</th>\n",
       "      <th>...</th>\n",
       "      <th>NumWebVisitsMonth</th>\n",
       "      <th>AcceptedCmp3</th>\n",
       "      <th>AcceptedCmp4</th>\n",
       "      <th>AcceptedCmp5</th>\n",
       "      <th>AcceptedCmp1</th>\n",
       "      <th>AcceptedCmp2</th>\n",
       "      <th>Complain</th>\n",
       "      <th>Z_CostContact</th>\n",
       "      <th>Z_Revenue</th>\n",
       "      <th>Response</th>\n",
       "    </tr>\n",
       "  </thead>\n",
       "  <tbody>\n",
       "    <tr>\n",
       "      <th>0</th>\n",
       "      <td>5524</td>\n",
       "      <td>1957</td>\n",
       "      <td>Graduation</td>\n",
       "      <td>Single</td>\n",
       "      <td>58138.0</td>\n",
       "      <td>0</td>\n",
       "      <td>0</td>\n",
       "      <td>04-09-2012</td>\n",
       "      <td>58</td>\n",
       "      <td>635</td>\n",
       "      <td>...</td>\n",
       "      <td>7</td>\n",
       "      <td>0</td>\n",
       "      <td>0</td>\n",
       "      <td>0</td>\n",
       "      <td>0</td>\n",
       "      <td>0</td>\n",
       "      <td>0</td>\n",
       "      <td>3</td>\n",
       "      <td>11</td>\n",
       "      <td>1</td>\n",
       "    </tr>\n",
       "    <tr>\n",
       "      <th>1</th>\n",
       "      <td>2174</td>\n",
       "      <td>1954</td>\n",
       "      <td>Graduation</td>\n",
       "      <td>Single</td>\n",
       "      <td>46344.0</td>\n",
       "      <td>1</td>\n",
       "      <td>1</td>\n",
       "      <td>08-03-2014</td>\n",
       "      <td>38</td>\n",
       "      <td>11</td>\n",
       "      <td>...</td>\n",
       "      <td>5</td>\n",
       "      <td>0</td>\n",
       "      <td>0</td>\n",
       "      <td>0</td>\n",
       "      <td>0</td>\n",
       "      <td>0</td>\n",
       "      <td>0</td>\n",
       "      <td>3</td>\n",
       "      <td>11</td>\n",
       "      <td>0</td>\n",
       "    </tr>\n",
       "    <tr>\n",
       "      <th>2</th>\n",
       "      <td>4141</td>\n",
       "      <td>1965</td>\n",
       "      <td>Graduation</td>\n",
       "      <td>Together</td>\n",
       "      <td>71613.0</td>\n",
       "      <td>0</td>\n",
       "      <td>0</td>\n",
       "      <td>21-08-2013</td>\n",
       "      <td>26</td>\n",
       "      <td>426</td>\n",
       "      <td>...</td>\n",
       "      <td>4</td>\n",
       "      <td>0</td>\n",
       "      <td>0</td>\n",
       "      <td>0</td>\n",
       "      <td>0</td>\n",
       "      <td>0</td>\n",
       "      <td>0</td>\n",
       "      <td>3</td>\n",
       "      <td>11</td>\n",
       "      <td>0</td>\n",
       "    </tr>\n",
       "    <tr>\n",
       "      <th>3</th>\n",
       "      <td>6182</td>\n",
       "      <td>1984</td>\n",
       "      <td>Graduation</td>\n",
       "      <td>Together</td>\n",
       "      <td>26646.0</td>\n",
       "      <td>1</td>\n",
       "      <td>0</td>\n",
       "      <td>10-02-2014</td>\n",
       "      <td>26</td>\n",
       "      <td>11</td>\n",
       "      <td>...</td>\n",
       "      <td>6</td>\n",
       "      <td>0</td>\n",
       "      <td>0</td>\n",
       "      <td>0</td>\n",
       "      <td>0</td>\n",
       "      <td>0</td>\n",
       "      <td>0</td>\n",
       "      <td>3</td>\n",
       "      <td>11</td>\n",
       "      <td>0</td>\n",
       "    </tr>\n",
       "    <tr>\n",
       "      <th>4</th>\n",
       "      <td>5324</td>\n",
       "      <td>1981</td>\n",
       "      <td>PhD</td>\n",
       "      <td>Married</td>\n",
       "      <td>58293.0</td>\n",
       "      <td>1</td>\n",
       "      <td>0</td>\n",
       "      <td>19-01-2014</td>\n",
       "      <td>94</td>\n",
       "      <td>173</td>\n",
       "      <td>...</td>\n",
       "      <td>5</td>\n",
       "      <td>0</td>\n",
       "      <td>0</td>\n",
       "      <td>0</td>\n",
       "      <td>0</td>\n",
       "      <td>0</td>\n",
       "      <td>0</td>\n",
       "      <td>3</td>\n",
       "      <td>11</td>\n",
       "      <td>0</td>\n",
       "    </tr>\n",
       "    <tr>\n",
       "      <th>...</th>\n",
       "      <td>...</td>\n",
       "      <td>...</td>\n",
       "      <td>...</td>\n",
       "      <td>...</td>\n",
       "      <td>...</td>\n",
       "      <td>...</td>\n",
       "      <td>...</td>\n",
       "      <td>...</td>\n",
       "      <td>...</td>\n",
       "      <td>...</td>\n",
       "      <td>...</td>\n",
       "      <td>...</td>\n",
       "      <td>...</td>\n",
       "      <td>...</td>\n",
       "      <td>...</td>\n",
       "      <td>...</td>\n",
       "      <td>...</td>\n",
       "      <td>...</td>\n",
       "      <td>...</td>\n",
       "      <td>...</td>\n",
       "      <td>...</td>\n",
       "    </tr>\n",
       "    <tr>\n",
       "      <th>2235</th>\n",
       "      <td>10870</td>\n",
       "      <td>1967</td>\n",
       "      <td>Graduation</td>\n",
       "      <td>Married</td>\n",
       "      <td>61223.0</td>\n",
       "      <td>0</td>\n",
       "      <td>1</td>\n",
       "      <td>13-06-2013</td>\n",
       "      <td>46</td>\n",
       "      <td>709</td>\n",
       "      <td>...</td>\n",
       "      <td>5</td>\n",
       "      <td>0</td>\n",
       "      <td>0</td>\n",
       "      <td>0</td>\n",
       "      <td>0</td>\n",
       "      <td>0</td>\n",
       "      <td>0</td>\n",
       "      <td>3</td>\n",
       "      <td>11</td>\n",
       "      <td>0</td>\n",
       "    </tr>\n",
       "    <tr>\n",
       "      <th>2236</th>\n",
       "      <td>4001</td>\n",
       "      <td>1946</td>\n",
       "      <td>PhD</td>\n",
       "      <td>Together</td>\n",
       "      <td>64014.0</td>\n",
       "      <td>2</td>\n",
       "      <td>1</td>\n",
       "      <td>10-06-2014</td>\n",
       "      <td>56</td>\n",
       "      <td>406</td>\n",
       "      <td>...</td>\n",
       "      <td>7</td>\n",
       "      <td>0</td>\n",
       "      <td>0</td>\n",
       "      <td>0</td>\n",
       "      <td>1</td>\n",
       "      <td>0</td>\n",
       "      <td>0</td>\n",
       "      <td>3</td>\n",
       "      <td>11</td>\n",
       "      <td>0</td>\n",
       "    </tr>\n",
       "    <tr>\n",
       "      <th>2237</th>\n",
       "      <td>7270</td>\n",
       "      <td>1981</td>\n",
       "      <td>Graduation</td>\n",
       "      <td>Divorced</td>\n",
       "      <td>56981.0</td>\n",
       "      <td>0</td>\n",
       "      <td>0</td>\n",
       "      <td>25-01-2014</td>\n",
       "      <td>91</td>\n",
       "      <td>908</td>\n",
       "      <td>...</td>\n",
       "      <td>6</td>\n",
       "      <td>0</td>\n",
       "      <td>1</td>\n",
       "      <td>0</td>\n",
       "      <td>0</td>\n",
       "      <td>0</td>\n",
       "      <td>0</td>\n",
       "      <td>3</td>\n",
       "      <td>11</td>\n",
       "      <td>0</td>\n",
       "    </tr>\n",
       "    <tr>\n",
       "      <th>2238</th>\n",
       "      <td>8235</td>\n",
       "      <td>1956</td>\n",
       "      <td>Master</td>\n",
       "      <td>Together</td>\n",
       "      <td>69245.0</td>\n",
       "      <td>0</td>\n",
       "      <td>1</td>\n",
       "      <td>24-01-2014</td>\n",
       "      <td>8</td>\n",
       "      <td>428</td>\n",
       "      <td>...</td>\n",
       "      <td>3</td>\n",
       "      <td>0</td>\n",
       "      <td>0</td>\n",
       "      <td>0</td>\n",
       "      <td>0</td>\n",
       "      <td>0</td>\n",
       "      <td>0</td>\n",
       "      <td>3</td>\n",
       "      <td>11</td>\n",
       "      <td>0</td>\n",
       "    </tr>\n",
       "    <tr>\n",
       "      <th>2239</th>\n",
       "      <td>9405</td>\n",
       "      <td>1954</td>\n",
       "      <td>PhD</td>\n",
       "      <td>Married</td>\n",
       "      <td>52869.0</td>\n",
       "      <td>1</td>\n",
       "      <td>1</td>\n",
       "      <td>15-10-2012</td>\n",
       "      <td>40</td>\n",
       "      <td>84</td>\n",
       "      <td>...</td>\n",
       "      <td>7</td>\n",
       "      <td>0</td>\n",
       "      <td>0</td>\n",
       "      <td>0</td>\n",
       "      <td>0</td>\n",
       "      <td>0</td>\n",
       "      <td>0</td>\n",
       "      <td>3</td>\n",
       "      <td>11</td>\n",
       "      <td>1</td>\n",
       "    </tr>\n",
       "  </tbody>\n",
       "</table>\n",
       "<p>2240 rows × 29 columns</p>\n",
       "</div>"
      ],
      "text/plain": [
       "         ID  Year_Birth   Education Marital_Status   Income  Kidhome  \\\n",
       "0      5524        1957  Graduation         Single  58138.0        0   \n",
       "1      2174        1954  Graduation         Single  46344.0        1   \n",
       "2      4141        1965  Graduation       Together  71613.0        0   \n",
       "3      6182        1984  Graduation       Together  26646.0        1   \n",
       "4      5324        1981         PhD        Married  58293.0        1   \n",
       "...     ...         ...         ...            ...      ...      ...   \n",
       "2235  10870        1967  Graduation        Married  61223.0        0   \n",
       "2236   4001        1946         PhD       Together  64014.0        2   \n",
       "2237   7270        1981  Graduation       Divorced  56981.0        0   \n",
       "2238   8235        1956      Master       Together  69245.0        0   \n",
       "2239   9405        1954         PhD        Married  52869.0        1   \n",
       "\n",
       "      Teenhome Dt_Customer  Recency  MntWines  ...  NumWebVisitsMonth  \\\n",
       "0            0  04-09-2012       58       635  ...                  7   \n",
       "1            1  08-03-2014       38        11  ...                  5   \n",
       "2            0  21-08-2013       26       426  ...                  4   \n",
       "3            0  10-02-2014       26        11  ...                  6   \n",
       "4            0  19-01-2014       94       173  ...                  5   \n",
       "...        ...         ...      ...       ...  ...                ...   \n",
       "2235         1  13-06-2013       46       709  ...                  5   \n",
       "2236         1  10-06-2014       56       406  ...                  7   \n",
       "2237         0  25-01-2014       91       908  ...                  6   \n",
       "2238         1  24-01-2014        8       428  ...                  3   \n",
       "2239         1  15-10-2012       40        84  ...                  7   \n",
       "\n",
       "      AcceptedCmp3  AcceptedCmp4  AcceptedCmp5  AcceptedCmp1  AcceptedCmp2  \\\n",
       "0                0             0             0             0             0   \n",
       "1                0             0             0             0             0   \n",
       "2                0             0             0             0             0   \n",
       "3                0             0             0             0             0   \n",
       "4                0             0             0             0             0   \n",
       "...            ...           ...           ...           ...           ...   \n",
       "2235             0             0             0             0             0   \n",
       "2236             0             0             0             1             0   \n",
       "2237             0             1             0             0             0   \n",
       "2238             0             0             0             0             0   \n",
       "2239             0             0             0             0             0   \n",
       "\n",
       "      Complain  Z_CostContact  Z_Revenue  Response  \n",
       "0            0              3         11         1  \n",
       "1            0              3         11         0  \n",
       "2            0              3         11         0  \n",
       "3            0              3         11         0  \n",
       "4            0              3         11         0  \n",
       "...        ...            ...        ...       ...  \n",
       "2235         0              3         11         0  \n",
       "2236         0              3         11         0  \n",
       "2237         0              3         11         0  \n",
       "2238         0              3         11         0  \n",
       "2239         0              3         11         1  \n",
       "\n",
       "[2240 rows x 29 columns]"
      ]
     },
     "execution_count": 18,
     "metadata": {},
     "output_type": "execute_result"
    }
   ],
   "source": [
    "df"
   ]
  },
  {
   "cell_type": "code",
   "execution_count": 19,
   "id": "d3b43657-a2c1-4ae2-8718-dca7f8ffe636",
   "metadata": {
    "tags": []
   },
   "outputs": [],
   "source": [
    "df = df[[\"Income\", \"Recency\"]].dropna()"
   ]
  },
  {
   "cell_type": "code",
   "execution_count": 20,
   "id": "6dfe87bd-a88b-4310-87dc-88ed584d7047",
   "metadata": {
    "tags": []
   },
   "outputs": [
    {
     "data": {
      "text/html": [
       "<div>\n",
       "<style scoped>\n",
       "    .dataframe tbody tr th:only-of-type {\n",
       "        vertical-align: middle;\n",
       "    }\n",
       "\n",
       "    .dataframe tbody tr th {\n",
       "        vertical-align: top;\n",
       "    }\n",
       "\n",
       "    .dataframe thead th {\n",
       "        text-align: right;\n",
       "    }\n",
       "</style>\n",
       "<table border=\"1\" class=\"dataframe\">\n",
       "  <thead>\n",
       "    <tr style=\"text-align: right;\">\n",
       "      <th></th>\n",
       "      <th>Income</th>\n",
       "      <th>Recency</th>\n",
       "    </tr>\n",
       "  </thead>\n",
       "  <tbody>\n",
       "    <tr>\n",
       "      <th>0</th>\n",
       "      <td>58138.0</td>\n",
       "      <td>58</td>\n",
       "    </tr>\n",
       "    <tr>\n",
       "      <th>1</th>\n",
       "      <td>46344.0</td>\n",
       "      <td>38</td>\n",
       "    </tr>\n",
       "    <tr>\n",
       "      <th>2</th>\n",
       "      <td>71613.0</td>\n",
       "      <td>26</td>\n",
       "    </tr>\n",
       "    <tr>\n",
       "      <th>3</th>\n",
       "      <td>26646.0</td>\n",
       "      <td>26</td>\n",
       "    </tr>\n",
       "    <tr>\n",
       "      <th>4</th>\n",
       "      <td>58293.0</td>\n",
       "      <td>94</td>\n",
       "    </tr>\n",
       "    <tr>\n",
       "      <th>...</th>\n",
       "      <td>...</td>\n",
       "      <td>...</td>\n",
       "    </tr>\n",
       "    <tr>\n",
       "      <th>2235</th>\n",
       "      <td>61223.0</td>\n",
       "      <td>46</td>\n",
       "    </tr>\n",
       "    <tr>\n",
       "      <th>2236</th>\n",
       "      <td>64014.0</td>\n",
       "      <td>56</td>\n",
       "    </tr>\n",
       "    <tr>\n",
       "      <th>2237</th>\n",
       "      <td>56981.0</td>\n",
       "      <td>91</td>\n",
       "    </tr>\n",
       "    <tr>\n",
       "      <th>2238</th>\n",
       "      <td>69245.0</td>\n",
       "      <td>8</td>\n",
       "    </tr>\n",
       "    <tr>\n",
       "      <th>2239</th>\n",
       "      <td>52869.0</td>\n",
       "      <td>40</td>\n",
       "    </tr>\n",
       "  </tbody>\n",
       "</table>\n",
       "<p>2216 rows × 2 columns</p>\n",
       "</div>"
      ],
      "text/plain": [
       "       Income  Recency\n",
       "0     58138.0       58\n",
       "1     46344.0       38\n",
       "2     71613.0       26\n",
       "3     26646.0       26\n",
       "4     58293.0       94\n",
       "...       ...      ...\n",
       "2235  61223.0       46\n",
       "2236  64014.0       56\n",
       "2237  56981.0       91\n",
       "2238  69245.0        8\n",
       "2239  52869.0       40\n",
       "\n",
       "[2216 rows x 2 columns]"
      ]
     },
     "execution_count": 20,
     "metadata": {},
     "output_type": "execute_result"
    }
   ],
   "source": [
    "df"
   ]
  },
  {
   "cell_type": "markdown",
   "id": "668f76a8-5c73-4887-88a4-801849c766b1",
   "metadata": {
    "tags": []
   },
   "source": [
    "## No norm"
   ]
  },
  {
   "cell_type": "code",
   "execution_count": 21,
   "id": "e88ccd92-244a-43b6-9f17-287d583bb44f",
   "metadata": {
    "tags": []
   },
   "outputs": [],
   "source": [
    "X = np.array(list(zip(df[\"Income\"], df[\"Recency\"])))"
   ]
  },
  {
   "cell_type": "code",
   "execution_count": 22,
   "id": "73d77999-a171-4c83-a56b-3252b6ff4868",
   "metadata": {
    "tags": []
   },
   "outputs": [
    {
     "data": {
      "image/png": "[encoded data removed]",
      "text/plain": [
       "<Figure size 432x288 with 1 Axes>"
      ]
     },
     "metadata": {
      "needs_background": "light"
     },
     "output_type": "display_data"
    }
   ],
   "source": [
    "plt.scatter(X[:, 0], X[:, 1])\n",
    "plt.show()"
   ]
  },
  {
   "cell_type": "markdown",
   "id": "dcbcd216-bfa8-4984-aa30-65b898ceffcb",
   "metadata": {},
   "source": [
    "Finding clusters number"
   ]
  },
  {
   "cell_type": "code",
   "execution_count": 23,
   "id": "55bd7665-44b7-4395-909a-338b9f5f3014",
   "metadata": {
    "tags": []
   },
   "outputs": [],
   "source": [
    "K = range(1, 10)\n",
    "distortions = []\n",
    "inertias = []\n",
    "\n",
    "mapping1 = {}\n",
    "mapping2 = {}"
   ]
  },
  {
   "cell_type": "code",
   "execution_count": 24,
   "id": "aca3ecbc-9f41-41d4-bffa-9bb6a6c8c564",
   "metadata": {
    "tags": []
   },
   "outputs": [],
   "source": [
    "for k in K:\n",
    "    model = KMeans(n_clusters = k).fit(X)\n",
    "    \n",
    "    distortions.append(np.sum(np.min(cdist(X, model.cluster_centers_, 'euclidean'), axis = 1)) / len(X))\n",
    "    inertias.append(model.inertia_)\n",
    "                       \n",
    "    mapping1[k] = np.sum(np.min(cdist(X, model.cluster_centers_, 'euclidean'), axis = 1)) / len(X)\n",
    "    mapping2[k] = model.inertia_                   "
   ]
  },
  {
   "cell_type": "code",
   "execution_count": 25,
   "id": "5ba5aaff-8f8d-4b31-9fbf-f85cc8c72f9b",
   "metadata": {
    "tags": []
   },
   "outputs": [],
   "source": [
    "kneedle_distortions = KneeLocator(K, distortions, curve=\"convex\", direction=\"decreasing\")"
   ]
  },
  {
   "cell_type": "code",
   "execution_count": 26,
   "id": "54663650-58ab-483f-a6dd-399131f3c7bd",
   "metadata": {
    "tags": []
   },
   "outputs": [
    {
     "data": {
      "image/png": "[encoded data removed]",
      "text/plain": [
       "<Figure size 432x288 with 1 Axes>"
      ]
     },
     "metadata": {
      "needs_background": "light"
     },
     "output_type": "display_data"
    }
   ],
   "source": [
    "plt.plot(K, distortions, 'bx-')\n",
    "plt.xlabel('Values of K')\n",
    "plt.ylabel('Distortion')\n",
    "plt.vlines(kneedle_distortions.knee, plt.ylim()[0], plt.ylim()[1], linestyles='dashed')\n",
    "plt.title('The Elbow Method using Distortion')\n",
    "plt.show()"
   ]
  },
  {
   "cell_type": "code",
   "execution_count": 27,
   "id": "2b8e0ab3-0668-4d9d-9572-e1c6e7cbeacb",
   "metadata": {
    "tags": []
   },
   "outputs": [],
   "source": [
    "kmean_model = KMeans(n_clusters = kneedle_distortions.knee).fit(X)"
   ]
  },
  {
   "cell_type": "code",
   "execution_count": 28,
   "id": "09be235d-a8a8-4b84-b7b7-1e0b7415660e",
   "metadata": {
    "tags": []
   },
   "outputs": [],
   "source": [
    "distortion_values = []"
   ]
  },
  {
   "cell_type": "code",
   "execution_count": 29,
   "id": "6267ee0b-79ad-4f85-89d8-7d0b35f13f39",
   "metadata": {
    "tags": []
   },
   "outputs": [
    {
     "data": {
      "image/png": "[encoded data removed]",
      "text/plain": [
       "<Figure size 432x288 with 1 Axes>"
      ]
     },
     "metadata": {
      "needs_background": "light"
     },
     "output_type": "display_data"
    }
   ],
   "source": [
    "y_kmeans = kmean_model.fit_predict(X)\n",
    "distortion_values.append(kmean_model.inertia_)\n",
    "plt.scatter(X[:, 0], X[:, 1], c=y_kmeans)\n",
    "plt.scatter(kmean_model.cluster_centers_[:, 0],\\\n",
    "            kmean_model.cluster_centers_[:, 1], \\\n",
    "            s=100, c='red')\n",
    "plt.xlabel('Feature 1')\n",
    "plt.ylabel('Feature 2')\n",
    "plt.title(\"Clustering with distortion\")\n",
    "plt.show()"
   ]
  },
  {
   "cell_type": "code",
   "execution_count": 30,
   "id": "62acd070-0a60-4312-b3b4-7e5d6ba71e0b",
   "metadata": {
    "tags": []
   },
   "outputs": [],
   "source": [
    "inertias_kneedle = KneeLocator(K, inertias, curve=\"convex\", direction=\"decreasing\")"
   ]
  },
  {
   "cell_type": "code",
   "execution_count": 31,
   "id": "a551acaa-35ed-40cd-a97d-1c1ea8bec10d",
   "metadata": {
    "tags": []
   },
   "outputs": [
    {
     "data": {
      "image/png": "[encoded data removed]",
      "text/plain": [
       "<Figure size 432x288 with 1 Axes>"
      ]
     },
     "metadata": {
      "needs_background": "light"
     },
     "output_type": "display_data"
    }
   ],
   "source": [
    "plt.plot(K, inertias, 'bx-')\n",
    "plt.xlabel('Values of K')\n",
    "plt.ylabel('Inertia')\n",
    "plt.vlines(inertias_kneedle.knee, plt.ylim()[0], plt.ylim()[1], linestyles='dashed')\n",
    "plt.title('The Elbow Method using Inertia')\n",
    "plt.show()"
   ]
  },
  {
   "cell_type": "code",
   "execution_count": 32,
   "id": "d0d0d246-0258-44fc-8196-519dd241fdee",
   "metadata": {
    "tags": []
   },
   "outputs": [],
   "source": [
    "kmean_model = KMeans(n_clusters = inertias_kneedle.knee).fit(X)"
   ]
  },
  {
   "cell_type": "code",
   "execution_count": 33,
   "id": "71b84389-7acd-4209-b0c5-6c44a2990fa3",
   "metadata": {
    "tags": []
   },
   "outputs": [],
   "source": [
    "inertia_values = []"
   ]
  },
  {
   "cell_type": "code",
   "execution_count": 34,
   "id": "50295aa4-c4c0-452b-b65b-89ef532e0a06",
   "metadata": {
    "tags": []
   },
   "outputs": [
    {
     "data": {
      "image/png": "[encoded data removed]",
      "text/plain": [
       "<Figure size 432x288 with 1 Axes>"
      ]
     },
     "metadata": {
      "needs_background": "light"
     },
     "output_type": "display_data"
    }
   ],
   "source": [
    "y_kmeans = kmean_model.fit_predict(X)\n",
    "inertia_values.append(kmean_model.inertia_)\n",
    "plt.scatter(X[:, 0], X[:, 1], c=y_kmeans)\n",
    "plt.scatter(kmean_model.cluster_centers_[:, 0],\\\n",
    "            kmean_model.cluster_centers_[:, 1], \\\n",
    "            s=100, c='red')\n",
    "plt.xlabel('Feature 1')\n",
    "plt.ylabel('Feature 2')\n",
    "plt.title(\"Clustering with inertia\")\n",
    "plt.show()"
   ]
  },
  {
   "cell_type": "markdown",
   "id": "33c3b08b-6f85-4d7a-9e14-e67b9b5bd7b5",
   "metadata": {},
   "source": [
    "So basically there are some \"strange\" relationship between the \"income\" and the \"recency\". We can now start \"normalizing\" it."
   ]
  },
  {
   "cell_type": "markdown",
   "id": "04a970fd-6f67-4b97-b286-5df4d6a97415",
   "metadata": {
    "tags": []
   },
   "source": [
    "## Z-score norm"
   ]
  },
  {
   "cell_type": "markdown",
   "id": "5723fa0b-6fef-440f-8e21-0c3eaec49a7b",
   "metadata": {},
   "source": [
    "$$\n",
    "X_{norm} = \\frac{X - \\mu(X)}{\\sigma(X)}\n",
    "$$"
   ]
  },
  {
   "cell_type": "code",
   "execution_count": 35,
   "id": "a8ec066b-39b0-4477-a016-c7dd26760a8a",
   "metadata": {},
   "outputs": [
    {
     "data": {
      "text/html": [
       "<div>\n",
       "<style scoped>\n",
       "    .dataframe tbody tr th:only-of-type {\n",
       "        vertical-align: middle;\n",
       "    }\n",
       "\n",
       "    .dataframe tbody tr th {\n",
       "        vertical-align: top;\n",
       "    }\n",
       "\n",
       "    .dataframe thead th {\n",
       "        text-align: right;\n",
       "    }\n",
       "</style>\n",
       "<table border=\"1\" class=\"dataframe\">\n",
       "  <thead>\n",
       "    <tr style=\"text-align: right;\">\n",
       "      <th></th>\n",
       "      <th>Income</th>\n",
       "      <th>Recency</th>\n",
       "    </tr>\n",
       "  </thead>\n",
       "  <tbody>\n",
       "    <tr>\n",
       "      <th>0</th>\n",
       "      <td>58138.0</td>\n",
       "      <td>58</td>\n",
       "    </tr>\n",
       "    <tr>\n",
       "      <th>1</th>\n",
       "      <td>46344.0</td>\n",
       "      <td>38</td>\n",
       "    </tr>\n",
       "    <tr>\n",
       "      <th>2</th>\n",
       "      <td>71613.0</td>\n",
       "      <td>26</td>\n",
       "    </tr>\n",
       "    <tr>\n",
       "      <th>3</th>\n",
       "      <td>26646.0</td>\n",
       "      <td>26</td>\n",
       "    </tr>\n",
       "    <tr>\n",
       "      <th>4</th>\n",
       "      <td>58293.0</td>\n",
       "      <td>94</td>\n",
       "    </tr>\n",
       "    <tr>\n",
       "      <th>...</th>\n",
       "      <td>...</td>\n",
       "      <td>...</td>\n",
       "    </tr>\n",
       "    <tr>\n",
       "      <th>2235</th>\n",
       "      <td>61223.0</td>\n",
       "      <td>46</td>\n",
       "    </tr>\n",
       "    <tr>\n",
       "      <th>2236</th>\n",
       "      <td>64014.0</td>\n",
       "      <td>56</td>\n",
       "    </tr>\n",
       "    <tr>\n",
       "      <th>2237</th>\n",
       "      <td>56981.0</td>\n",
       "      <td>91</td>\n",
       "    </tr>\n",
       "    <tr>\n",
       "      <th>2238</th>\n",
       "      <td>69245.0</td>\n",
       "      <td>8</td>\n",
       "    </tr>\n",
       "    <tr>\n",
       "      <th>2239</th>\n",
       "      <td>52869.0</td>\n",
       "      <td>40</td>\n",
       "    </tr>\n",
       "  </tbody>\n",
       "</table>\n",
       "<p>2216 rows × 2 columns</p>\n",
       "</div>"
      ],
      "text/plain": [
       "       Income  Recency\n",
       "0     58138.0       58\n",
       "1     46344.0       38\n",
       "2     71613.0       26\n",
       "3     26646.0       26\n",
       "4     58293.0       94\n",
       "...       ...      ...\n",
       "2235  61223.0       46\n",
       "2236  64014.0       56\n",
       "2237  56981.0       91\n",
       "2238  69245.0        8\n",
       "2239  52869.0       40\n",
       "\n",
       "[2216 rows x 2 columns]"
      ]
     },
     "execution_count": 35,
     "metadata": {},
     "output_type": "execute_result"
    }
   ],
   "source": [
    "df"
   ]
  },
  {
   "cell_type": "code",
   "execution_count": 36,
   "id": "3967179e-a7fc-40ff-a8d9-b60a873232da",
   "metadata": {},
   "outputs": [],
   "source": [
    "income = df[\"Income\"]\n",
    "recency = df[\"Recency\"]"
   ]
  },
  {
   "cell_type": "code",
   "execution_count": 37,
   "id": "b74d13c1-ecd1-4907-8d3c-1a06c1cdef90",
   "metadata": {
    "tags": []
   },
   "outputs": [],
   "source": [
    "mean_income = income.mean()\n",
    "std_income = income.std()\n",
    "mean_recency = recency.mean()\n",
    "std_recency = recency.std()"
   ]
  },
  {
   "cell_type": "code",
   "execution_count": 38,
   "id": "e5e85c26-d99e-459b-be6f-26d4740bc685",
   "metadata": {
    "tags": []
   },
   "outputs": [],
   "source": [
    "normalized_income = (income - mean_income) / std_income\n",
    "normalized_recency = (recency - mean_recency) / std_recency"
   ]
  },
  {
   "cell_type": "code",
   "execution_count": 39,
   "id": "c6ba845e-5940-4491-8389-e66e813099a6",
   "metadata": {
    "tags": []
   },
   "outputs": [],
   "source": [
    "X = np.array(list(zip(normalized_income, normalized_recency)))"
   ]
  },
  {
   "cell_type": "code",
   "execution_count": 40,
   "id": "bd2741b3-752e-482d-82d3-50de88844169",
   "metadata": {
    "tags": []
   },
   "outputs": [
    {
     "data": {
      "text/plain": [
       "array([[ 0.23400988,  0.31046205],\n",
       "       [-0.23450655, -0.38042357],\n",
       "       [ 0.769304  , -0.79495495],\n",
       "       ...,\n",
       "       [ 0.18804808,  1.45042333],\n",
       "       [ 0.67523525, -1.41675201],\n",
       "       [ 0.02469895, -0.31133501]])"
      ]
     },
     "execution_count": 40,
     "metadata": {},
     "output_type": "execute_result"
    }
   ],
   "source": [
    "X"
   ]
  },
  {
   "cell_type": "code",
   "execution_count": 41,
   "id": "12ecaf9b-0c8e-4ef9-9c46-f56a1a78f3e0",
   "metadata": {
    "tags": []
   },
   "outputs": [
    {
     "data": {
      "image/png": "[encoded data removed]",
      "text/plain": [
       "<Figure size 432x288 with 1 Axes>"
      ]
     },
     "metadata": {
      "needs_background": "light"
     },
     "output_type": "display_data"
    }
   ],
   "source": [
    "plt.scatter(X[:, 0], X[:, 1])\n",
    "plt.show()"
   ]
  },
  {
   "cell_type": "code",
   "execution_count": 42,
   "id": "270a2d9b-09a4-47ac-9c27-fbd7c50f264a",
   "metadata": {
    "tags": []
   },
   "outputs": [],
   "source": [
    "K = range(1, 10)\n",
    "distortions = []\n",
    "inertias = []\n",
    "\n",
    "mapping1 = {}\n",
    "mapping2 = {}"
   ]
  },
  {
   "cell_type": "code",
   "execution_count": 43,
   "id": "1083e562-3928-459f-ab8a-9c997659513a",
   "metadata": {
    "tags": []
   },
   "outputs": [],
   "source": [
    "for k in K:\n",
    "    model = KMeans(n_clusters = k).fit(X)\n",
    "    \n",
    "    distortions.append(np.sum(np.min(cdist(X, model.cluster_centers_, 'euclidean'), axis = 1)) / len(X))\n",
    "    inertias.append(model.inertia_)\n",
    "                       \n",
    "    mapping1[k] = np.sum(np.min(cdist(X, model.cluster_centers_, 'euclidean'), axis = 1)) / len(X)\n",
    "    mapping2[k] = model.inertia_                   "
   ]
  },
  {
   "cell_type": "code",
   "execution_count": 44,
   "id": "93d8d432-237e-4ef0-9ac3-31b7de3d6d4b",
   "metadata": {
    "tags": []
   },
   "outputs": [],
   "source": [
    "kneedle_distortions = KneeLocator(K, distortions, curve=\"convex\", direction=\"decreasing\")"
   ]
  },
  {
   "cell_type": "code",
   "execution_count": 45,
   "id": "9b4884b4-6796-4bf8-afe9-7d8694500092",
   "metadata": {
    "tags": []
   },
   "outputs": [
    {
     "data": {
      "image/png": "[encoded data removed]",
      "text/plain": [
       "<Figure size 432x288 with 1 Axes>"
      ]
     },
     "metadata": {
      "needs_background": "light"
     },
     "output_type": "display_data"
    }
   ],
   "source": [
    "plt.plot(K, distortions, 'bx-')\n",
    "plt.xlabel('Values of K')\n",
    "plt.ylabel('Distortion')\n",
    "plt.vlines(kneedle_distortions.knee, plt.ylim()[0], plt.ylim()[1], linestyles='dashed')\n",
    "plt.title('The Elbow Method using Distortion')\n",
    "plt.show()"
   ]
  },
  {
   "cell_type": "code",
   "execution_count": 46,
   "id": "1a72dc9d-67d4-4dab-9d89-c7ca67855b68",
   "metadata": {
    "tags": []
   },
   "outputs": [],
   "source": [
    "kmean_model = KMeans(n_clusters = kneedle_distortions.knee).fit(X)"
   ]
  },
  {
   "cell_type": "code",
   "execution_count": 47,
   "id": "4176397a-bf3a-45e2-8294-081297dc3b7c",
   "metadata": {
    "tags": []
   },
   "outputs": [],
   "source": [
    "distortion_values = []"
   ]
  },
  {
   "cell_type": "code",
   "execution_count": 48,
   "id": "ef520ed8-604a-47c9-8ea5-090fac9a7efb",
   "metadata": {
    "tags": []
   },
   "outputs": [
    {
     "data": {
      "image/png": "[encoded data removed]",
      "text/plain": [
       "<Figure size 432x288 with 1 Axes>"
      ]
     },
     "metadata": {
      "needs_background": "light"
     },
     "output_type": "display_data"
    }
   ],
   "source": [
    "y_kmeans = kmean_model.fit_predict(X)\n",
    "distortion_values.append(kmean_model.inertia_)\n",
    "plt.scatter(np.array(X)[:, 0], np.array(X)[:, 1], c=y_kmeans)\n",
    "plt.scatter(kmean_model.cluster_centers_[:, 0],\\\n",
    "            kmean_model.cluster_centers_[:, 1], \\\n",
    "            s=100, c='red')\n",
    "plt.xlabel('Feature 1')\n",
    "plt.ylabel('Feature 2')\n",
    "plt.title(\"Clustering with Distortion\")\n",
    "plt.show()"
   ]
  },
  {
   "cell_type": "code",
   "execution_count": 49,
   "id": "db3cf10b-53eb-4c55-810f-40d6426f4559",
   "metadata": {
    "tags": []
   },
   "outputs": [],
   "source": [
    "kneedle_inertias = KneeLocator(K, inertias, curve=\"convex\", direction=\"decreasing\")"
   ]
  },
  {
   "cell_type": "code",
   "execution_count": 50,
   "id": "23ac5c04-b308-4025-a67c-7ab6fc6133f3",
   "metadata": {
    "tags": []
   },
   "outputs": [
    {
     "data": {
      "image/png": "[encoded data removed]",
      "text/plain": [
       "<Figure size 432x288 with 1 Axes>"
      ]
     },
     "metadata": {
      "needs_background": "light"
     },
     "output_type": "display_data"
    }
   ],
   "source": [
    "plt.plot(K, inertias, 'bx-')\n",
    "plt.xlabel('Values of K')\n",
    "plt.ylabel('Inertia')\n",
    "plt.vlines(kneedle_inertias.knee, plt.ylim()[0], plt.ylim()[1], linestyles='dashed')\n",
    "plt.title('The Elbow Method using Inertia')\n",
    "plt.show()"
   ]
  },
  {
   "cell_type": "code",
   "execution_count": 51,
   "id": "c887577c-37ec-499f-b396-4eb992d1de9b",
   "metadata": {
    "tags": []
   },
   "outputs": [],
   "source": [
    "kmean_model = KMeans(n_clusters = kneedle_inertias.knee).fit(X)"
   ]
  },
  {
   "cell_type": "code",
   "execution_count": 52,
   "id": "c42771b7-27a0-4459-a2b3-d4066b7d9b6a",
   "metadata": {
    "tags": []
   },
   "outputs": [],
   "source": [
    "inertia_values = []"
   ]
  },
  {
   "cell_type": "code",
   "execution_count": 53,
   "id": "21442966-f79d-4da5-983d-96674d560cb0",
   "metadata": {
    "tags": []
   },
   "outputs": [
    {
     "data": {
      "image/png": "[encoded data removed]",
      "text/plain": [
       "<Figure size 432x288 with 1 Axes>"
      ]
     },
     "metadata": {
      "needs_background": "light"
     },
     "output_type": "display_data"
    }
   ],
   "source": [
    "y_kmeans = kmean_model.fit_predict(X)\n",
    "inertia_values.append(kmean_model.inertia_)\n",
    "plt.scatter(np.array(X)[:, 0], np.array(X)[:, 1], c=y_kmeans)\n",
    "plt.scatter(kmean_model.cluster_centers_[:, 0],\\\n",
    "            kmean_model.cluster_centers_[:, 1], \\\n",
    "            s=100, c='red')\n",
    "plt.xlabel('Feature 1')\n",
    "plt.ylabel('Feature 2')\n",
    "plt.title(\"Clustering with Inertia\")\n",
    "plt.show()"
   ]
  },
  {
   "cell_type": "markdown",
   "id": "527d4146-ba71-4048-a2aa-b3ef9b890469",
   "metadata": {
    "tags": []
   },
   "source": [
    "## Min-max norm"
   ]
  },
  {
   "cell_type": "markdown",
   "id": "433ba0fa-c16f-40bb-beb7-d8425f516478",
   "metadata": {},
   "source": [
    "$$\n",
    "X_{norm} = \\frac{X - \\min(X)}{\\max(X) - \\min(X)}\n",
    "$$"
   ]
  },
  {
   "cell_type": "code",
   "execution_count": 54,
   "id": "78392c97-8cb8-4b6b-bf08-5735b55b7b16",
   "metadata": {
    "tags": []
   },
   "outputs": [],
   "source": [
    "min_income = income.min()\n",
    "max_income = income.max()\n",
    "min_recency = recency.min()\n",
    "max_recency = recency.max()"
   ]
  },
  {
   "cell_type": "code",
   "execution_count": 55,
   "id": "ed3c28f1-039b-4f7c-a638-d6408231c052",
   "metadata": {
    "tags": []
   },
   "outputs": [],
   "source": [
    "normalized_income = (income - min_income) / (max_income - min_income)\n",
    "normalized_recency = (recency - min_recency) / (max_recency - min_recency)"
   ]
  },
  {
   "cell_type": "code",
   "execution_count": 56,
   "id": "c456e208-8de6-49e1-982f-e7f06dead66c",
   "metadata": {
    "tags": []
   },
   "outputs": [],
   "source": [
    "X = np.array(list(zip(normalized_income, normalized_recency)))"
   ]
  },
  {
   "cell_type": "code",
   "execution_count": 57,
   "id": "b0301951-5cba-47ae-be45-268ff46aa2b0",
   "metadata": {
    "tags": []
   },
   "outputs": [
    {
     "data": {
      "text/plain": [
       "array([[0.08483222, 0.58585859],\n",
       "       [0.06709518, 0.38383838],\n",
       "       [0.10509733, 0.26262626],\n",
       "       ...,\n",
       "       [0.08309221, 0.91919192],\n",
       "       [0.10153609, 0.08080808],\n",
       "       [0.07690815, 0.4040404 ]])"
      ]
     },
     "execution_count": 57,
     "metadata": {},
     "output_type": "execute_result"
    }
   ],
   "source": [
    "X"
   ]
  },
  {
   "cell_type": "code",
   "execution_count": 58,
   "id": "bd9e923f-ad6e-478a-8417-45e5e566a2fc",
   "metadata": {
    "tags": []
   },
   "outputs": [
    {
     "data": {
      "image/png": "[encoded data removed]",
      "text/plain": [
       "<Figure size 432x288 with 1 Axes>"
      ]
     },
     "metadata": {
      "needs_background": "light"
     },
     "output_type": "display_data"
    }
   ],
   "source": [
    "plt.scatter(X[:, 0], X[:, 1])\n",
    "plt.show()"
   ]
  },
  {
   "cell_type": "code",
   "execution_count": 59,
   "id": "99a44031-1979-450d-9b67-1f89bcd6f21e",
   "metadata": {
    "tags": []
   },
   "outputs": [],
   "source": [
    "K = range(1, 10)\n",
    "distortions = []\n",
    "inertias = []\n",
    "\n",
    "mapping1 = {}\n",
    "mapping2 = {}"
   ]
  },
  {
   "cell_type": "code",
   "execution_count": 60,
   "id": "ac40987e-4d71-43e8-96a9-77efd62ad2ad",
   "metadata": {
    "tags": []
   },
   "outputs": [],
   "source": [
    "for k in K:\n",
    "    model = KMeans(n_clusters = k).fit(X)\n",
    "    \n",
    "    distortions.append(np.sum(np.min(cdist(X, model.cluster_centers_, 'euclidean'), axis = 1)) / len(X))\n",
    "    inertias.append(model.inertia_)\n",
    "                       \n",
    "    mapping1[k] = np.sum(np.min(cdist(X, model.cluster_centers_, 'euclidean'), axis = 1)) / len(X)\n",
    "    mapping2[k] = model.inertia_                   "
   ]
  },
  {
   "cell_type": "code",
   "execution_count": 61,
   "id": "eaec7a25-a434-4248-8477-bb9bb26e82a2",
   "metadata": {
    "tags": []
   },
   "outputs": [],
   "source": [
    "kneedle_distortions = KneeLocator(K, distortions, curve=\"convex\", direction=\"decreasing\")"
   ]
  },
  {
   "cell_type": "code",
   "execution_count": 62,
   "id": "6eca2139-42e0-4e18-a7b3-f4c432002d32",
   "metadata": {
    "tags": []
   },
   "outputs": [
    {
     "data": {
      "image/png": "[encoded data removed]",
      "text/plain": [
       "<Figure size 432x288 with 1 Axes>"
      ]
     },
     "metadata": {
      "needs_background": "light"
     },
     "output_type": "display_data"
    }
   ],
   "source": [
    "plt.plot(K, distortions, 'bx-')\n",
    "plt.xlabel('Values of K')\n",
    "plt.ylabel('Distortion')\n",
    "plt.vlines(kneedle_distortions.knee, plt.ylim()[0], plt.ylim()[1], linestyles='dashed')\n",
    "plt.title('The Elbow Method using Distortion')\n",
    "plt.show()"
   ]
  },
  {
   "cell_type": "code",
   "execution_count": 63,
   "id": "821c3a55-039d-484f-a69f-d46561b540d5",
   "metadata": {
    "tags": []
   },
   "outputs": [],
   "source": [
    "kmean_model = KMeans(n_clusters = kneedle_distortions.knee).fit(X)"
   ]
  },
  {
   "cell_type": "code",
   "execution_count": 64,
   "id": "9e799a75-2d61-4cf9-a95f-972ca3f5e70f",
   "metadata": {
    "tags": []
   },
   "outputs": [],
   "source": [
    "distortion_values = []"
   ]
  },
  {
   "cell_type": "code",
   "execution_count": 65,
   "id": "fe121e60-56c9-4a0f-bf63-43d3ef01e1de",
   "metadata": {
    "tags": []
   },
   "outputs": [
    {
     "data": {
      "image/png": "[encoded data removed]",
      "text/plain": [
       "<Figure size 432x288 with 1 Axes>"
      ]
     },
     "metadata": {
      "needs_background": "light"
     },
     "output_type": "display_data"
    }
   ],
   "source": [
    "y_kmeans = kmean_model.fit_predict(X)\n",
    "distortion_values.append(kmean_model.inertia_)\n",
    "plt.scatter(np.array(X)[:, 0], np.array(X)[:, 1], c=y_kmeans)\n",
    "plt.scatter(kmean_model.cluster_centers_[:, 0],\\\n",
    "            kmean_model.cluster_centers_[:, 1], \\\n",
    "            s=100, c='red')\n",
    "plt.xlabel('Feature 1')\n",
    "plt.ylabel('Feature 2')\n",
    "plt.show()"
   ]
  },
  {
   "cell_type": "code",
   "execution_count": 66,
   "id": "2a6f378b-1bb2-4ade-b7d8-a3852a7e5f8c",
   "metadata": {
    "tags": []
   },
   "outputs": [],
   "source": [
    "kneedle_inertias = KneeLocator(K, inertias, curve=\"convex\", direction=\"decreasing\")"
   ]
  },
  {
   "cell_type": "code",
   "execution_count": 67,
   "id": "e8cd5057-123e-4560-8931-234b0fd71aa7",
   "metadata": {
    "tags": []
   },
   "outputs": [
    {
     "data": {
      "image/png": "[encoded data removed]",
      "text/plain": [
       "<Figure size 432x288 with 1 Axes>"
      ]
     },
     "metadata": {
      "needs_background": "light"
     },
     "output_type": "display_data"
    }
   ],
   "source": [
    "plt.plot(K, inertias, 'bx-')\n",
    "plt.xlabel('Values of K')\n",
    "plt.ylabel('Inertia')\n",
    "plt.vlines(kneedle_inertias.knee, plt.ylim()[0], plt.ylim()[1], linestyles='dashed')\n",
    "plt.title('The Elbow Method using Inertia')\n",
    "plt.show()"
   ]
  },
  {
   "cell_type": "code",
   "execution_count": 68,
   "id": "7c186c8c-16a7-4d58-9fc2-57909ef52f91",
   "metadata": {
    "tags": []
   },
   "outputs": [],
   "source": [
    "kmean_model = KMeans(n_clusters = kneedle_inertias.knee).fit(X)"
   ]
  },
  {
   "cell_type": "code",
   "execution_count": 69,
   "id": "2a4b5b50-7397-441a-81d2-5ef0b16c7011",
   "metadata": {
    "tags": []
   },
   "outputs": [],
   "source": [
    "inertia_values = []"
   ]
  },
  {
   "cell_type": "code",
   "execution_count": 70,
   "id": "863c475a-313d-4052-ab54-9bb02641110a",
   "metadata": {
    "tags": []
   },
   "outputs": [
    {
     "data": {
      "image/png": "[encoded data removed]",
      "text/plain": [
       "<Figure size 432x288 with 1 Axes>"
      ]
     },
     "metadata": {
      "needs_background": "light"
     },
     "output_type": "display_data"
    }
   ],
   "source": [
    "y_kmeans = kmean_model.fit_predict(X)\n",
    "inertia_values.append(kmean_model.inertia_)\n",
    "plt.scatter(np.array(X)[:, 0], np.array(X)[:, 1], c=y_kmeans)\n",
    "plt.scatter(kmean_model.cluster_centers_[:, 0],\\\n",
    "            kmean_model.cluster_centers_[:, 1], \\\n",
    "            s=100, c='red')\n",
    "plt.xlabel('Feature 1')\n",
    "plt.ylabel('Feature 2')\n",
    "plt.show()"
   ]
  },
  {
   "cell_type": "markdown",
   "id": "144097ee-1ce5-4e1c-92a4-edcd53a3c429",
   "metadata": {
    "jp-MarkdownHeadingCollapsed": true,
    "tags": []
   },
   "source": [
    "## Log-norm"
   ]
  },
  {
   "cell_type": "markdown",
   "id": "30346c81-a0a9-4234-9295-1e9abb540746",
   "metadata": {},
   "source": [
    "$$\n",
    "X_{norm} = \\log(X)\n",
    "$$"
   ]
  },
  {
   "cell_type": "code",
   "execution_count": 71,
   "id": "565c8752-ca96-43ff-bcf2-3a5406085f38",
   "metadata": {
    "tags": []
   },
   "outputs": [],
   "source": [
    "normalized_income = np.log10(income + 1e-1)\n",
    "normalized_recency = np.log10(recency + 1e-1)"
   ]
  },
  {
   "cell_type": "code",
   "execution_count": 72,
   "id": "35861692-3e2c-4b0c-916a-20940869e2bb",
   "metadata": {
    "tags": []
   },
   "outputs": [],
   "source": [
    "X = np.array(list(zip(normalized_income, normalized_recency)))"
   ]
  },
  {
   "cell_type": "code",
   "execution_count": 73,
   "id": "cfebbd77-779c-4226-891a-6082a74f868d",
   "metadata": {
    "tags": []
   },
   "outputs": [
    {
     "data": {
      "text/plain": [
       "array([[4.76446083, 1.76417613],\n",
       "       [4.66599445, 1.58092498],\n",
       "       [4.85499247, 1.41664051],\n",
       "       ...,\n",
       "       [4.75573083, 1.95951838],\n",
       "       [4.84038905, 0.90848502],\n",
       "       [4.72320192, 1.60314437]])"
      ]
     },
     "execution_count": 73,
     "metadata": {},
     "output_type": "execute_result"
    }
   ],
   "source": [
    "X"
   ]
  },
  {
   "cell_type": "code",
   "execution_count": 74,
   "id": "d7e07ea9-96fa-49ed-a74a-70a12b81a4f3",
   "metadata": {
    "tags": []
   },
   "outputs": [
    {
     "data": {
      "image/png": "[encoded data removed]",
      "text/plain": [
       "<Figure size 432x288 with 1 Axes>"
      ]
     },
     "metadata": {
      "needs_background": "light"
     },
     "output_type": "display_data"
    }
   ],
   "source": [
    "plt.scatter(X[:, 0], X[:, 1])\n",
    "plt.show()"
   ]
  },
  {
   "cell_type": "code",
   "execution_count": 75,
   "id": "3ee06ceb-7b54-4e6e-b650-851e82a031e0",
   "metadata": {
    "tags": []
   },
   "outputs": [],
   "source": [
    "K = range(1, 10)\n",
    "distortions = []\n",
    "inertias = []\n",
    "\n",
    "mapping1 = {}\n",
    "mapping2 = {}"
   ]
  },
  {
   "cell_type": "code",
   "execution_count": 76,
   "id": "8713d911-5fe3-4e38-a61a-e4ee95a2a767",
   "metadata": {
    "tags": []
   },
   "outputs": [],
   "source": [
    "for k in K:\n",
    "    model = KMeans(n_clusters = k).fit(X)\n",
    "    \n",
    "    distortions.append(np.sum(np.min(cdist(X, model.cluster_centers_, 'euclidean'), axis = 1)) / len(X))\n",
    "    inertias.append(model.inertia_)\n",
    "                       \n",
    "    mapping1[k] = np.sum(np.min(cdist(X, model.cluster_centers_, 'euclidean'), axis = 1)) / len(X)\n",
    "    mapping2[k] = model.inertia_                   "
   ]
  },
  {
   "cell_type": "code",
   "execution_count": 77,
   "id": "3f4c4359-2877-4d4c-b558-5f134822e4ff",
   "metadata": {
    "tags": []
   },
   "outputs": [
    {
     "data": {
      "image/png": "[encoded data removed]",
      "text/plain": [
       "<Figure size 432x288 with 1 Axes>"
      ]
     },
     "metadata": {
      "needs_background": "light"
     },
     "output_type": "display_data"
    }
   ],
   "source": [
    "plt.plot(K, distortions, 'bx-')\n",
    "plt.xlabel('Values of K')\n",
    "plt.ylabel('Distortion')\n",
    "plt.title('The Elbow Method using Distortion')\n",
    "plt.show()"
   ]
  },
  {
   "cell_type": "code",
   "execution_count": 78,
   "id": "71a3e22b-f59c-4838-a5d2-d607b08a7ab2",
   "metadata": {
    "tags": []
   },
   "outputs": [],
   "source": [
    "kneedle = KneeLocator(K, inertias, curve=\"convex\", direction=\"decreasing\")"
   ]
  },
  {
   "cell_type": "code",
   "execution_count": 79,
   "id": "73afe4e2-c66b-492b-b0b4-31c921f2ce69",
   "metadata": {
    "tags": []
   },
   "outputs": [
    {
     "data": {
      "image/png": "[encoded data removed]",
      "text/plain": [
       "<Figure size 432x288 with 1 Axes>"
      ]
     },
     "metadata": {
      "needs_background": "light"
     },
     "output_type": "display_data"
    }
   ],
   "source": [
    "plt.plot(K, inertias, 'bx-')\n",
    "plt.xlabel('Values of K')\n",
    "plt.ylabel('Inertia')\n",
    "plt.vlines(kneedle.knee, plt.ylim()[0], plt.ylim()[1], linestyles='dashed')\n",
    "plt.title('The Elbow Method using Inertia')\n",
    "plt.show()"
   ]
  },
  {
   "cell_type": "code",
   "execution_count": 80,
   "id": "4a39675c-8b3c-44fa-8b0d-4e6c5650b6b4",
   "metadata": {
    "tags": []
   },
   "outputs": [],
   "source": [
    "kmean_model = KMeans(n_clusters = kneedle.knee).fit(X)"
   ]
  },
  {
   "cell_type": "code",
   "execution_count": 81,
   "id": "5c9c3d87-2630-4d18-97d4-a29efdffb1d5",
   "metadata": {
    "tags": []
   },
   "outputs": [],
   "source": [
    "inertia_values = []"
   ]
  },
  {
   "cell_type": "code",
   "execution_count": 82,
   "id": "480e5ffe-730b-4492-8798-140be8e4827a",
   "metadata": {
    "tags": []
   },
   "outputs": [
    {
     "data": {
      "image/png": "[encoded data removed]",
      "text/plain": [
       "<Figure size 432x288 with 1 Axes>"
      ]
     },
     "metadata": {
      "needs_background": "light"
     },
     "output_type": "display_data"
    }
   ],
   "source": [
    "y_kmeans = kmean_model.fit_predict(X)\n",
    "inertia_values.append(kmean_model.inertia_)\n",
    "plt.scatter(np.array(X)[:, 0], np.array(X)[:, 1], c=y_kmeans)\n",
    "plt.scatter(kmean_model.cluster_centers_[:, 0],\\\n",
    "            kmean_model.cluster_centers_[:, 1], \\\n",
    "            s=100, c='red')\n",
    "plt.xlabel('Feature 1')\n",
    "plt.ylabel('Feature 2')\n",
    "plt.show()"
   ]
  },
  {
   "cell_type": "markdown",
   "id": "9a724ea3-64fe-4f50-ac4a-d4159f2c6468",
   "metadata": {
    "tags": []
   },
   "source": [
    "## Reciprocal-norm"
   ]
  },
  {
   "cell_type": "markdown",
   "id": "77336e73-0d65-46e4-bc92-93970ac3a30c",
   "metadata": {},
   "source": [
    "$$\n",
    "X_{norm} = \\frac{X}{\\sum_{x \\in X}x}\n",
    "$$"
   ]
  },
  {
   "cell_type": "code",
   "execution_count": 83,
   "id": "49bd9fb4-7abb-4d83-8ddc-df3606d27b29",
   "metadata": {
    "tags": []
   },
   "outputs": [],
   "source": [
    "normalized_income = income / np.sum(income)\n",
    "normalized_recency = recency / np.sum(recency)"
   ]
  },
  {
   "cell_type": "code",
   "execution_count": 84,
   "id": "06342075-919c-41d7-bf40-ac4f96a3199e",
   "metadata": {
    "tags": []
   },
   "outputs": [],
   "source": [
    "X = np.array(list(zip(normalized_income, normalized_recency)))"
   ]
  },
  {
   "cell_type": "code",
   "execution_count": 85,
   "id": "cb12f57e-ded5-47d2-bbea-9c07e2a69da2",
   "metadata": {
    "tags": []
   },
   "outputs": [
    {
     "data": {
      "text/plain": [
       "array([[5.02142388e-04, 5.34010975e-04],\n",
       "       [4.00276701e-04, 3.49869259e-04],\n",
       "       [6.18527002e-04, 2.39384230e-04],\n",
       "       ...,\n",
       "       [4.92149290e-04, 8.37844805e-04],\n",
       "       [5.98074403e-04, 7.36566862e-05],\n",
       "       [4.56633629e-04, 3.68283431e-04]])"
      ]
     },
     "execution_count": 85,
     "metadata": {},
     "output_type": "execute_result"
    }
   ],
   "source": [
    "X"
   ]
  },
  {
   "cell_type": "code",
   "execution_count": 86,
   "id": "fac8faa6-2576-44f4-9fe9-53f3db12766f",
   "metadata": {
    "tags": []
   },
   "outputs": [
    {
     "data": {
      "image/png": "[encoded data removed]",
      "text/plain": [
       "<Figure size 432x288 with 1 Axes>"
      ]
     },
     "metadata": {
      "needs_background": "light"
     },
     "output_type": "display_data"
    }
   ],
   "source": [
    "plt.scatter(X[:, 0], X[:, 1])\n",
    "plt.show()"
   ]
  },
  {
   "cell_type": "code",
   "execution_count": 87,
   "id": "772d5bdc-eafd-4723-958b-314f0d0a16c9",
   "metadata": {
    "tags": []
   },
   "outputs": [],
   "source": [
    "K = range(1, 10)\n",
    "distortions = []\n",
    "inertias = []\n",
    "\n",
    "mapping1 = {}\n",
    "mapping2 = {}"
   ]
  },
  {
   "cell_type": "code",
   "execution_count": 88,
   "id": "3a5c78f4-ba65-4382-8a9d-757256e147a5",
   "metadata": {
    "tags": []
   },
   "outputs": [],
   "source": [
    "for k in K:\n",
    "    model = KMeans(n_clusters = k).fit(X)\n",
    "    \n",
    "    distortions.append(np.sum(np.min(cdist(X, model.cluster_centers_, 'euclidean'), axis = 1)) / len(X))\n",
    "    inertias.append(model.inertia_)\n",
    "                       \n",
    "    mapping1[k] = np.sum(np.min(cdist(X, model.cluster_centers_, 'euclidean'), axis = 1)) / len(X)\n",
    "    mapping2[k] = model.inertia_                   "
   ]
  },
  {
   "cell_type": "code",
   "execution_count": 89,
   "id": "d78a9573-098b-4369-8b38-e8beb1f7ef11",
   "metadata": {
    "tags": []
   },
   "outputs": [],
   "source": [
    "kneedle_distortions = KneeLocator(K, distortions, curve=\"convex\", direction=\"decreasing\")"
   ]
  },
  {
   "cell_type": "code",
   "execution_count": 90,
   "id": "18996e2e-b448-440d-a804-6934d08b9f2b",
   "metadata": {
    "tags": []
   },
   "outputs": [
    {
     "data": {
      "image/png": "[encoded data removed]",
      "text/plain": [
       "<Figure size 432x288 with 1 Axes>"
      ]
     },
     "metadata": {
      "needs_background": "light"
     },
     "output_type": "display_data"
    }
   ],
   "source": [
    "plt.plot(K, distortions, 'bx-')\n",
    "plt.xlabel('Values of K')\n",
    "plt.ylabel('Distortion')\n",
    "plt.vlines(kneedle_distortions.knee, plt.ylim()[0], plt.ylim()[1], linestyles='dashed')\n",
    "plt.title('The Elbow Method using Distortion')\n",
    "plt.show()"
   ]
  },
  {
   "cell_type": "code",
   "execution_count": 91,
   "id": "4df60583-f108-4e06-8cb4-565c89c78dcd",
   "metadata": {
    "tags": []
   },
   "outputs": [],
   "source": [
    "kmean_model = KMeans(n_clusters = kneedle_distortions.knee).fit(X)"
   ]
  },
  {
   "cell_type": "code",
   "execution_count": 92,
   "id": "6e3c1af7-c428-4f8a-8ce6-da7896725c51",
   "metadata": {
    "tags": []
   },
   "outputs": [],
   "source": [
    "distortion_values = []"
   ]
  },
  {
   "cell_type": "code",
   "execution_count": 93,
   "id": "cad72029-3456-4041-81fb-6be9a4fb4084",
   "metadata": {
    "tags": []
   },
   "outputs": [
    {
     "data": {
      "image/png": "[encoded data removed]",
      "text/plain": [
       "<Figure size 432x288 with 1 Axes>"
      ]
     },
     "metadata": {
      "needs_background": "light"
     },
     "output_type": "display_data"
    }
   ],
   "source": [
    "y_kmeans = kmean_model.fit_predict(X)\n",
    "distortion_values.append(kmean_model.inertia_)\n",
    "plt.scatter(np.array(X)[:, 0], np.array(X)[:, 1], c=y_kmeans)\n",
    "plt.scatter(kmean_model.cluster_centers_[:, 0],\\\n",
    "            kmean_model.cluster_centers_[:, 1], \\\n",
    "            s=100, c='red')\n",
    "plt.xlabel('Feature 1')\n",
    "plt.ylabel('Feature 2')\n",
    "plt.title(\"Clustering with distortions\")\n",
    "plt.show()"
   ]
  },
  {
   "cell_type": "code",
   "execution_count": 94,
   "id": "f99b65c0-bf5f-4453-84e1-15b03fca0025",
   "metadata": {
    "tags": []
   },
   "outputs": [],
   "source": [
    "kneedle_inertias = KneeLocator(K, inertias, curve=\"convex\", direction=\"decreasing\")"
   ]
  },
  {
   "cell_type": "code",
   "execution_count": 95,
   "id": "0ffa86f1-c648-4120-8931-af98d6ead7eb",
   "metadata": {
    "tags": []
   },
   "outputs": [
    {
     "data": {
      "image/png": "[encoded data removed]",
      "text/plain": [
       "<Figure size 432x288 with 1 Axes>"
      ]
     },
     "metadata": {
      "needs_background": "light"
     },
     "output_type": "display_data"
    }
   ],
   "source": [
    "plt.plot(K, inertias, 'bx-')\n",
    "plt.xlabel('Values of K')\n",
    "plt.ylabel('Inertia')\n",
    "plt.vlines(kneedle_inertias.knee, plt.ylim()[0], plt.ylim()[1], linestyles='dashed')\n",
    "plt.title('The Elbow Method using Inertia')\n",
    "plt.show()"
   ]
  },
  {
   "cell_type": "code",
   "execution_count": 96,
   "id": "4512788c-6f47-44dd-81fe-1c029f64ec23",
   "metadata": {
    "tags": []
   },
   "outputs": [],
   "source": [
    "kmean_model = KMeans(n_clusters = kneedle_inertias.knee).fit(X)"
   ]
  },
  {
   "cell_type": "code",
   "execution_count": 97,
   "id": "6ab10fc4-a1a4-4018-8d4d-e82011715db3",
   "metadata": {
    "tags": []
   },
   "outputs": [],
   "source": [
    "inertia_values = []"
   ]
  },
  {
   "cell_type": "code",
   "execution_count": 98,
   "id": "6065def9-31d0-4317-b8f4-23fd15489dd3",
   "metadata": {
    "tags": []
   },
   "outputs": [
    {
     "data": {
      "image/png": "[encoded data removed]",
      "text/plain": [
       "<Figure size 432x288 with 1 Axes>"
      ]
     },
     "metadata": {
      "needs_background": "light"
     },
     "output_type": "display_data"
    }
   ],
   "source": [
    "y_kmeans = kmean_model.fit_predict(X)\n",
    "inertia_values.append(kmean_model.inertia_)\n",
    "plt.scatter(np.array(X)[:, 0], np.array(X)[:, 1], c=y_kmeans)\n",
    "plt.scatter(kmean_model.cluster_centers_[:, 0],\\\n",
    "            kmean_model.cluster_centers_[:, 1], \\\n",
    "            s=100, c='red')\n",
    "plt.xlabel('Feature 1')\n",
    "plt.ylabel('Feature 2')\n",
    "plt.title(\"Clustering with inertia\")\n",
    "plt.show()"
   ]
  },
  {
   "cell_type": "markdown",
   "id": "9c08316b-0af2-4586-92bf-eb08b8f231e9",
   "metadata": {},
   "source": [
    "## Log-norm"
   ]
  },
  {
   "cell_type": "markdown",
   "id": "f4c41744-ca59-4a08-aa57-034b1a6c5b57",
   "metadata": {},
   "source": [
    "$$\n",
    "X_{norm} = \\log(X)\n",
    "$$"
   ]
  },
  {
   "cell_type": "code",
   "execution_count": 99,
   "id": "6035e36d-ad44-4a8d-ba69-4da6d68464c8",
   "metadata": {
    "tags": []
   },
   "outputs": [],
   "source": [
    "normalized_income = np.log10(income + 1e-1)\n",
    "normalized_recency = np.log10(recency + 1e-1)"
   ]
  },
  {
   "cell_type": "code",
   "execution_count": 100,
   "id": "b06e462c-2ff7-42e3-89bf-5b481e3b972b",
   "metadata": {
    "tags": []
   },
   "outputs": [],
   "source": [
    "X = np.array(list(zip(normalized_income, normalized_recency)))"
   ]
  },
  {
   "cell_type": "code",
   "execution_count": 101,
   "id": "35043a11-1b3c-495c-9d12-d4f2ac6f10db",
   "metadata": {
    "tags": []
   },
   "outputs": [
    {
     "data": {
      "text/plain": [
       "array([[4.76446083, 1.76417613],\n",
       "       [4.66599445, 1.58092498],\n",
       "       [4.85499247, 1.41664051],\n",
       "       ...,\n",
       "       [4.75573083, 1.95951838],\n",
       "       [4.84038905, 0.90848502],\n",
       "       [4.72320192, 1.60314437]])"
      ]
     },
     "execution_count": 101,
     "metadata": {},
     "output_type": "execute_result"
    }
   ],
   "source": [
    "X"
   ]
  },
  {
   "cell_type": "code",
   "execution_count": 102,
   "id": "a588dd69-9904-4aeb-be51-b82750e3ff59",
   "metadata": {
    "tags": []
   },
   "outputs": [
    {
     "data": {
      "image/png": "[encoded data removed]",
      "text/plain": [
       "<Figure size 432x288 with 1 Axes>"
      ]
     },
     "metadata": {
      "needs_background": "light"
     },
     "output_type": "display_data"
    }
   ],
   "source": [
    "plt.scatter(X[:, 0], X[:, 1])\n",
    "plt.show()"
   ]
  },
  {
   "cell_type": "code",
   "execution_count": 103,
   "id": "329a180b-830c-409d-8c08-9259762c203e",
   "metadata": {
    "tags": []
   },
   "outputs": [],
   "source": [
    "K = range(1, 10)\n",
    "distortions = []\n",
    "inertias = []\n",
    "\n",
    "mapping1 = {}\n",
    "mapping2 = {}"
   ]
  },
  {
   "cell_type": "code",
   "execution_count": 104,
   "id": "4d873920-bc0a-4fd2-b990-59f0780dddce",
   "metadata": {
    "tags": []
   },
   "outputs": [],
   "source": [
    "for k in K:\n",
    "    model = KMeans(n_clusters = k).fit(X)\n",
    "    \n",
    "    distortions.append(np.sum(np.min(cdist(X, model.cluster_centers_, 'euclidean'), axis = 1)) / len(X))\n",
    "    inertias.append(model.inertia_)\n",
    "                       \n",
    "    mapping1[k] = np.sum(np.min(cdist(X, model.cluster_centers_, 'euclidean'), axis = 1)) / len(X)\n",
    "    mapping2[k] = model.inertia_                   "
   ]
  },
  {
   "cell_type": "code",
   "execution_count": 105,
   "id": "120806c8-a196-4aec-9489-9fe252ce25b0",
   "metadata": {
    "tags": []
   },
   "outputs": [],
   "source": [
    "kneedle_distortions = KneeLocator(K, distortions, curve=\"convex\", direction=\"decreasing\")"
   ]
  },
  {
   "cell_type": "code",
   "execution_count": 106,
   "id": "36ec3139-974d-4567-bfca-965226755bc1",
   "metadata": {
    "tags": []
   },
   "outputs": [
    {
     "data": {
      "image/png": "[encoded data removed]",
      "text/plain": [
       "<Figure size 432x288 with 1 Axes>"
      ]
     },
     "metadata": {
      "needs_background": "light"
     },
     "output_type": "display_data"
    }
   ],
   "source": [
    "plt.plot(K, distortions, 'bx-')\n",
    "plt.xlabel('Values of K')\n",
    "plt.ylabel('Distortion')\n",
    "plt.vlines(kneedle_distortions.knee, plt.ylim()[0], plt.ylim()[1], linestyles='dashed')\n",
    "plt.title('The Elbow Method using Distortion')\n",
    "plt.show()"
   ]
  },
  {
   "cell_type": "code",
   "execution_count": 107,
   "id": "123ed36b-8293-4fb9-9b2f-180736688d6d",
   "metadata": {
    "tags": []
   },
   "outputs": [],
   "source": [
    "kmean_model = KMeans(n_clusters = kneedle_distortions.knee).fit(X)"
   ]
  },
  {
   "cell_type": "code",
   "execution_count": 108,
   "id": "c8c68a6a-2a16-418f-8a55-4be269403a18",
   "metadata": {
    "tags": []
   },
   "outputs": [],
   "source": [
    "distortion_values = []"
   ]
  },
  {
   "cell_type": "code",
   "execution_count": 109,
   "id": "a2cdb852-2bbb-4421-ab00-956f51269f99",
   "metadata": {
    "tags": []
   },
   "outputs": [
    {
     "data": {
      "image/png": "[encoded data removed]",
      "text/plain": [
       "<Figure size 432x288 with 1 Axes>"
      ]
     },
     "metadata": {
      "needs_background": "light"
     },
     "output_type": "display_data"
    }
   ],
   "source": [
    "y_kmeans = kmean_model.fit_predict(X)\n",
    "distortion_values.append(kmean_model.inertia_)\n",
    "plt.scatter(X[:, 0], X[:, 1], c=y_kmeans)\n",
    "plt.scatter(kmean_model.cluster_centers_[:, 0],\\\n",
    "            kmean_model.cluster_centers_[:, 1], \\\n",
    "            s=100, c='red')\n",
    "plt.xlabel('Feature 1')\n",
    "plt.ylabel('Feature 2')\n",
    "plt.title(\"Clustering with distortion\")\n",
    "plt.show()"
   ]
  },
  {
   "cell_type": "code",
   "execution_count": 110,
   "id": "1a38fbfc-c53f-4846-8786-f781acd7dc1a",
   "metadata": {
    "tags": []
   },
   "outputs": [],
   "source": [
    "kneedle_innertias = KneeLocator(K, inertias, curve=\"convex\", direction=\"decreasing\")"
   ]
  },
  {
   "cell_type": "code",
   "execution_count": 111,
   "id": "3a851ae9-8486-443e-a045-0d2192d3cf8c",
   "metadata": {
    "tags": []
   },
   "outputs": [
    {
     "data": {
      "image/png": "[encoded data removed]",
      "text/plain": [
       "<Figure size 432x288 with 1 Axes>"
      ]
     },
     "metadata": {
      "needs_background": "light"
     },
     "output_type": "display_data"
    }
   ],
   "source": [
    "plt.plot(K, inertias, 'bx-')\n",
    "plt.xlabel('Values of K')\n",
    "plt.ylabel('Inertia')\n",
    "plt.vlines(kneedle_innertias.knee, plt.ylim()[0], plt.ylim()[1], linestyles='dashed')\n",
    "plt.title('The Elbow Method using Inertia')\n",
    "plt.show()"
   ]
  },
  {
   "cell_type": "code",
   "execution_count": 112,
   "id": "08882ae4-3d97-41de-bbc0-ead583995089",
   "metadata": {
    "tags": []
   },
   "outputs": [],
   "source": [
    "kmean_model = KMeans(n_clusters = kneedle_innertias.knee).fit(X)"
   ]
  },
  {
   "cell_type": "code",
   "execution_count": 113,
   "id": "60819d62-a4d1-48d0-87dd-a81ce949b55f",
   "metadata": {
    "tags": []
   },
   "outputs": [],
   "source": [
    "inertia_values = []"
   ]
  },
  {
   "cell_type": "code",
   "execution_count": 114,
   "id": "4ded65a8-fb1f-40f6-bfeb-10b7a08995f0",
   "metadata": {
    "tags": []
   },
   "outputs": [
    {
     "data": {
      "image/png": "[encoded data removed]",
      "text/plain": [
       "<Figure size 432x288 with 1 Axes>"
      ]
     },
     "metadata": {
      "needs_background": "light"
     },
     "output_type": "display_data"
    }
   ],
   "source": [
    "y_kmeans = kmean_model.fit_predict(X)\n",
    "inertia_values.append(kmean_model.inertia_)\n",
    "plt.scatter(np.array(X)[:, 0], np.array(X)[:, 1], c=y_kmeans)\n",
    "plt.scatter(kmean_model.cluster_centers_[:, 0],\\\n",
    "            kmean_model.cluster_centers_[:, 1], \\\n",
    "            s=100, c='red')\n",
    "plt.xlabel('Feature 1')\n",
    "plt.ylabel('Feature 2')\n",
    "plt.show()"
   ]
  },
  {
   "cell_type": "code",
   "execution_count": null,
   "id": "4eee4dc0-ccd9-46cc-801c-7118c4376fb3",
   "metadata": {},
   "outputs": [],
   "source": []
  }
 ],
 "metadata": {
  "kernelspec": {
   "display_name": "Python 3 (ipykernel)",
   "language": "python",
   "name": "python3"
  },
  "language_info": {
   "codemirror_mode": {
    "name": "ipython",
    "version": 3
   },
   "file_extension": ".py",
   "mimetype": "text/x-python",
   "name": "python",
   "nbconvert_exporter": "python",
   "pygments_lexer": "ipython3",
   "version": "3.9.7"
  },
  "toc-autonumbering": true
 },
 "nbformat": 4,
 "nbformat_minor": 5
}
