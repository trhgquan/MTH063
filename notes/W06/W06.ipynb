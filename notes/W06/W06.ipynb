{
 "cells": [
  {
   "cell_type": "code",
   "execution_count": 1,
   "id": "13177a9d-b1b6-480d-af19-d6bfc9dfed60",
   "metadata": {},
   "outputs": [],
   "source": [
    "import numpy as np\n",
    "import pandas as pd\n",
    "import scipy.stats as stats\n",
    "import matplotlib.pyplot as plt\n",
    "import statsmodels.api as sm\n",
    "import statsmodels.formula.api as smf\n",
    "from patsy import dmatrices"
   ]
  },
  {
   "cell_type": "code",
   "execution_count": 2,
   "id": "a1b1d116-3538-468c-9866-7d890d836313",
   "metadata": {},
   "outputs": [],
   "source": [
    "np.random.seed(42)"
   ]
  },
  {
   "cell_type": "markdown",
   "id": "a054b71e-4a55-4f79-a5bf-23b28abd55a5",
   "metadata": {
    "jp-MarkdownHeadingCollapsed": true
   },
   "source": [
    "# Giả định phân phối xác suất cho biến"
   ]
  },
  {
   "cell_type": "markdown",
   "id": "34113bdd-dca2-4977-b858-f4fe9cf7cde4",
   "metadata": {},
   "source": [
    "## Dữ liệu từ mô phỏng"
   ]
  },
  {
   "cell_type": "markdown",
   "id": "09180e44-9edd-4980-a664-f9ef1a4d90d4",
   "metadata": {
    "jp-MarkdownHeadingCollapsed": true
   },
   "source": [
    "### Tạo số ngẫu nhiên từ phân phối đều"
   ]
  },
  {
   "cell_type": "markdown",
   "id": "6503cd14-e331-4de3-bcf1-7e46a244890c",
   "metadata": {},
   "source": [
    "\n",
    "$$\n",
    "x_0 = 0\n",
    "$$\n",
    "\n",
    "$$\n",
    "x_i \\equiv (ax_{i - 1} + c) \\pmod m\n",
    "$$"
   ]
  },
  {
   "cell_type": "code",
   "execution_count": 3,
   "id": "edee167e-f485-46ac-bb8d-5d1055085218",
   "metadata": {},
   "outputs": [],
   "source": [
    "m, a, c = 2 ** 10, 13, 203"
   ]
  },
  {
   "cell_type": "code",
   "execution_count": 4,
   "id": "ded6f297-776c-4a43-a380-53789491fc28",
   "metadata": {},
   "outputs": [],
   "source": [
    "x_0 = 0"
   ]
  },
  {
   "cell_type": "code",
   "execution_count": 5,
   "id": "e90f3660-92d8-4d80-8e13-abec01f6a6c6",
   "metadata": {},
   "outputs": [],
   "source": [
    "x_list = np.array([x_0], dtype=np.int64)\n",
    "for i in range(1, 11):\n",
    "    current_x = (a * x_list[-1] + c) % m\n",
    "    x_list = np.append(x_list, [current_x], axis = 0)"
   ]
  },
  {
   "cell_type": "code",
   "execution_count": 6,
   "id": "918d88e1-44a8-42e8-a7c8-aef2c93e2464",
   "metadata": {},
   "outputs": [
    {
     "data": {
      "text/plain": [
       "array([  0, 203, 794, 285, 836, 831, 766, 945, 200, 755, 802], dtype=int64)"
      ]
     },
     "execution_count": 6,
     "metadata": {},
     "output_type": "execute_result"
    }
   ],
   "source": [
    "x_list"
   ]
  },
  {
   "cell_type": "markdown",
   "id": "ac7d1b04-b65c-4822-a25d-1e5e242940db",
   "metadata": {
    "jp-MarkdownHeadingCollapsed": true
   },
   "source": [
    "### Tạo số ngẫu nhiên từ phân phối chuẩn"
   ]
  },
  {
   "cell_type": "code",
   "execution_count": 7,
   "id": "0cb1914a-41db-4057-9b37-99190fe7b148",
   "metadata": {},
   "outputs": [],
   "source": [
    "u1, u2 = np.random.uniform(0, 1, 1000), np.random.uniform(0, 1, 1000)"
   ]
  },
  {
   "cell_type": "code",
   "execution_count": 8,
   "id": "2a118f95-a5c2-4b3f-b8d3-9bafbe3ca263",
   "metadata": {},
   "outputs": [],
   "source": [
    "# u1, u2"
   ]
  },
  {
   "cell_type": "code",
   "execution_count": 9,
   "id": "d11d969a-2d93-495a-8cb9-7e2a5862f61f",
   "metadata": {},
   "outputs": [],
   "source": [
    "theta = 2 * np.pi * u1\n",
    "r = np.sqrt(-2 * np.log(u2))"
   ]
  },
  {
   "cell_type": "code",
   "execution_count": 10,
   "id": "fb558dff-6828-47b4-b525-eed027576154",
   "metadata": {},
   "outputs": [],
   "source": [
    "# theta, r"
   ]
  },
  {
   "cell_type": "code",
   "execution_count": 11,
   "id": "0a86b78e-cd55-4f96-b513-2e3702cc2bc5",
   "metadata": {},
   "outputs": [],
   "source": [
    "x = r * np.cos(theta)\n",
    "y = r * np.sin(theta)"
   ]
  },
  {
   "cell_type": "code",
   "execution_count": 12,
   "id": "e376c53e-beb4-4f0f-8b1b-8c2597d78522",
   "metadata": {},
   "outputs": [],
   "source": [
    "# x, y"
   ]
  },
  {
   "cell_type": "code",
   "execution_count": 13,
   "id": "f061c9b2-119a-4349-b936-aa4e60be0515",
   "metadata": {},
   "outputs": [
    {
     "data": {
      "image/png": "[encoded data removed]",
      "text/plain": [
       "<Figure size 432x288 with 1 Axes>"
      ]
     },
     "metadata": {
      "needs_background": "light"
     },
     "output_type": "display_data"
    }
   ],
   "source": [
    "plt.hist(x)\n",
    "plt.show()"
   ]
  },
  {
   "cell_type": "code",
   "execution_count": 14,
   "id": "7e03262a-a009-4ee2-862c-8813f92c1db2",
   "metadata": {},
   "outputs": [
    {
     "data": {
      "image/png": "[encoded data removed]",
      "text/plain": [
       "<Figure size 432x288 with 1 Axes>"
      ]
     },
     "metadata": {
      "needs_background": "light"
     },
     "output_type": "display_data"
    }
   ],
   "source": [
    "plt.hist(y)\n",
    "plt.show()"
   ]
  },
  {
   "cell_type": "markdown",
   "id": "c44f3576-4107-4678-bb01-83d055662a5f",
   "metadata": {},
   "source": [
    "### Tạo số ngẫu nhiên từ phân phối rời rạc"
   ]
  },
  {
   "cell_type": "markdown",
   "id": "61550e4f-7124-44cc-9dad-0019a2928de0",
   "metadata": {},
   "source": [
    "- Poisson (biến đổi ngược)\n",
    "- Bác bỏ (dạng đặc biệt của Monte-carlo)"
   ]
  },
  {
   "cell_type": "markdown",
   "id": "16707e8b-8644-45ec-bb47-7dba17cb04ef",
   "metadata": {},
   "source": [
    "Ước lượng $\\pi$ bằng Monte-Carlo:"
   ]
  },
  {
   "cell_type": "code",
   "execution_count": 15,
   "id": "6af062e5-12ef-4f2c-9d29-fd26483c600c",
   "metadata": {},
   "outputs": [],
   "source": [
    "x, y = np.random.uniform(0, 1, 1000), np.random.uniform(0, 1, 1000)"
   ]
  },
  {
   "cell_type": "code",
   "execution_count": 16,
   "id": "e7a87160-01f3-4f60-8a2d-2b2527c5dd7e",
   "metadata": {},
   "outputs": [],
   "source": [
    "list_points = [1 if (np.sqrt((point[0] - .5) ** 2 + (point[1] - .5) ** 2) < .5) else 0 for point in zip(x, y)]"
   ]
  },
  {
   "cell_type": "code",
   "execution_count": 17,
   "id": "d5632293-5d6a-441a-8577-40cd9c69843c",
   "metadata": {},
   "outputs": [],
   "source": [
    "drawable_x = []\n",
    "drawable_y = []\n",
    "accepted_points = []\n",
    "for point in zip(x, y):\n",
    "    if (np.sqrt((point[0] - .5) ** 2 + (point[1] - .5) ** 2) < .5):\n",
    "        drawable_x.append(point[0])\n",
    "        drawable_y.append(point[1])"
   ]
  },
  {
   "cell_type": "code",
   "execution_count": 18,
   "id": "2aeb2128-13db-4f19-82a8-d27b28722fff",
   "metadata": {},
   "outputs": [],
   "source": [
    "estimated_pi = 4 * np.sum(list_points) / len(x)"
   ]
  },
  {
   "cell_type": "code",
   "execution_count": 19,
   "id": "710e0548-a6b8-4a32-a062-d82ea769042d",
   "metadata": {},
   "outputs": [
    {
     "data": {
      "text/plain": [
       "3.16"
      ]
     },
     "execution_count": 19,
     "metadata": {},
     "output_type": "execute_result"
    }
   ],
   "source": [
    "estimated_pi"
   ]
  },
  {
   "cell_type": "code",
   "execution_count": 20,
   "id": "c2071d5d-6cfa-4b49-8194-b2a191f3fcbb",
   "metadata": {
    "scrolled": true
   },
   "outputs": [
    {
     "data": {
      "image/png": "[encoded data removed]",
      "text/plain": [
       "<Figure size 360x360 with 1 Axes>"
      ]
     },
     "metadata": {
      "needs_background": "light"
     },
     "output_type": "display_data"
    }
   ],
   "source": [
    "plt.rcParams[\"figure.figsize\"] = (5, 5)\n",
    "plt.scatter(x, y, color=\"b\")\n",
    "plt.scatter(drawable_x, drawable_y, color = \"r\")\n",
    "plt.show()"
   ]
  },
  {
   "cell_type": "markdown",
   "id": "c8ab1f6d-917c-4fb3-ba5a-d92576bfa605",
   "metadata": {},
   "source": [
    "### Lấy mẫu theo 1 phân phối"
   ]
  },
  {
   "cell_type": "markdown",
   "id": "9b70ddcc-a1a5-429c-8a29-d097bf9bc77f",
   "metadata": {},
   "source": [
    "Gieo 2 con xúc sắc, tính xác suất tổng $\\geq 8$\n",
    "\n",
    "Lý thuyết: $p(\\text{sum} \\geq 8) = \\frac{5}{36} \\approx 0.1389$"
   ]
  },
  {
   "cell_type": "code",
   "execution_count": 21,
   "id": "3792e8b7-6c46-415e-8a68-1156fe1a703a",
   "metadata": {},
   "outputs": [],
   "source": [
    "n_size = 10000"
   ]
  },
  {
   "cell_type": "code",
   "execution_count": 22,
   "id": "cfc3ad43-a4ec-4260-98eb-43396a315d25",
   "metadata": {},
   "outputs": [],
   "source": [
    "first, second = np.random.randint(1, 7, n_size), np.random.randint(1, 7, n_size)"
   ]
  },
  {
   "cell_type": "code",
   "execution_count": 23,
   "id": "9bdbb829-f283-42a0-bac8-d57a1222a054",
   "metadata": {},
   "outputs": [],
   "source": [
    "accepted = [1 if f + s == 8 else 0 for f, s in zip(first, second)]"
   ]
  },
  {
   "cell_type": "code",
   "execution_count": 24,
   "id": "b52fcb97-43ed-4a8a-b02a-9d1a645ce26f",
   "metadata": {},
   "outputs": [
    {
     "data": {
      "text/plain": [
       "0.1394"
      ]
     },
     "execution_count": 24,
     "metadata": {},
     "output_type": "execute_result"
    }
   ],
   "source": [
    "np.sum(accepted) / n_size"
   ]
  },
  {
   "cell_type": "markdown",
   "id": "a077cb59-3879-44dc-903e-596377da606d",
   "metadata": {},
   "source": [
    "# Ensemble"
   ]
  },
  {
   "cell_type": "markdown",
   "id": "f3423681-45dd-49b2-bd5b-64436d0d9452",
   "metadata": {
    "jp-MarkdownHeadingCollapsed": true
   },
   "source": [
    "## Bootstrap training data"
   ]
  },
  {
   "cell_type": "markdown",
   "id": "2d9860a3-ce87-4bb5-8a14-603c34753112",
   "metadata": {},
   "source": [
    "- Datapoint có thể nhiều / ít mẫu hơn dataset gốc\n",
    "- Dùng với imbalanced data: lấy sample data \"thọt\" nhiều hơn cho cân bằng"
   ]
  },
  {
   "cell_type": "markdown",
   "id": "8bbd1f4a-3538-4e92-91a3-e3ba81d1de71",
   "metadata": {},
   "source": [
    "Ví dụ ensemble cho Linear Regression "
   ]
  },
  {
   "cell_type": "markdown",
   "id": "64a208a2-115e-4348-be53-4a4a4916b0a7",
   "metadata": {},
   "source": [
    "- Với dataset $\\mathcal{B}_1$, tính được $w_0^1, w_1^1$\n",
    "- ..\n",
    "- Với dataset $\\mathcal{B}_n$, tính được $w_0^n, w_1^n$\n",
    "\n",
    "Từ đây đưa ra được $w_0 \\pm .., w_1 \\pm ..$"
   ]
  },
  {
   "cell_type": "markdown",
   "id": "8a3a2eaf-0ea5-4a53-9e0e-112d98f7819e",
   "metadata": {},
   "source": [
    "## Phân tích hồi quy bội (hồi quy đa biến)"
   ]
  },
  {
   "cell_type": "markdown",
   "id": "3f6a4bfe-4178-46c2-8402-65120b5bbbc7",
   "metadata": {},
   "source": [
    "- Hàm biến đổi: thêm biến mới\n",
    "- Trong $n$ biến $X_1, X_2, .., X_d$, biến nào là biến tốt nhất? $\\Rightarrow$ dùng 1 tập con của $n$ biến, không nhất thiết xài hết.\n",
    "\n",
    "Học máy: độ lỗi nhỏ nhất -> chọn\n",
    "\n",
    "Mô hình thống kê: likelihood (càng lớn càng tốt), $R^2$ (càng lớn càng tốt), AIC, BIC"
   ]
  },
  {
   "cell_type": "markdown",
   "id": "0dd78c5f-be93-409a-b36d-ab07b9a9de1e",
   "metadata": {},
   "source": [
    "### Example: B8.1"
   ]
  },
  {
   "cell_type": "code",
   "execution_count": 26,
   "id": "f0305135-cec5-4d06-9ce3-7364efe4dc83",
   "metadata": {},
   "outputs": [],
   "source": [
    "y = np.array([6, 8, 8, 7, 7, 12, 9, 8, 9, 10, 10, 11, 9, 10, 11])\n",
    "x1 = np.array([9, 10, 8, 7, 10, 4, 5, 5, 6, 8, 7, 4, 9, 5, 8])\n",
    "x2 = np.array([8, 13, 11, 10, 12, 16, 10, 10, 12, 14, 12, 16, 14, 10, 12])"
   ]
  },
  {
   "cell_type": "code",
   "execution_count": 27,
   "id": "5fa8fc1e-5e89-48b6-89c5-c20d36867b18",
   "metadata": {},
   "outputs": [],
   "source": [
    "df = pd.DataFrame({\"x1\" : x1, \"x2\": x2, \"y\" : y})"
   ]
  },
  {
   "cell_type": "code",
   "execution_count": 28,
   "id": "aba2913c-5212-4ecf-b03d-4f90dcbfd24b",
   "metadata": {},
   "outputs": [],
   "source": [
    "result = smf.ols(\"y ~ x1 + x2\", df).fit()"
   ]
  },
  {
   "cell_type": "code",
   "execution_count": 29,
   "id": "e20a15c0-5cb3-481e-a738-d5d53bb84c56",
   "metadata": {},
   "outputs": [
    {
     "name": "stdout",
     "output_type": "stream",
     "text": [
      "                            OLS Regression Results                            \n",
      "==============================================================================\n",
      "Dep. Variable:                      y   R-squared:                       0.693\n",
      "Model:                            OLS   Adj. R-squared:                  0.642\n",
      "Method:                 Least Squares   F-statistic:                     13.56\n",
      "Date:                Sat, 27 May 2023   Prob (F-statistic):           0.000834\n",
      "Time:                        10:57:03   Log-Likelihood:                -19.779\n",
      "No. Observations:                  15   AIC:                             45.56\n",
      "Df Residuals:                      12   BIC:                             47.68\n",
      "Df Model:                           2                                         \n",
      "Covariance Type:            nonrobust                                         \n",
      "==============================================================================\n",
      "                 coef    std err          t      P>|t|      [0.025      0.975]\n",
      "------------------------------------------------------------------------------\n",
      "Intercept      6.2030      1.862      3.331      0.006       2.145      10.260\n",
      "x1            -0.3762      0.133     -2.834      0.015      -0.665      -0.087\n",
      "x2             0.4525      0.120      3.786      0.003       0.192       0.713\n",
      "==============================================================================\n",
      "Omnibus:                        6.487   Durbin-Watson:                   0.946\n",
      "Prob(Omnibus):                  0.039   Jarque-Bera (JB):                3.545\n",
      "Skew:                           1.123   Prob(JB):                        0.170\n",
      "Kurtosis:                       3.792   Cond. No.                         101.\n",
      "==============================================================================\n",
      "\n",
      "Notes:\n",
      "[1] Standard Errors assume that the covariance matrix of the errors is correctly specified.\n"
     ]
    },
    {
     "name": "stderr",
     "output_type": "stream",
     "text": [
      "D:\\Software\\Python\\lib\\site-packages\\scipy\\stats\\_stats_py.py:1736: UserWarning: kurtosistest only valid for n>=20 ... continuing anyway, n=15\n",
      "  warnings.warn(\"kurtosistest only valid for n>=20 ... continuing \"\n"
     ]
    }
   ],
   "source": [
    "print(result.summary())"
   ]
  }
 ],
 "metadata": {
  "kernelspec": {
   "display_name": "Python 3 (ipykernel)",
   "language": "python",
   "name": "python3"
  },
  "language_info": {
   "codemirror_mode": {
    "name": "ipython",
    "version": 3
   },
   "file_extension": ".py",
   "mimetype": "text/x-python",
   "name": "python",
   "nbconvert_exporter": "python",
   "pygments_lexer": "ipython3",
   "version": "3.9.7"
  }
 },
 "nbformat": 4,
 "nbformat_minor": 5
}
