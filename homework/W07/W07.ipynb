{
 "cells": [
  {
   "cell_type": "markdown",
   "id": "9b36844e-288d-4792-bbf3-abd53715ccdf",
   "metadata": {
    "editable": true,
    "slideshow": {
     "slide_type": ""
    },
    "tags": []
   },
   "source": [
    "# Bài tập tuần 7"
   ]
  },
  {
   "cell_type": "markdown",
   "id": "06d81504-7a81-4d4b-bd56-b3fc16d5a428",
   "metadata": {},
   "source": [
    "## Thông tin học viên"
   ]
  },
  {
   "cell_type": "markdown",
   "id": "e9ba34b1-27f0-4ba9-ab5e-bcfe8df2237d",
   "metadata": {},
   "source": [
    "| Họ và tên |MSHV |\n",
    "|-----------|----------------|\n",
    "|Trần Hoàng Quân|19120338|"
   ]
  },
  {
   "cell_type": "markdown",
   "id": "713088fc-d257-4fba-8bf2-8acfc631bdfc",
   "metadata": {},
   "source": [
    "## Import các thư viện cần thiết"
   ]
  },
  {
   "cell_type": "code",
   "execution_count": 1,
   "id": "7231ed8a-485b-4e43-8ab3-5d54b556d8c5",
   "metadata": {},
   "outputs": [],
   "source": [
    "import numpy as np\n",
    "import scipy.stats as stats\n",
    "import pandas as pd\n",
    "import statsmodels.api as sm\n",
    "import statsmodels.formula.api as smf\n",
    "import matplotlib.pyplot as plt\n",
    "from patsy import dmatrices"
   ]
  },
  {
   "cell_type": "markdown",
   "id": "051ce9a6-5054-4c05-9f60-a6c499459179",
   "metadata": {},
   "source": [
    "# Đề bài"
   ]
  },
  {
   "cell_type": "markdown",
   "id": "fabef235-87af-4e0c-bf82-c7c2ef1a728b",
   "metadata": {
    "editable": true,
    "slideshow": {
     "slide_type": ""
    },
    "tags": []
   },
   "source": [
    "Mô hình hồi qui giá nhà ($PRICE$ tính bằng *nghìn đô*) phụ thuộc vào các biến $SQFT$ (diện tích nhà), $BEDRMS$ (số phòng ngủ) và $BATHS$ (số phòng tắm)\n",
    "\n",
    "|$i$|$PRICE$|$SQFT$|$BEDRMS$|$BATHS$|\n",
    "|-|-----|----|------|-----|\n",
    "|1|199.9|1065|3|1.75|\n",
    "|2|228|1254|3|2|\n",
    "|3|235|1300|3|2|\n",
    "|4|285|1577|4|2.5|\n",
    "|5|239|1600|3|2|\n",
    "|6|293|1750|4|2|\n",
    "|7|285|1800|4|2.75|\n",
    "|8|365|1870|4|2|\n",
    "|9|295|1935|4|2.5|\n",
    "|10|290|1948|4|2|\n",
    "|11|385|2254|4|3|\n",
    "|12|505|2600|3|2.5|\n",
    "|13|425|2800|4|3|\n",
    "|14|415|3000|4|3|\n",
    "\n",
    "1. Hồi qui mẫu\n",
    "   $$\n",
    "     PRICE_i = \\beta_0 + SQFT_i\\beta_1 + BEDRMS_i\\beta_2 + BATHS_i\\beta_3 + \\epsilon_i\n",
    "   $$\n",
    "   và giải thích ý nghĩa các hệ số hồi qui?\n",
    "2. Tính ước lượng điểm giá $PRICE$ trung bình khi $SQFT$ tăng thêm $300$ và $BEDRMS$ tăng thêm $1$\n",
    "3. Tính hệ số xác định và hệ số xác định điều chỉnh, giải thích ý nghĩa?\n",
    "4. Tìm khoảng tin cậy đối với $\\beta_1, \\beta_2$ và $\\beta_3$ với mức ý nghĩa $5\\%$\n",
    "5. Phải chăng cả ba biến đều không ảnh hưởng đến giá trị $PRICE$?\n",
    "6. Dự báo giá trị trung bình và giá trị cá biệt về giá nhà trung bình khi $SQRT = 2500$, $BEDRMS = 3$ và $BATHS = 2$? "
   ]
  },
  {
   "cell_type": "markdown",
   "id": "42cbb643-d11a-44be-8717-a70f1c4e6ec7",
   "metadata": {},
   "source": [
    "# Câu 1"
   ]
  },
  {
   "cell_type": "markdown",
   "id": "2178c733-cd09-4d07-9515-7465f5ac45c0",
   "metadata": {
    "editable": true,
    "slideshow": {
     "slide_type": ""
    },
    "tags": []
   },
   "source": [
    "## Hồi qui mẫu $PRICE_i = \\beta_0 + SQFT_i\\beta_1 + BEDRMS_i\\beta_2 + BATHS_i\\beta_3 + \\epsilon_i$"
   ]
  },
  {
   "cell_type": "code",
   "execution_count": 2,
   "id": "12f25a1d-9c08-412d-944b-c5e2c4c52424",
   "metadata": {},
   "outputs": [],
   "source": [
    "df = pd.DataFrame({\n",
    "    \"price\": [199.9, 228, 235, 285, 239, 293, 285, 365, 295, 290, 385, 505, 425, 415],\n",
    "    \"sqft\": [1065, 1254, 1300, 1577, 1600, 1750, 1800, 1870, 1935, 1948, 2254, 2600, 2800, 3000],\n",
    "    \"bedrms\": [3, 3, 3, 4, 3, 4, 4, 4, 4, 4, 4, 3, 4, 4],\n",
    "    \"baths\": [1.75, 2, 2, 2.5, 2, 2, 2.75, 2, 2.5, 2, 3, 2.5, 3, 3]\n",
    "})"
   ]
  },
  {
   "cell_type": "code",
   "execution_count": 3,
   "id": "871b46fe-6a1f-443f-8b0c-cff452fdaa8d",
   "metadata": {},
   "outputs": [
    {
     "data": {
      "text/html": [
       "<div>\n",
       "<style scoped>\n",
       "    .dataframe tbody tr th:only-of-type {\n",
       "        vertical-align: middle;\n",
       "    }\n",
       "\n",
       "    .dataframe tbody tr th {\n",
       "        vertical-align: top;\n",
       "    }\n",
       "\n",
       "    .dataframe thead th {\n",
       "        text-align: right;\n",
       "    }\n",
       "</style>\n",
       "<table border=\"1\" class=\"dataframe\">\n",
       "  <thead>\n",
       "    <tr style=\"text-align: right;\">\n",
       "      <th></th>\n",
       "      <th>price</th>\n",
       "      <th>sqft</th>\n",
       "      <th>bedrms</th>\n",
       "      <th>baths</th>\n",
       "    </tr>\n",
       "  </thead>\n",
       "  <tbody>\n",
       "    <tr>\n",
       "      <th>0</th>\n",
       "      <td>199.9</td>\n",
       "      <td>1065</td>\n",
       "      <td>3</td>\n",
       "      <td>1.75</td>\n",
       "    </tr>\n",
       "    <tr>\n",
       "      <th>1</th>\n",
       "      <td>228.0</td>\n",
       "      <td>1254</td>\n",
       "      <td>3</td>\n",
       "      <td>2.00</td>\n",
       "    </tr>\n",
       "    <tr>\n",
       "      <th>2</th>\n",
       "      <td>235.0</td>\n",
       "      <td>1300</td>\n",
       "      <td>3</td>\n",
       "      <td>2.00</td>\n",
       "    </tr>\n",
       "    <tr>\n",
       "      <th>3</th>\n",
       "      <td>285.0</td>\n",
       "      <td>1577</td>\n",
       "      <td>4</td>\n",
       "      <td>2.50</td>\n",
       "    </tr>\n",
       "    <tr>\n",
       "      <th>4</th>\n",
       "      <td>239.0</td>\n",
       "      <td>1600</td>\n",
       "      <td>3</td>\n",
       "      <td>2.00</td>\n",
       "    </tr>\n",
       "    <tr>\n",
       "      <th>5</th>\n",
       "      <td>293.0</td>\n",
       "      <td>1750</td>\n",
       "      <td>4</td>\n",
       "      <td>2.00</td>\n",
       "    </tr>\n",
       "    <tr>\n",
       "      <th>6</th>\n",
       "      <td>285.0</td>\n",
       "      <td>1800</td>\n",
       "      <td>4</td>\n",
       "      <td>2.75</td>\n",
       "    </tr>\n",
       "    <tr>\n",
       "      <th>7</th>\n",
       "      <td>365.0</td>\n",
       "      <td>1870</td>\n",
       "      <td>4</td>\n",
       "      <td>2.00</td>\n",
       "    </tr>\n",
       "    <tr>\n",
       "      <th>8</th>\n",
       "      <td>295.0</td>\n",
       "      <td>1935</td>\n",
       "      <td>4</td>\n",
       "      <td>2.50</td>\n",
       "    </tr>\n",
       "    <tr>\n",
       "      <th>9</th>\n",
       "      <td>290.0</td>\n",
       "      <td>1948</td>\n",
       "      <td>4</td>\n",
       "      <td>2.00</td>\n",
       "    </tr>\n",
       "    <tr>\n",
       "      <th>10</th>\n",
       "      <td>385.0</td>\n",
       "      <td>2254</td>\n",
       "      <td>4</td>\n",
       "      <td>3.00</td>\n",
       "    </tr>\n",
       "    <tr>\n",
       "      <th>11</th>\n",
       "      <td>505.0</td>\n",
       "      <td>2600</td>\n",
       "      <td>3</td>\n",
       "      <td>2.50</td>\n",
       "    </tr>\n",
       "    <tr>\n",
       "      <th>12</th>\n",
       "      <td>425.0</td>\n",
       "      <td>2800</td>\n",
       "      <td>4</td>\n",
       "      <td>3.00</td>\n",
       "    </tr>\n",
       "    <tr>\n",
       "      <th>13</th>\n",
       "      <td>415.0</td>\n",
       "      <td>3000</td>\n",
       "      <td>4</td>\n",
       "      <td>3.00</td>\n",
       "    </tr>\n",
       "  </tbody>\n",
       "</table>\n",
       "</div>"
      ],
      "text/plain": [
       "    price  sqft  bedrms  baths\n",
       "0   199.9  1065       3   1.75\n",
       "1   228.0  1254       3   2.00\n",
       "2   235.0  1300       3   2.00\n",
       "3   285.0  1577       4   2.50\n",
       "4   239.0  1600       3   2.00\n",
       "5   293.0  1750       4   2.00\n",
       "6   285.0  1800       4   2.75\n",
       "7   365.0  1870       4   2.00\n",
       "8   295.0  1935       4   2.50\n",
       "9   290.0  1948       4   2.00\n",
       "10  385.0  2254       4   3.00\n",
       "11  505.0  2600       3   2.50\n",
       "12  425.0  2800       4   3.00\n",
       "13  415.0  3000       4   3.00"
      ]
     },
     "execution_count": 3,
     "metadata": {},
     "output_type": "execute_result"
    }
   ],
   "source": [
    "df"
   ]
  },
  {
   "cell_type": "code",
   "execution_count": 4,
   "id": "53481060-ec22-47fb-a8c0-4d8464d883ee",
   "metadata": {},
   "outputs": [],
   "source": [
    "regression = smf.ols(\"price ~ sqft + bedrms + baths\", data = df).fit()"
   ]
  },
  {
   "cell_type": "code",
   "execution_count": 5,
   "id": "21441159-fdc5-4fca-a637-e5d568100269",
   "metadata": {},
   "outputs": [
    {
     "name": "stdout",
     "output_type": "stream",
     "text": [
      "                            OLS Regression Results                            \n",
      "==============================================================================\n",
      "Dep. Variable:                  price   R-squared:                       0.836\n",
      "Model:                            OLS   Adj. R-squared:                  0.787\n",
      "Method:                 Least Squares   F-statistic:                     16.99\n",
      "Date:                Wed, 14 Jun 2023   Prob (F-statistic):           0.000299\n",
      "Time:                        11:57:17   Log-Likelihood:                -69.454\n",
      "No. Observations:                  14   AIC:                             146.9\n",
      "Df Residuals:                      10   BIC:                             149.5\n",
      "Df Model:                           3                                         \n",
      "Covariance Type:            nonrobust                                         \n",
      "==============================================================================\n",
      "                 coef    std err          t      P>|t|      [0.025      0.975]\n",
      "------------------------------------------------------------------------------\n",
      "Intercept    129.0616     88.303      1.462      0.175     -67.690     325.814\n",
      "sqft           0.1548      0.032      4.847      0.001       0.084       0.226\n",
      "bedrms       -21.5875     27.029     -0.799      0.443     -81.813      38.638\n",
      "baths        -12.1928     43.250     -0.282      0.784    -108.560      84.174\n",
      "==============================================================================\n",
      "Omnibus:                        0.686   Durbin-Watson:                   1.970\n",
      "Prob(Omnibus):                  0.710   Jarque-Bera (JB):                0.532\n",
      "Skew:                           0.417   Prob(JB):                        0.766\n",
      "Kurtosis:                       2.534   Cond. No.                     1.67e+04\n",
      "==============================================================================\n",
      "\n",
      "Notes:\n",
      "[1] Standard Errors assume that the covariance matrix of the errors is correctly specified.\n",
      "[2] The condition number is large, 1.67e+04. This might indicate that there are\n",
      "strong multicollinearity or other numerical problems.\n"
     ]
    },
    {
     "name": "stderr",
     "output_type": "stream",
     "text": [
      "D:\\Software\\Python\\lib\\site-packages\\scipy\\stats\\_stats_py.py:1736: UserWarning: kurtosistest only valid for n>=20 ... continuing anyway, n=14\n",
      "  warnings.warn(\"kurtosistest only valid for n>=20 ... continuing \"\n"
     ]
    }
   ],
   "source": [
    "print(regression.summary())"
   ]
  },
  {
   "cell_type": "markdown",
   "id": "778cfd84-6edf-4993-bc97-b2b1f1789fd5",
   "metadata": {},
   "source": [
    "Phương trình hồi qui tuyến tính khi đó có dạng\n",
    "\n",
    "$$\n",
    "PRICE = 129.0616 + (0.1548\\times SQFT) - (21.5875\\times BEDRMS) - (12.1928\\times BATHS)\n",
    "$$\n",
    "\n",
    "với\n",
    "\n",
    "- $SQFT$: diện tích nhà\n",
    "- $BEDRMS$: số lượng phòng ngủ\n",
    "- $BATHS$: số lượng phòng tắm"
   ]
  },
  {
   "cell_type": "markdown",
   "id": "7cdc5ee9-07d8-477f-9f68-bff0789f4ba2",
   "metadata": {},
   "source": [
    "## Ý nghĩa các hệ số hồi qui?"
   ]
  },
  {
   "cell_type": "markdown",
   "id": "a1e1ce13-057b-4ddd-9b86-112fdbd99e9b",
   "metadata": {},
   "source": [
    "Xét hàm hồi quy \n",
    "\n",
    "$$\n",
    "PRICE = 129.0616 + (0.1548\\times SQFT) - (21.5875\\times BEDRMS) - (12.1928\\times BATHS)\n",
    "$$\n",
    "\n",
    "với $\\beta_0 = 129.0616, \\beta_1 = 0.1548, \\beta_2 = -21.5875, \\beta_3 = -12.1928$. Ý nghĩa của các hệ số hồi qui lần lượt như sau:\n",
    "\n",
    "- $\\beta_0 = 129.0616$: trong điều kiện các yếu tố khác không đổi, khi căn nhà có diện tích là $0$ (sqrf), $0$ phòng ngủ và $0$ nhà tắm thì giá của căn nhà là $129.0616$ (nghìn USD)\n",
    "- $\\beta_1 = 0.1548$: trong điều kiện các yếu tố khác không đổi, khi tăng (giảm) diện tích căn nhà lên $1$ sqrf thì giá căn nhà sẽ tăng (giảm) thêm $0.1548$ (nghìn USD)\n",
    "- $\\beta_2 = -21.5875$: trong điều kiện các yếu tố khác không đổi, khi tăng (giảm) số lượng phòng ngủ thêm $1$ phòng thì giá căn nhà sẽ giảm (tăng) thêm $21.5875$ (nghìn USD)\n",
    "- $\\beta_3 = -12.1928$: trong điều kiện các yếu tố khác không đổi, khi tăng (giảm) số lượng phòng tắm thêm $1$ phòng thì giá căn nhà sẽ giảm (tăng) thêm $12.1928$ (nghìn USD)"
   ]
  },
  {
   "cell_type": "markdown",
   "id": "55d1a167-a5e2-4901-9f78-facd0aee49dd",
   "metadata": {},
   "source": [
    "# Câu 2"
   ]
  },
  {
   "cell_type": "markdown",
   "id": "40bbb395-32c8-420e-88bf-f7a4f5556ccc",
   "metadata": {},
   "source": [
    "## Tính ước lượng điểm giá $PRICE$ trung bình khi $SQFT$ tăng thêm $300$ và $BEDRMS$ tăng thêm $1$"
   ]
  },
  {
   "cell_type": "markdown",
   "id": "2fe1ee3f-e23a-4915-905e-92fc5925a20c",
   "metadata": {},
   "source": [
    "Khi đó công thức hồi qui có dạng\n",
    "\n",
    "$$\n",
    "PRICE_{new} = 129.0616 + [0.1548\\times (SQFT + 300)] - [21.5875\\times (BEDRMS + 1)] - (12.1928\\times BATHS)\n",
    "$$"
   ]
  },
  {
   "cell_type": "code",
   "execution_count": 6,
   "id": "304d4fe9-ec2e-4c7a-bbc8-1c779c9a26ab",
   "metadata": {},
   "outputs": [],
   "source": [
    "df[\"sqft_new\"] = df[\"sqft\"] + 300\n",
    "df[\"bedrms_new\"] = df[\"bedrms\"] + 1"
   ]
  },
  {
   "cell_type": "code",
   "execution_count": 7,
   "id": "220eea33-51e8-417e-82a9-a38755a7bb7d",
   "metadata": {},
   "outputs": [],
   "source": [
    "df[\"price_new\"] = 129.0616 + 0.1548*df[\"sqft_new\"] - 21.5875 * df[\"bedrms_new\"] - 12.1928 * df[\"baths\"]"
   ]
  },
  {
   "cell_type": "code",
   "execution_count": 8,
   "id": "0644a45b-08d5-408f-9c6c-66a88a25281f",
   "metadata": {},
   "outputs": [
    {
     "data": {
      "text/html": [
       "<div>\n",
       "<style scoped>\n",
       "    .dataframe tbody tr th:only-of-type {\n",
       "        vertical-align: middle;\n",
       "    }\n",
       "\n",
       "    .dataframe tbody tr th {\n",
       "        vertical-align: top;\n",
       "    }\n",
       "\n",
       "    .dataframe thead th {\n",
       "        text-align: right;\n",
       "    }\n",
       "</style>\n",
       "<table border=\"1\" class=\"dataframe\">\n",
       "  <thead>\n",
       "    <tr style=\"text-align: right;\">\n",
       "      <th></th>\n",
       "      <th>price</th>\n",
       "      <th>sqft</th>\n",
       "      <th>bedrms</th>\n",
       "      <th>baths</th>\n",
       "      <th>sqft_new</th>\n",
       "      <th>bedrms_new</th>\n",
       "      <th>price_new</th>\n",
       "    </tr>\n",
       "  </thead>\n",
       "  <tbody>\n",
       "    <tr>\n",
       "      <th>0</th>\n",
       "      <td>199.9</td>\n",
       "      <td>1065</td>\n",
       "      <td>3</td>\n",
       "      <td>1.75</td>\n",
       "      <td>1365</td>\n",
       "      <td>4</td>\n",
       "      <td>232.6762</td>\n",
       "    </tr>\n",
       "    <tr>\n",
       "      <th>1</th>\n",
       "      <td>228.0</td>\n",
       "      <td>1254</td>\n",
       "      <td>3</td>\n",
       "      <td>2.00</td>\n",
       "      <td>1554</td>\n",
       "      <td>4</td>\n",
       "      <td>258.8852</td>\n",
       "    </tr>\n",
       "    <tr>\n",
       "      <th>2</th>\n",
       "      <td>235.0</td>\n",
       "      <td>1300</td>\n",
       "      <td>3</td>\n",
       "      <td>2.00</td>\n",
       "      <td>1600</td>\n",
       "      <td>4</td>\n",
       "      <td>266.0060</td>\n",
       "    </tr>\n",
       "    <tr>\n",
       "      <th>3</th>\n",
       "      <td>285.0</td>\n",
       "      <td>1577</td>\n",
       "      <td>4</td>\n",
       "      <td>2.50</td>\n",
       "      <td>1877</td>\n",
       "      <td>5</td>\n",
       "      <td>281.2017</td>\n",
       "    </tr>\n",
       "    <tr>\n",
       "      <th>4</th>\n",
       "      <td>239.0</td>\n",
       "      <td>1600</td>\n",
       "      <td>3</td>\n",
       "      <td>2.00</td>\n",
       "      <td>1900</td>\n",
       "      <td>4</td>\n",
       "      <td>312.4460</td>\n",
       "    </tr>\n",
       "    <tr>\n",
       "      <th>5</th>\n",
       "      <td>293.0</td>\n",
       "      <td>1750</td>\n",
       "      <td>4</td>\n",
       "      <td>2.00</td>\n",
       "      <td>2050</td>\n",
       "      <td>5</td>\n",
       "      <td>314.0785</td>\n",
       "    </tr>\n",
       "    <tr>\n",
       "      <th>6</th>\n",
       "      <td>285.0</td>\n",
       "      <td>1800</td>\n",
       "      <td>4</td>\n",
       "      <td>2.75</td>\n",
       "      <td>2100</td>\n",
       "      <td>5</td>\n",
       "      <td>312.6739</td>\n",
       "    </tr>\n",
       "    <tr>\n",
       "      <th>7</th>\n",
       "      <td>365.0</td>\n",
       "      <td>1870</td>\n",
       "      <td>4</td>\n",
       "      <td>2.00</td>\n",
       "      <td>2170</td>\n",
       "      <td>5</td>\n",
       "      <td>332.6545</td>\n",
       "    </tr>\n",
       "    <tr>\n",
       "      <th>8</th>\n",
       "      <td>295.0</td>\n",
       "      <td>1935</td>\n",
       "      <td>4</td>\n",
       "      <td>2.50</td>\n",
       "      <td>2235</td>\n",
       "      <td>5</td>\n",
       "      <td>336.6201</td>\n",
       "    </tr>\n",
       "    <tr>\n",
       "      <th>9</th>\n",
       "      <td>290.0</td>\n",
       "      <td>1948</td>\n",
       "      <td>4</td>\n",
       "      <td>2.00</td>\n",
       "      <td>2248</td>\n",
       "      <td>5</td>\n",
       "      <td>344.7289</td>\n",
       "    </tr>\n",
       "    <tr>\n",
       "      <th>10</th>\n",
       "      <td>385.0</td>\n",
       "      <td>2254</td>\n",
       "      <td>4</td>\n",
       "      <td>3.00</td>\n",
       "      <td>2554</td>\n",
       "      <td>5</td>\n",
       "      <td>379.9049</td>\n",
       "    </tr>\n",
       "    <tr>\n",
       "      <th>11</th>\n",
       "      <td>505.0</td>\n",
       "      <td>2600</td>\n",
       "      <td>3</td>\n",
       "      <td>2.50</td>\n",
       "      <td>2900</td>\n",
       "      <td>4</td>\n",
       "      <td>461.1496</td>\n",
       "    </tr>\n",
       "    <tr>\n",
       "      <th>12</th>\n",
       "      <td>425.0</td>\n",
       "      <td>2800</td>\n",
       "      <td>4</td>\n",
       "      <td>3.00</td>\n",
       "      <td>3100</td>\n",
       "      <td>5</td>\n",
       "      <td>464.4257</td>\n",
       "    </tr>\n",
       "    <tr>\n",
       "      <th>13</th>\n",
       "      <td>415.0</td>\n",
       "      <td>3000</td>\n",
       "      <td>4</td>\n",
       "      <td>3.00</td>\n",
       "      <td>3300</td>\n",
       "      <td>5</td>\n",
       "      <td>495.3857</td>\n",
       "    </tr>\n",
       "  </tbody>\n",
       "</table>\n",
       "</div>"
      ],
      "text/plain": [
       "    price  sqft  bedrms  baths  sqft_new  bedrms_new  price_new\n",
       "0   199.9  1065       3   1.75      1365           4   232.6762\n",
       "1   228.0  1254       3   2.00      1554           4   258.8852\n",
       "2   235.0  1300       3   2.00      1600           4   266.0060\n",
       "3   285.0  1577       4   2.50      1877           5   281.2017\n",
       "4   239.0  1600       3   2.00      1900           4   312.4460\n",
       "5   293.0  1750       4   2.00      2050           5   314.0785\n",
       "6   285.0  1800       4   2.75      2100           5   312.6739\n",
       "7   365.0  1870       4   2.00      2170           5   332.6545\n",
       "8   295.0  1935       4   2.50      2235           5   336.6201\n",
       "9   290.0  1948       4   2.00      2248           5   344.7289\n",
       "10  385.0  2254       4   3.00      2554           5   379.9049\n",
       "11  505.0  2600       3   2.50      2900           4   461.1496\n",
       "12  425.0  2800       4   3.00      3100           5   464.4257\n",
       "13  415.0  3000       4   3.00      3300           5   495.3857"
      ]
     },
     "execution_count": 8,
     "metadata": {},
     "output_type": "execute_result"
    }
   ],
   "source": [
    "df"
   ]
  },
  {
   "cell_type": "code",
   "execution_count": 9,
   "id": "c89bc148-14d0-4f43-a272-5ba995e03590",
   "metadata": {},
   "outputs": [
    {
     "name": "stdout",
     "output_type": "stream",
     "text": [
      "342.3455\n"
     ]
    }
   ],
   "source": [
    "mean_price_new = df[\"price_new\"].mean()\n",
    "print(f\"{mean_price_new:.4f}\")"
   ]
  },
  {
   "cell_type": "markdown",
   "id": "4f4dbae2-1702-49fd-abec-b975b037bebf",
   "metadata": {},
   "source": [
    "Vậy, khi $SQFT$ tăng thêm $300$ (sqft) và $BEDRMS$ tăng thêm $1$ (phòng) thì ước lượng điểm giá $PRICE$ trung bình $\\mu_{\\hat{PRICE_{new}}} = 342.3455$ (nghìn đô)."
   ]
  },
  {
   "cell_type": "markdown",
   "id": "31733af4-fdf6-4020-a24e-1008f6413830",
   "metadata": {
    "editable": true,
    "slideshow": {
     "slide_type": ""
    },
    "tags": []
   },
   "source": [
    "# Câu 3"
   ]
  },
  {
   "cell_type": "markdown",
   "id": "ad82c187-fbe5-4b9b-9352-2e72759f1eb6",
   "metadata": {},
   "source": [
    "## Tính hệ số xác định và hệ số xác định điều chỉnh?"
   ]
  },
  {
   "cell_type": "markdown",
   "id": "f646f03a-3c59-417f-aee0-1f46185369ab",
   "metadata": {
    "editable": true,
    "slideshow": {
     "slide_type": ""
    },
    "tags": []
   },
   "source": [
    "Hệ số xác định $R^2$ và hệ số xác định điều chỉnh $R^2_{adj}$ được tính theo công thức như sau:\n",
    "\n",
    "$$\n",
    "\\displaystyle\n",
    "TSS = \\sum_{i = 1}^{n} (y_i - \\bar{y})^2\n",
    "$$\n",
    "$$\n",
    "\\displaystyle\n",
    "ESS = \\sum_{i = 1}^{n} (\\hat{y}_i - \\bar{y})^2\n",
    "$$\n",
    "$$\n",
    "\\displaystyle\n",
    "R^2 = \\frac{ESS}{TSS}\n",
    "$$\n",
    "$$\n",
    "\\displaystyle\n",
    "R^2_{adj} = 1 - (1 - R^2)\\frac{n - 1}{n - k - 1}\n",
    "$$\n",
    "\n",
    "với $k$ là số biến độc lập trong phương trình hồi quy tuyến tính."
   ]
  },
  {
   "cell_type": "code",
   "execution_count": 10,
   "id": "b29960e6-3158-4539-9916-ef8366dbe61c",
   "metadata": {},
   "outputs": [],
   "source": [
    "y_mean = df[\"price\"].mean()\n",
    "y_hat = (129.0616 + 0.1548*df[\"sqft\"] - 21.5875 * df[\"bedrms\"] - 12.1928 * df[\"baths\"]).to_numpy()\n",
    "y = df[\"price\"].to_numpy()"
   ]
  },
  {
   "cell_type": "code",
   "execution_count": 11,
   "id": "48569458-8026-4dd9-8c2a-a6a67964da7c",
   "metadata": {},
   "outputs": [
    {
     "data": {
      "text/plain": [
       "(317.49285714285713,\n",
       " array([207.8237, 234.0327, 241.1535, 256.3492, 287.5935, 289.226 ,\n",
       "        287.8214, 307.802 , 311.7676, 319.8764, 355.0524, 436.2971,\n",
       "        439.5732, 470.5332]),\n",
       " array([199.9, 228. , 235. , 285. , 239. , 293. , 285. , 365. , 295. ,\n",
       "        290. , 385. , 505. , 425. , 415. ]))"
      ]
     },
     "execution_count": 11,
     "metadata": {},
     "output_type": "execute_result"
    }
   ],
   "source": [
    "y_mean, y_hat, y"
   ]
  },
  {
   "cell_type": "code",
   "execution_count": 12,
   "id": "0daf418d-2605-4c98-9198-8a7379a2b90c",
   "metadata": {},
   "outputs": [],
   "source": [
    "n = df.shape[0]\n",
    "k = 3"
   ]
  },
  {
   "cell_type": "code",
   "execution_count": 13,
   "id": "8951c878-5ba6-499e-baf9-8deddbf03a48",
   "metadata": {},
   "outputs": [],
   "source": [
    "tss = np.sum((y - y_mean) ** 2)\n",
    "ess = np.sum((y_hat - y_mean) ** 2)\n",
    "r_squared = ess / tss\n",
    "r_squared_adj = 1 - (1 - r_squared) * ((n - 1) / (n - k - 1))"
   ]
  },
  {
   "cell_type": "code",
   "execution_count": 14,
   "id": "8ef7a17a-b386-4cf4-9157-1a25af8c6126",
   "metadata": {},
   "outputs": [
    {
     "name": "stdout",
     "output_type": "stream",
     "text": [
      "r_squared = 0.8360\n",
      "r_squared_adj = 0.7868\n"
     ]
    }
   ],
   "source": [
    "print(f\"r_squared = {r_squared:.4f}\")\n",
    "print(f\"r_squared_adj = {r_squared_adj:.4f}\")"
   ]
  },
  {
   "cell_type": "markdown",
   "id": "34f9bc58-16b9-49a0-b507-ab928a70edb3",
   "metadata": {},
   "source": [
    "## Giải thích ý nghĩa?"
   ]
  },
  {
   "cell_type": "markdown",
   "id": "130eb438-1cb3-4558-85c2-1d323c02d460",
   "metadata": {},
   "source": [
    "Hệ số xác định $R^2_{adj} = 0.7868$ thể hiện mô hình hồi qui có thể đưa ra giải thích cho khoảng $78,68\\%$ giá nhà $PRICE$ dựa trên các biến kích thước nhà $SQFT$, số phòng ngủ $BEDRMS$ và số phòng tắm $BATHS$."
   ]
  },
  {
   "cell_type": "markdown",
   "id": "8ce165cd-90f1-4ca9-8256-e3d96ba0651c",
   "metadata": {},
   "source": [
    "# Câu 4"
   ]
  },
  {
   "cell_type": "markdown",
   "id": "e6d33735-1709-4afa-ae63-76371f6029e5",
   "metadata": {},
   "source": [
    "Với mức ý nghĩa $\\alpha$, khoảng tin cậy $CI_{\\alpha}^{\\beta_i}$ cho tham số $\\beta_i$ được tính bằng công thức:\n",
    "\n",
    "$$\n",
    "CI_{\\alpha}^{\\beta_i} = \\left[\\beta_i -  SE(\\beta_i)\\times t\\left(1 - \\frac{\\alpha}{2}, n - 2\\right), \\beta_i + SE(\\beta_i)\\times t\\left(1 - \\frac{\\alpha}{2}, n - 2\\right)\\right]\n",
    "$$\n",
    "\n",
    "với $\\alpha$ là mức ý nghĩa, $n$ là số lượng mẫu. $SE(\\beta_i)$ được sử dụng lại từ câu 1."
   ]
  },
  {
   "cell_type": "markdown",
   "id": "64a9b229-5db1-4f8e-88e6-157f3a344074",
   "metadata": {},
   "source": [
    "## Tìm khoảng tin cậy cho $\\beta_1$ với mức ý nghĩa $5\\%$"
   ]
  },
  {
   "cell_type": "code",
   "execution_count": 15,
   "id": "2c5b1b8c-c4ef-44b6-a60a-cf428cf00a7f",
   "metadata": {},
   "outputs": [],
   "source": [
    "alpha = 0.05"
   ]
  },
  {
   "cell_type": "markdown",
   "id": "711fddf5-ea22-43fd-b46b-3ea245539651",
   "metadata": {},
   "source": [
    "Với $\\beta_1 = 0.1548$, ta có $SE(\\beta_1) = 0.032$, $\\alpha = 0.05$, $n = 14$. Khi đó $CI_{\\alpha}^{\\beta_i}$ được tính như sau:\n"
   ]
  },
  {
   "cell_type": "code",
   "execution_count": 16,
   "id": "a6027223-623b-4ea1-b7ee-69f58e6bafd9",
   "metadata": {},
   "outputs": [],
   "source": [
    "p_value_beta_1 = stats.t.ppf(1 - alpha/2, df.shape[0] - 2)\n",
    "se_beta_1 = 0.032\n",
    "beta_1 = 0.1548"
   ]
  },
  {
   "cell_type": "code",
   "execution_count": 17,
   "id": "c9937f8e-574a-48a8-855e-cc5800295e36",
   "metadata": {},
   "outputs": [
    {
     "data": {
      "text/plain": [
       "2.1788128296634177"
      ]
     },
     "execution_count": 17,
     "metadata": {},
     "output_type": "execute_result"
    }
   ],
   "source": [
    "p_value_beta_1"
   ]
  },
  {
   "cell_type": "code",
   "execution_count": 18,
   "id": "11565adb-256a-4550-b5bb-3ec67b09199c",
   "metadata": {},
   "outputs": [
    {
     "name": "stdout",
     "output_type": "stream",
     "text": [
      "ci_beta_1 = [0.0851, 0.2245]\n"
     ]
    }
   ],
   "source": [
    "print(f\"ci_beta_1 = [{(beta_1 - se_beta_1 * p_value_beta_1):.4f}, {(beta_1 + se_beta_1 * p_value_beta_1):.4f}]\")"
   ]
  },
  {
   "cell_type": "markdown",
   "id": "98c6f2d3-368c-4591-8320-82882c7fc135",
   "metadata": {},
   "source": [
    "Vậy, khoảng tin cậy cho $\\beta_1$ với mức ý nghĩa $5\\%$ là $[0.0851, 0.2245]$"
   ]
  },
  {
   "cell_type": "markdown",
   "id": "1d81f18e-2cd1-4b03-8570-6b0ceb02d113",
   "metadata": {},
   "source": [
    "## Tìm khoảng tin cậy cho $\\beta_2$ với mức ý nghĩa $5\\%$"
   ]
  },
  {
   "cell_type": "markdown",
   "id": "918c676e-6436-4dc5-adfd-65e5603ff310",
   "metadata": {},
   "source": [
    "Với $\\beta_2 = -21.5875$, ta có $SE(\\beta_2) = 27.029$, $\\alpha = 0.05$, $n = 14$. Khi đó $CI_{\\alpha}^{\\beta_i}$ được tính như sau:\n"
   ]
  },
  {
   "cell_type": "code",
   "execution_count": 19,
   "id": "0a5afa15-047b-480d-a582-a606740dc3ed",
   "metadata": {},
   "outputs": [],
   "source": [
    "p_value_beta_2 = stats.t.ppf(1 - alpha/2, df.shape[0] - 2)\n",
    "se_beta_2 = 27.029\n",
    "beta_2 = -21.5875"
   ]
  },
  {
   "cell_type": "code",
   "execution_count": 20,
   "id": "bc6e1e87-bb8d-4f1f-8b8b-0012b08af66a",
   "metadata": {},
   "outputs": [
    {
     "data": {
      "text/plain": [
       "2.1788128296634177"
      ]
     },
     "execution_count": 20,
     "metadata": {},
     "output_type": "execute_result"
    }
   ],
   "source": [
    "p_value_beta_2"
   ]
  },
  {
   "cell_type": "code",
   "execution_count": 21,
   "id": "e42dec42-92f5-4ee2-b421-73982536550f",
   "metadata": {},
   "outputs": [
    {
     "name": "stdout",
     "output_type": "stream",
     "text": [
      "ci_beta_2 = [-80.4786, 37.3036]\n"
     ]
    }
   ],
   "source": [
    "print(f\"ci_beta_2 = [{(beta_2 - se_beta_2 * p_value_beta_2):.4f}, {(beta_2 + se_beta_2 * p_value_beta_2):.4f}]\")"
   ]
  },
  {
   "cell_type": "markdown",
   "id": "2f6877ef-860d-4908-ae82-4b708e801c74",
   "metadata": {},
   "source": [
    "Vậy, khoảng tin cậy cho $\\beta_2$ với mức ý nghĩa $5\\%$ là $[-80.4786, 37.3036]$"
   ]
  },
  {
   "cell_type": "markdown",
   "id": "7c3d9823-061b-4cef-86ac-194ad06ac0d9",
   "metadata": {},
   "source": [
    "## Tìm khoảng tin cậy cho $\\beta_3$ với mức ý nghĩa $5\\%$"
   ]
  },
  {
   "cell_type": "markdown",
   "id": "32dc315a-89d8-4c28-aaa3-8d52a34e052d",
   "metadata": {},
   "source": [
    "Với $\\beta_3 = -12.1928$, ta có $SE(\\beta_3) = 43.250$, $\\alpha = 0.05$, $n = 14$. Khi đó $CI_{\\alpha}^{\\beta_i}$ được tính như sau:\n"
   ]
  },
  {
   "cell_type": "code",
   "execution_count": 22,
   "id": "0e770450-3eff-4599-8af0-4457e669872b",
   "metadata": {},
   "outputs": [],
   "source": [
    "p_value_beta_3 = stats.t.ppf(1 - alpha/2, df.shape[0] - 2)\n",
    "se_beta_3 = 43.250\n",
    "beta_3 = -12.1928"
   ]
  },
  {
   "cell_type": "code",
   "execution_count": 23,
   "id": "333a4555-4ddf-45ef-b485-0438d7f733e8",
   "metadata": {},
   "outputs": [
    {
     "data": {
      "text/plain": [
       "2.1788128296634177"
      ]
     },
     "execution_count": 23,
     "metadata": {},
     "output_type": "execute_result"
    }
   ],
   "source": [
    "p_value_beta_3"
   ]
  },
  {
   "cell_type": "code",
   "execution_count": 24,
   "id": "dbe03c79-8093-46c4-adc7-8358cb16f2cc",
   "metadata": {},
   "outputs": [
    {
     "name": "stdout",
     "output_type": "stream",
     "text": [
      "ci_beta_1 = [-106.4265, 82.0409]\n"
     ]
    }
   ],
   "source": [
    "print(f\"ci_beta_1 = [{(beta_3 - se_beta_3 * p_value_beta_3):.4f}, {(beta_3 + se_beta_3 * p_value_beta_3):.4f}]\")"
   ]
  },
  {
   "cell_type": "markdown",
   "id": "f1046bea-a062-4775-91a7-82e91f54fc88",
   "metadata": {},
   "source": [
    "Vậy, khoảng tin cậy cho $\\beta_3$ với mức ý nghĩa $5\\%$ là $[-106.4265, 82.0409]$"
   ]
  },
  {
   "cell_type": "markdown",
   "id": "d0d59228-ad22-4004-a3cb-0c127093f6d9",
   "metadata": {},
   "source": [
    "# Câu 5"
   ]
  },
  {
   "cell_type": "markdown",
   "id": "82ba3e3e-1fc0-438c-b5cb-bb92b175ef1b",
   "metadata": {},
   "source": [
    "## Phải chăng cả ba biến đều không ảnh hưởng đến giá trị $PRICE$?"
   ]
  },
  {
   "cell_type": "markdown",
   "id": "40c970e8-be59-45bd-8b5e-88c3bf937d42",
   "metadata": {},
   "source": [
    "Sử dụng lại kết quả từ câu 1:"
   ]
  },
  {
   "cell_type": "code",
   "execution_count": 25,
   "id": "16ca760a-00c5-4ed0-a3d1-bf5f6f29b0aa",
   "metadata": {},
   "outputs": [
    {
     "name": "stdout",
     "output_type": "stream",
     "text": [
      "                            OLS Regression Results                            \n",
      "==============================================================================\n",
      "Dep. Variable:                  price   R-squared:                       0.836\n",
      "Model:                            OLS   Adj. R-squared:                  0.787\n",
      "Method:                 Least Squares   F-statistic:                     16.99\n",
      "Date:                Wed, 14 Jun 2023   Prob (F-statistic):           0.000299\n",
      "Time:                        11:57:18   Log-Likelihood:                -69.454\n",
      "No. Observations:                  14   AIC:                             146.9\n",
      "Df Residuals:                      10   BIC:                             149.5\n",
      "Df Model:                           3                                         \n",
      "Covariance Type:            nonrobust                                         \n",
      "==============================================================================\n",
      "                 coef    std err          t      P>|t|      [0.025      0.975]\n",
      "------------------------------------------------------------------------------\n",
      "Intercept    129.0616     88.303      1.462      0.175     -67.690     325.814\n",
      "sqft           0.1548      0.032      4.847      0.001       0.084       0.226\n",
      "bedrms       -21.5875     27.029     -0.799      0.443     -81.813      38.638\n",
      "baths        -12.1928     43.250     -0.282      0.784    -108.560      84.174\n",
      "==============================================================================\n",
      "Omnibus:                        0.686   Durbin-Watson:                   1.970\n",
      "Prob(Omnibus):                  0.710   Jarque-Bera (JB):                0.532\n",
      "Skew:                           0.417   Prob(JB):                        0.766\n",
      "Kurtosis:                       2.534   Cond. No.                     1.67e+04\n",
      "==============================================================================\n",
      "\n",
      "Notes:\n",
      "[1] Standard Errors assume that the covariance matrix of the errors is correctly specified.\n",
      "[2] The condition number is large, 1.67e+04. This might indicate that there are\n",
      "strong multicollinearity or other numerical problems.\n"
     ]
    },
    {
     "name": "stderr",
     "output_type": "stream",
     "text": [
      "D:\\Software\\Python\\lib\\site-packages\\scipy\\stats\\_stats_py.py:1736: UserWarning: kurtosistest only valid for n>=20 ... continuing anyway, n=14\n",
      "  warnings.warn(\"kurtosistest only valid for n>=20 ... continuing \"\n"
     ]
    }
   ],
   "source": [
    "print(regression.summary())"
   ]
  },
  {
   "cell_type": "markdown",
   "id": "c776134b-84d9-4767-b4ae-3385b8425edb",
   "metadata": {},
   "source": [
    "Ta có thể nhận thấy các giá trị $P > |t|$ của các biến $BEDRMS$ và $BATHS$ lần lượt là $0.443$ và $0.784$. Đây là dấu hiệu cho thấy các biến $BEDRMS$ và $BATHS$ không có ý nghĩa về mặt thống kê và có thể loại bỏ.\n",
    "\n",
    "Vậy, chỉ có các biến $BEDRMS$ và $BATHS$ không ảnh hưởng đến giá nhà $PRICE$."
   ]
  },
  {
   "cell_type": "markdown",
   "id": "b11d829c-0b22-46b1-a260-e2600940adaa",
   "metadata": {},
   "source": [
    "# Câu 6"
   ]
  },
  {
   "cell_type": "markdown",
   "id": "bc0b35d4-99d0-4bbe-b9cc-a549b58cafdf",
   "metadata": {},
   "source": [
    "## Dự báo giá trị trung bình và giá trị cá biệt về giá nhà trung bình khi $SQFT = 2500, BEDRMS = 3$ và $BATHS = 2$?"
   ]
  },
  {
   "cell_type": "code",
   "execution_count": null,
   "id": "6382ad8c-b1f9-4ba6-a720-d3381e1e23d5",
   "metadata": {},
   "outputs": [],
   "source": []
  }
 ],
 "metadata": {
  "kernelspec": {
   "display_name": "Python 3 (ipykernel)",
   "language": "python",
   "name": "python3"
  },
  "language_info": {
   "codemirror_mode": {
    "name": "ipython",
    "version": 3
   },
   "file_extension": ".py",
   "mimetype": "text/x-python",
   "name": "python",
   "nbconvert_exporter": "python",
   "pygments_lexer": "ipython3",
   "version": "3.9.7"
  }
 },
 "nbformat": 4,
 "nbformat_minor": 5
}
