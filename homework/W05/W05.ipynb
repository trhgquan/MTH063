{
 "cells": [
  {
   "cell_type": "markdown",
   "id": "49f3d2ed-960b-4df8-bcad-19192ef5f521",
   "metadata": {},
   "source": [
    "# Bài tập tuần 5"
   ]
  },
  {
   "cell_type": "markdown",
   "id": "d53c036f-6dd5-4287-93ae-224ff42304f4",
   "metadata": {},
   "source": [
    "## Thông tin học viên"
   ]
  },
  {
   "cell_type": "markdown",
   "id": "ea1dcec1-6ab3-4149-aa3a-6f07a24a4766",
   "metadata": {},
   "source": [
    "| Họ và tên |MSHV |\n",
    "|-----------|----------------|\n",
    "|Trần Hoàng Quân|19120338|"
   ]
  },
  {
   "cell_type": "markdown",
   "id": "f620f6dc-d784-4b8b-a825-255899de3acc",
   "metadata": {},
   "source": [
    "## Import các thư viện cần thiết"
   ]
  },
  {
   "cell_type": "code",
   "execution_count": 1,
   "id": "0aff4c0b-876f-4ff4-a418-bb120f66e3b5",
   "metadata": {},
   "outputs": [],
   "source": [
    "import numpy as np\n",
    "import scipy.stats as stats\n",
    "import pandas as pd\n",
    "import statsmodels.api as sm\n",
    "import statsmodels.formula.api as smf\n",
    "import matplotlib.pyplot as plt\n",
    "from patsy import dmatrices"
   ]
  },
  {
   "cell_type": "markdown",
   "id": "ae694a23-746b-41bf-a493-706ef6d42639",
   "metadata": {},
   "source": [
    "# Đề bài\n",
    "Có số liệu thống kê về *lãi suất ngân hàng* ($X$, *% năm*) và *tổng vốn đầu tư* ($Y$, *tỉ đồng*) trên địa bàn tỉnh A qua 10 năm liên tiếp như sau:\n",
    "\n",
    "|Năm|1|2|3|4|5|6|7|8|9|10|\n",
    "|---|-|-|-|-|-|-|-|-|-|--|\n",
    "|$X$|7.0|6.5|6.5|6.0|6.0|6.0|5.5|5.5|5.0|4.5|\n",
    "|$Y$|29|32|31|34|32|35|40|43|48|50|\n",
    "\n",
    "1. Hãy lập mô hình hồi quy tuyến tính mô tả quan hệ giữa tổng vốn đầu tư và lãi suất ngân hàng (mô hình hồi quy đơn)? Nêu ý nghĩa của các hệ số hồi quy ước lượng được? Đánh giá mức độ phù hợp của mô hình?\n",
    "2. Kiểm định giả thuyết \"Hệ số hồi quy của $X$ trong hàm hồi quy tổng thể bằng $0$ với mức ý nghĩa $2\\%$\" và nêu ý nghĩa của kết quả?\n",
    "3. Dự báo tổng vốn đầu tư trung bình khi lãi suất là $4.8\\%$/năm với độ tin cậy $98\\%$?"
   ]
  },
  {
   "cell_type": "markdown",
   "id": "edcbb170-9ec6-4469-8e66-840e4e502e76",
   "metadata": {},
   "source": [
    "# Câu 1"
   ]
  },
  {
   "cell_type": "markdown",
   "id": "8c200229-08e1-417d-a8b6-42034c06e7b7",
   "metadata": {},
   "source": [
    "## Lập mô hình hồi quy tuyến tính mô tả quan hệ giữa tổng vốn đầu tư và lãi suất ngân hàng (mô hình hồi quy đơn)? "
   ]
  },
  {
   "cell_type": "code",
   "execution_count": 2,
   "id": "09a6d659-3c5e-406d-80c4-2aa27b495353",
   "metadata": {},
   "outputs": [],
   "source": [
    "df = pd.DataFrame({\n",
    "    \"X\": [7.0, 6.5, 6.5, 6.0, 6.0, 6.0, 5.5, 5.5, 5.0, 4.5],\n",
    "    \"Y\": [29, 32, 31, 34, 32, 35, 40, 43, 48, 50]\n",
    "})"
   ]
  },
  {
   "cell_type": "markdown",
   "id": "8e559dee-6b06-4eba-a431-b3c18723c464",
   "metadata": {},
   "source": [
    "Phương trình hồi quy tuyến tính đơn có dạng\n",
    "\n",
    "$$\n",
    "y = \\beta_0 + \\beta_1x\n",
    "$$"
   ]
  },
  {
   "cell_type": "markdown",
   "id": "ae455389-43ca-41a0-ae51-d9fb3ee86e01",
   "metadata": {},
   "source": [
    "Theo công thức, ta có\n",
    "\n",
    "$$\n",
    "\\beta_1 = \\frac{\\bar{xy} - \\bar{x}\\bar{y}}{\\bar{x^2} - \\bar{x}^2} \n",
    "$$\n",
    "$$\n",
    "\\beta_0 = \\bar{y} - \\beta_1\\bar{x}\n",
    "$$"
   ]
  },
  {
   "cell_type": "code",
   "execution_count": 3,
   "id": "afee75af-d1db-48ff-8a31-8308e02c18b2",
   "metadata": {},
   "outputs": [],
   "source": [
    "mean_xy = np.mean(df[\"X\"] * df[\"Y\"])\n",
    "mean_x = np.mean(df[\"X\"])\n",
    "mean_y = np.mean(df[\"Y\"])\n",
    "mean_x_squared = np.mean(df[\"X\"] ** 2)"
   ]
  },
  {
   "cell_type": "code",
   "execution_count": 4,
   "id": "099d34b5-3b48-4069-ba13-90988c010310",
   "metadata": {},
   "outputs": [],
   "source": [
    "beta_1 = (mean_xy - mean_x * mean_y) / (mean_x_squared - mean_x ** 2)\n",
    "beta_0 = mean_y - beta_1 * mean_x"
   ]
  },
  {
   "cell_type": "code",
   "execution_count": 5,
   "id": "a45436ec-16b6-4c49-bbcf-a582e171c5dd",
   "metadata": {},
   "outputs": [
    {
     "name": "stdout",
     "output_type": "stream",
     "text": [
      "beta_0 = 93.1642, beta_1 = -9.5323\n"
     ]
    }
   ],
   "source": [
    "print(f\"beta_0 = {beta_0:.4f}, beta_1 = {beta_1:.4f}\")"
   ]
  },
  {
   "cell_type": "markdown",
   "id": "6f3450ce-b6cf-4247-8e8a-b9aaaae9a76f",
   "metadata": {},
   "source": [
    "Phương trình hồi quy có dạng\n",
    "$$\n",
    "y = 93.1642 - 9.5323x\n",
    "$$\n",
    "\n",
    "\n",
    "với \n",
    "\n",
    "- $x$ là lãi suất *(%/năm)*;\n",
    "- $y$ là tổng vốn đầu tư của tỉnh A trong năm đó *(tỉ đồng)*;\n",
    "- các hệ số hồi quy $\\beta_0 = 93.1642, \\beta_1 = -9.5323$. \n",
    "\n",
    "Phương trình hồi quy có thể được trực quan hóa bằng đồ thị như sau:"
   ]
  },
  {
   "cell_type": "code",
   "execution_count": 6,
   "id": "e150244a-a5ac-4224-8c26-9164bb1b698a",
   "metadata": {},
   "outputs": [],
   "source": [
    "predictions = [(beta_0 + beta_1 * x) for x in df[\"X\"]]"
   ]
  },
  {
   "cell_type": "code",
   "execution_count": 7,
   "id": "3d4d1514-df24-4840-8006-515fd422e531",
   "metadata": {},
   "outputs": [
    {
     "data": {
      "image/png": "[encoded data removed]",
      "text/plain": [
       "<Figure size 432x288 with 1 Axes>"
      ]
     },
     "metadata": {
      "needs_background": "light"
     },
     "output_type": "display_data"
    }
   ],
   "source": [
    "plt.scatter(x = df[\"X\"], y = df[\"Y\"])\n",
    "plt.plot(df[\"X\"], predictions, color = \"r\")\n",
    "plt.xlabel(\"X (Lãi suất)\")\n",
    "plt.ylabel(\"Y (Tổng vốn đầu tư)\")\n",
    "plt.show()"
   ]
  },
  {
   "cell_type": "markdown",
   "id": "4db89022-7cef-4a57-8105-f4936be6ced2",
   "metadata": {},
   "source": [
    "Kiểm tra bằng thư viện `statsmodels`:"
   ]
  },
  {
   "cell_type": "code",
   "execution_count": 8,
   "id": "a3fca235-65c4-4641-a657-faf9cc4148b7",
   "metadata": {},
   "outputs": [],
   "source": [
    "result = smf.ols(\"Y ~ X\", data = df).fit()"
   ]
  },
  {
   "cell_type": "code",
   "execution_count": 9,
   "id": "12f0672b-5234-4ab6-b31c-88f4f8cecc1d",
   "metadata": {},
   "outputs": [
    {
     "name": "stdout",
     "output_type": "stream",
     "text": [
      "                            OLS Regression Results                            \n",
      "==============================================================================\n",
      "Dep. Variable:                      Y   R-squared:                       0.920\n",
      "Model:                            OLS   Adj. R-squared:                  0.910\n",
      "Method:                 Least Squares   F-statistic:                     91.78\n",
      "Date:                Sun, 21 May 2023   Prob (F-statistic):           1.17e-05\n",
      "Time:                        20:08:07   Log-Likelihood:                -21.096\n",
      "No. Observations:                  10   AIC:                             46.19\n",
      "Df Residuals:                       8   BIC:                             46.80\n",
      "Df Model:                           1                                         \n",
      "Covariance Type:            nonrobust                                         \n",
      "==============================================================================\n",
      "                 coef    std err          t      P>|t|      [0.025      0.975]\n",
      "------------------------------------------------------------------------------\n",
      "Intercept     93.1642      5.863     15.889      0.000      79.643     106.685\n",
      "X             -9.5323      0.995     -9.580      0.000     -11.827      -7.238\n",
      "==============================================================================\n",
      "Omnibus:                        0.372   Durbin-Watson:                   0.930\n",
      "Prob(Omnibus):                  0.830   Jarque-Bera (JB):                0.366\n",
      "Skew:                          -0.341   Prob(JB):                        0.833\n",
      "Kurtosis:                       2.357   Cond. No.                         50.4\n",
      "==============================================================================\n",
      "\n",
      "Notes:\n",
      "[1] Standard Errors assume that the covariance matrix of the errors is correctly specified.\n"
     ]
    },
    {
     "name": "stderr",
     "output_type": "stream",
     "text": [
      "/home/tlxuong/.local/lib/python3.9/site-packages/scipy/stats/stats.py:1541: UserWarning: kurtosistest only valid for n>=20 ... continuing anyway, n=10\n",
      "  warnings.warn(\"kurtosistest only valid for n>=20 ... continuing \"\n"
     ]
    }
   ],
   "source": [
    "print(result.summary())"
   ]
  },
  {
   "cell_type": "markdown",
   "id": "47a5ea8c-024d-46fc-9509-418eaeb09c51",
   "metadata": {},
   "source": [
    "## Ý nghĩa của các hệ số hồi quy ước lượng được?"
   ]
  },
  {
   "cell_type": "markdown",
   "id": "bfed3fb5-5828-4db7-81e7-c3850f60ca79",
   "metadata": {},
   "source": [
    "Xét hàm hồi quy\n",
    "$$\n",
    "y = 93.1642 - 9.5323x\n",
    "$$\n",
    "\n",
    "với $\\beta_0 = 93.1642, \\beta_1 = -9.5323$. Ý nghĩa của các hệ số hồi quy lần lượt như sau:\n",
    "\n",
    "- $\\beta_1 = -9.5323$: trong điều kiện các yếu tố khác không đổi, khi tăng (giảm) lãi suất 1%/năm thì tổng vốn đầu tư trung bình sẽ giảm (tăng) 9.5323 tỉ đồng.\n",
    "- $\\beta_0 = 93.1642$: trong điều kiện các yếu tố khác không đổi, khi lãi suất là 0%/năm thì tổng vốn đầu tư trung bình của tỉnh A là 93.1642 tỉ đồng."
   ]
  },
  {
   "cell_type": "markdown",
   "id": "c3d0acde-9a93-472c-8e13-1979058cae82",
   "metadata": {},
   "source": [
    "## Đánh giá mức độ phù hợp của mô hình?"
   ]
  },
  {
   "cell_type": "markdown",
   "id": "5a6cb4b6-869d-4dd0-a976-60f4b2220879",
   "metadata": {},
   "source": [
    "Để đánh giá mức độ phù hợp của mô hình, ta cần phải tính các đại lượng $TSS, ESS$ và $R^2$ của mô hình đó. \n",
    "\n",
    "Ta có:\n",
    "\n",
    "$$\n",
    "\\displaystyle\n",
    "TSS = \\sum_{i = 1}^{n} (y_i - \\bar{y})^2\n",
    "$$\n",
    "$$\n",
    "\\displaystyle\n",
    "ESS = \\sum_{i = 1}^{n} (\\hat{y}_i - \\bar{y})^2\n",
    "$$\n",
    "$$\n",
    "\\displaystyle\n",
    "R^2 = \\frac{ESS}{TSS}\n",
    "$$"
   ]
  },
  {
   "cell_type": "code",
   "execution_count": 10,
   "id": "e14aed28-e9b0-42e6-af23-d689259f3864",
   "metadata": {},
   "outputs": [],
   "source": [
    "tss = np.sum((df[\"Y\"] - mean_y)**2)\n",
    "ess = np.sum(((beta_0 + beta_1 * df[\"X\"]) - mean_y)**2)\n",
    "r_squared = ess / tss"
   ]
  },
  {
   "cell_type": "code",
   "execution_count": 11,
   "id": "3351e263-17be-4e24-b847-6b6bbaf1f6e5",
   "metadata": {},
   "outputs": [
    {
     "name": "stdout",
     "output_type": "stream",
     "text": [
      "Giá trị R^2: 0.9198\n"
     ]
    }
   ],
   "source": [
    "print(f\"Giá trị R^2: {r_squared:.4f}\")"
   ]
  },
  {
   "cell_type": "markdown",
   "id": "2e6931a6-47fa-4873-ba5e-dd3003856e68",
   "metadata": {},
   "source": [
    "Chỉ số $R^2 = 91,98\\%$ thể hiện mô hình hồi quy có thể đưa ra giải thích cho $91,98\\%$ tống vốn đầu tư $Y$ của tỉnh A dựa trên lãi suất hàng năm $X$. Chỉ số này khá cao, nên ta có thể nhận định mô hình hồi quy đưa ra là tương đối phù hợp cho tập dữ liệu này."
   ]
  },
  {
   "cell_type": "markdown",
   "id": "58aca63b-9207-49a6-ac4e-b9b09864e11a",
   "metadata": {},
   "source": [
    "# Câu 2"
   ]
  },
  {
   "cell_type": "markdown",
   "id": "7808484b-90c6-4836-b09e-5fe798908377",
   "metadata": {},
   "source": [
    "## Kiểm định giả thuyết \"Hệ số hồi quy của $X$ trong hàm hồi quy tổng thể bằng $0$ với mức ý nghĩa $2\\%$\""
   ]
  },
  {
   "cell_type": "markdown",
   "id": "f0baacdf-5cc9-4abe-b2e3-381d42c76bb8",
   "metadata": {},
   "source": [
    "Khi đó:\n",
    "\n",
    "- $H_0: \\beta_1 = \\beta$\n",
    "- $H_a: \\beta_1 \\neq \\beta$\n",
    "\n",
    "Với $\\beta$ trong trường hợp này bằng $0$; mức ý nghĩa $2\\%\\ (\\alpha = 0.02)$. Giả thuyết $H_0$ bị bác bỏ khi $p$-value của $\\beta_1$ < $\\alpha$\n",
    "\n",
    "Ta cần tính giá trị $p$-value của $\\beta_1$, trong đó $p$-value dựa vào giá trị $t$ của $\\beta_1$ có công thức như sau:\n",
    "\n",
    "$$\n",
    "t=\\frac{\\beta_1 - \\beta}{se(\\beta_1)}\n",
    "$$\n",
    "$$\n",
    "se(\\beta_1)=\\sqrt{\\frac{1}{n - 2}\\frac{\\sum_{i = 1}^n(y_i - \\hat{y}_i)^2}{\\sum_{i = 1}^n (x_i - \\bar{x}_i) ^ 2}}\n",
    "$$"
   ]
  },
  {
   "cell_type": "code",
   "execution_count": 12,
   "id": "8940d981-021c-4d68-8376-81d81d919599",
   "metadata": {},
   "outputs": [],
   "source": [
    "s_2 = np.sum((df[\"Y\"] - (beta_1 * df[\"X\"] + beta_0))**2) / (df.shape[0] - 2)\n",
    "se_beta_1 = np.sqrt(s_2 / np.sum((df[\"X\"] - mean_x) ** 2))"
   ]
  },
  {
   "cell_type": "code",
   "execution_count": 13,
   "id": "256f8fce-289c-48df-81b4-0f19a25990ab",
   "metadata": {},
   "outputs": [],
   "source": [
    "t = beta_1 / se_beta_1"
   ]
  },
  {
   "cell_type": "code",
   "execution_count": 14,
   "id": "c3e5b3e5-a9d0-4418-bb38-6cbe4d59542b",
   "metadata": {},
   "outputs": [
    {
     "name": "stdout",
     "output_type": "stream",
     "text": [
      "se_beta_1: 0.9950\n"
     ]
    }
   ],
   "source": [
    "print(f\"se_beta_1: {se_beta_1:.4f}\")"
   ]
  },
  {
   "cell_type": "code",
   "execution_count": 15,
   "id": "c78fcbba-fa38-4cd8-bd24-1b2739bf2461",
   "metadata": {},
   "outputs": [],
   "source": [
    "# Dùng stats.t.cdf để tính p-value của t_statistic với hệ số tự do df = 10 (sample) - 2 (biến) = 8.\n",
    "p_value = stats.t.cdf(t, df = df.shape[0] - 2)"
   ]
  },
  {
   "cell_type": "code",
   "execution_count": 16,
   "id": "ec854aad-889d-47f9-aa29-ac1aa20181dd",
   "metadata": {},
   "outputs": [
    {
     "name": "stdout",
     "output_type": "stream",
     "text": [
      "Giá trị t-value: -9.5800, giá trị p-value của beta_1 = 0.000005841\n"
     ]
    }
   ],
   "source": [
    "print(f\"Giá trị t-value: {t:.4f}, giá trị p-value của beta_1 = {p_value:.9f}\")"
   ]
  },
  {
   "cell_type": "code",
   "execution_count": 17,
   "id": "0c5e093f-4772-47b6-ac11-07887cc52c43",
   "metadata": {},
   "outputs": [
    {
     "name": "stdout",
     "output_type": "stream",
     "text": [
      "p_value < alpha? True\n"
     ]
    }
   ],
   "source": [
    "alpha = .02\n",
    "print(f\"p_value < alpha? {p_value < alpha}\")"
   ]
  },
  {
   "cell_type": "markdown",
   "id": "68adb48a-422e-4067-9583-e215d577f122",
   "metadata": {},
   "source": [
    "Giá trị $p$-value < $\\alpha$, khi đó ta có thể bác bỏ giả thuyết $H_0$."
   ]
  },
  {
   "cell_type": "markdown",
   "id": "867871dc-acdc-46f4-ac42-d1b05fd61735",
   "metadata": {},
   "source": [
    "## Nêu ý nghĩa của kết quả?"
   ]
  },
  {
   "cell_type": "markdown",
   "id": "0984b14f-4378-411a-9e75-348de438e873",
   "metadata": {},
   "source": [
    "Đối với mô hình hồi quy được đề xuất, với mức ý nghĩa $2\\%$:\n",
    "\n",
    "- Giữa biến ngẫu nhiên $X$ và biến phụ thuộc $Y$ có mối quan hệ có ý nghĩa về thống kê.\n",
    "- Trong ngữ cảnh bài toán, giữa yếu tố lãi suất trong năm $X$ và tổng vốn đầu tư $Y$ của tỉnh A có sự phụ thuộc với nhau."
   ]
  },
  {
   "cell_type": "markdown",
   "id": "cf4afb88-800f-47d0-81ba-208cc093ca01",
   "metadata": {},
   "source": [
    "# Câu 3"
   ]
  },
  {
   "cell_type": "markdown",
   "id": "e597938a-c24b-472d-9090-bcd1804f4665",
   "metadata": {},
   "source": [
    "## Dự báo tổng vốn đầu tư trung bình khi lãi suất là $4.8\\%$/năm với độ tin cậy $98\\%$"
   ]
  },
  {
   "cell_type": "markdown",
   "id": "1c4d713e-6277-420d-8a1b-d77c7dc1591d",
   "metadata": {},
   "source": [
    "Khoảng tin cậy $98\\%$ cho giá trị trung bình dự báo tổng vốn đầu tư với lãi suất là $4.8\\%$/năm và độ tin cậy $98\\%$ (mức ý nghĩa $\\alpha = 0.02$) có công thức như sau:\n",
    "\n",
    "$$\n",
    "\\left[\\hat{y}-se(\\hat{y})\\times t\\left(1-\\frac{\\alpha}{2}, n-2\\right), \\hat{y}+se(\\hat{y})\\times t\\left(1-\\frac{\\alpha}{2}, n-2\\right) \\right]\n",
    "$$\n",
    "\n",
    "Với $\\hat{y}$ là giá trị dự báo tổng vốn đầu tư trung bình khi lãi suất là $4.8\\%$/năm. $se(\\hat{y})$ được tính như sau:\n",
    "\n",
    "$$\n",
    "se(\\hat{y})=\\sqrt{\\hat{\\sigma}^2\\left[\\frac{1}{n} + \\frac{(x - \\bar{x})^2}{\\sum_{i = 1}^n (x_i - \\bar{x})^2}\\right]}\n",
    "$$\n",
    "$$\n",
    "\\hat{\\sigma}^2 = \\frac{1}{n - 2}\\sum_{i = 1}^{n}(y_i - \\hat{y}_i)^2\n",
    "$$"
   ]
  },
  {
   "cell_type": "markdown",
   "id": "e1b5111a-adfc-4633-b6ed-3eb2a4923fad",
   "metadata": {},
   "source": [
    "Giá trị dự báo tổng vốn đầu tư trung bình $\\hat{y}$ khi lãi suất $x = 4.8$ *(%/năm)*:"
   ]
  },
  {
   "cell_type": "code",
   "execution_count": 18,
   "id": "1f3bdfd0-7907-4832-9c3c-2810c71c5d2e",
   "metadata": {},
   "outputs": [],
   "source": [
    "y_hat = beta_0 + beta_1 * 4.8"
   ]
  },
  {
   "cell_type": "code",
   "execution_count": 19,
   "id": "85b6a035-6ad5-489a-9f7b-11beae37683c",
   "metadata": {},
   "outputs": [
    {
     "name": "stdout",
     "output_type": "stream",
     "text": [
      "Tổng vốn đầu tư trung bình: 47.4090 (tỉ đồng)\n"
     ]
    }
   ],
   "source": [
    "print(f\"Tổng vốn đầu tư trung bình: {y_hat:.4f} (tỉ đồng)\")"
   ]
  },
  {
   "cell_type": "code",
   "execution_count": 20,
   "id": "10388a59-0a85-45fc-adaf-cbcf2d8f37d1",
   "metadata": {},
   "outputs": [],
   "source": [
    "alpha = .02"
   ]
  },
  {
   "cell_type": "markdown",
   "id": "30e6e7aa-57b8-4217-8d12-ee7d7b2f8341",
   "metadata": {},
   "source": [
    "Giá trị $t\\left(1-\\frac{\\alpha}{2}, n - 2\\right)$:"
   ]
  },
  {
   "cell_type": "code",
   "execution_count": 21,
   "id": "46a52629-b688-46d9-a5b8-0d551a213a31",
   "metadata": {},
   "outputs": [],
   "source": [
    "t_value_alpha = stats.t.cdf(1 - alpha / 2, df.shape[0] - 2) "
   ]
  },
  {
   "cell_type": "code",
   "execution_count": 22,
   "id": "2595385d-461b-4b7d-8e00-9887da6d1973",
   "metadata": {},
   "outputs": [
    {
     "data": {
      "text/plain": [
       "0.8244157820270234"
      ]
     },
     "execution_count": 22,
     "metadata": {},
     "output_type": "execute_result"
    }
   ],
   "source": [
    "t_value_alpha"
   ]
  },
  {
   "cell_type": "markdown",
   "id": "d81e56cb-38e5-447f-ab4a-0e11d80eac0e",
   "metadata": {},
   "source": [
    "Giá trị $\\hat{\\sigma}^2$:"
   ]
  },
  {
   "cell_type": "code",
   "execution_count": 23,
   "id": "6bf1b7c2-39c6-41fb-a42a-42bb11158b42",
   "metadata": {},
   "outputs": [],
   "source": [
    "sigma_hat_square = np.sum((df[\"Y\"] - (beta_0 + beta_1 * df[\"X\"])) ** 2) / (df.shape[0] - 2)"
   ]
  },
  {
   "cell_type": "code",
   "execution_count": 24,
   "id": "9c3c5778-f5f9-4ff2-bfa2-3cd3de75c798",
   "metadata": {},
   "outputs": [
    {
     "data": {
      "text/plain": [
       "4.975124378109447"
      ]
     },
     "execution_count": 24,
     "metadata": {},
     "output_type": "execute_result"
    }
   ],
   "source": [
    "sigma_hat_square"
   ]
  },
  {
   "cell_type": "markdown",
   "id": "23678dc1-a33e-4443-930c-e19eec1d1297",
   "metadata": {},
   "source": [
    "Giá trị $se(\\hat{y})$:"
   ]
  },
  {
   "cell_type": "code",
   "execution_count": 25,
   "id": "90b5b77a-0f65-40ba-a327-c5fa8c8705a1",
   "metadata": {},
   "outputs": [],
   "source": [
    "se_y_hat = np.sqrt(sigma_hat_square * ((1/df.shape[0]) + (((4.8 - mean_x)**2) / np.sum((df[\"X\"] - mean_x) ** 2))))"
   ]
  },
  {
   "cell_type": "code",
   "execution_count": 26,
   "id": "b6ba5739-37af-439f-9ec4-38e064f0b145",
   "metadata": {},
   "outputs": [
    {
     "data": {
      "text/plain": [
       "1.2605830307781014"
      ]
     },
     "execution_count": 26,
     "metadata": {},
     "output_type": "execute_result"
    }
   ],
   "source": [
    "se_y_hat"
   ]
  },
  {
   "cell_type": "code",
   "execution_count": 27,
   "id": "88b630d4-ea83-455c-9377-de9c55c3658c",
   "metadata": {},
   "outputs": [
    {
     "name": "stdout",
     "output_type": "stream",
     "text": [
      "Khoảng tin cậy 98% cho dự báo tổng vốn đầu tư trung bình: [46.3697, 48.4482]\n"
     ]
    }
   ],
   "source": [
    "print(f\"Khoảng tin cậy 98% cho dự báo tổng vốn đầu tư trung bình: [{(y_hat - se_y_hat * t_value_alpha):.4f}, {(y_hat + se_y_hat * t_value_alpha):.4f}]\")"
   ]
  },
  {
   "cell_type": "markdown",
   "id": "c3cf01ca-36fa-4a53-a6fe-39aca86b4888",
   "metadata": {
    "slideshow": {
     "slide_type": ""
    },
    "tags": []
   },
   "source": [
    "Vậy, khoảng tin cậy $98\\%$ cho dự báo tổng vốn đầu tư trung bình với lãi suất $4.8\\%$/năm là $[46.1484, 48.6695]$ *(đơn vị: tỉ đồng)*"
   ]
  }
 ],
 "metadata": {
  "authors": [
   {
    "name": "Trần Hoàng Quân"
   }
  ],
  "kernelspec": {
   "display_name": "Python 3 (ipykernel)",
   "language": "python",
   "name": "python3"
  },
  "language_info": {
   "codemirror_mode": {
    "name": "ipython",
    "version": 3
   },
   "file_extension": ".py",
   "mimetype": "text/x-python",
   "name": "python",
   "nbconvert_exporter": "python",
   "pygments_lexer": "ipython3",
   "version": "3.9.7"
  },
  "title": "Bài tập tuần 5"
 },
 "nbformat": 4,
 "nbformat_minor": 5
}
